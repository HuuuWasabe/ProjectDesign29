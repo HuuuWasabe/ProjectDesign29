{
 "cells": [
  {
   "cell_type": "markdown",
   "metadata": {},
   "source": [
    "# X3D (eXpanded 3D) Implementation - Design Alternative 1"
   ]
  },
  {
   "cell_type": "markdown",
   "metadata": {},
   "source": [
    "`Warning:` Do not run all the code, read the notes first before running them as they may reduce your device's memory when not careful, leading to a kernel crash or Out-Of-Memory (OOM) Error, sige ka magla-lag yang pc mo"
   ]
  },
  {
   "cell_type": "markdown",
   "metadata": {},
   "source": [
    "`Note`: Isipin mo alternate universe na training toh"
   ]
  },
  {
   "cell_type": "markdown",
   "metadata": {},
   "source": [
    "**Local System Specifications used to train the model:** <br>\n",
    "| Component  | Device   |\n",
    "| :------------- | :--------------- | \n",
    "| CPU   | AMD Ryzen 5 5600x     | \n",
    "| GPU   | Nvidia GeForce RTX 3070  8GB   | \n",
    "| RAM   | 32 GB     | \n"
   ]
  },
  {
   "cell_type": "markdown",
   "metadata": {},
   "source": [
    "`Note`: This notebook's codes will come from [PytorchVideo](https://pytorchvideo.org/docs/tutorial_overview) and from this Talha Anwar's [YouTube Playlist](https://www.youtube.com/playlist?list=PLtGXgNsNHqPRAscIi6dMUuPCfDQ1Vho2U)"
   ]
  },
  {
   "cell_type": "markdown",
   "metadata": {},
   "source": [
    "#### Import Libraries"
   ]
  },
  {
   "cell_type": "code",
   "execution_count": 2,
   "metadata": {},
   "outputs": [],
   "source": [
    "import sys\n",
    "sys.path.append('pytorchvideo')\n",
    "import torchvision.transforms.functional as F_t\n",
    "\n",
    "sys.modules[\"torchvision.transforms.functional_tensor\"] = F_t\n",
    "import pytorchvideo\n",
    "from pytorchvideo.data import *\n",
    "import pytorch_lightning\n",
    "import torchmetrics\n",
    "import torch\n",
    "\n",
    "import pandas as pd\n",
    "import pathlib\n",
    "import os\n",
    "import numpy as np\n",
    "import matplotlib.pyplot as plt"
   ]
  },
  {
   "cell_type": "code",
   "execution_count": 3,
   "metadata": {},
   "outputs": [
    {
     "data": {
      "text/plain": [
       "(True, 'NVIDIA GeForce RTX 3070')"
      ]
     },
     "execution_count": 3,
     "metadata": {},
     "output_type": "execute_result"
    }
   ],
   "source": [
    "torch.cuda.is_available(), torch.cuda.get_device_name() # Check if GPU is available"
   ]
  },
  {
   "cell_type": "code",
   "execution_count": 4,
   "metadata": {},
   "outputs": [],
   "source": [
    "#pathlib.PosixPath = pathlib.WindowsPath # For windows only"
   ]
  },
  {
   "cell_type": "markdown",
   "metadata": {},
   "source": [
    "#### Prepare the dataset"
   ]
  },
  {
   "cell_type": "code",
   "execution_count": 5,
   "metadata": {},
   "outputs": [],
   "source": [
    "dataset_dir = pathlib.Path(\"./PD_Dataset\")"
   ]
  },
  {
   "cell_type": "code",
   "execution_count": 6,
   "metadata": {},
   "outputs": [],
   "source": [
    "def renameFile():\n",
    "    for file_path in dataset_dir.rglob(\"*.avi\"):\n",
    "        # Get the parent directory name and clean it up\n",
    "        dir_name_clean = file_path.parent.name.replace(\" \", \"_\")\n",
    "        # Clean the file name by replacing spaces with underscores\n",
    "        file_clean = file_path.name.replace(\" \", \"_\")\n",
    "        \n",
    "        # Create the new file name\n",
    "        new_name = f\"{dir_name_clean}_{file_clean}\"\n",
    "        new_path = file_path.parent / new_name\n",
    "        \n",
    "        print(f\"Renaming: {file_path} -> {new_path}\")\n",
    "        file_path.rename(new_path)"
   ]
  },
  {
   "cell_type": "code",
   "execution_count": 7,
   "metadata": {},
   "outputs": [],
   "source": [
    "#renameFile() #run once..."
   ]
  },
  {
   "cell_type": "code",
   "execution_count": 8,
   "metadata": {},
   "outputs": [
    {
     "name": "stdout",
     "output_type": "stream",
     "text": [
      "[0, 0, 0, 0, 0, 0, 0, 0, 0, 0, 0, 0, 0, 0, 0, 0, 0, 0, 0, 0, 0, 0, 0, 0, 0, 0, 0, 0, 0, 0, 0, 0, 0, 0, 0, 0, 0, 0, 0, 0, 0, 0, 0, 0, 0, 0, 0, 0, 0, 0, 0, 0, 0, 0, 0, 0, 0, 0, 0, 0, 0, 0, 0, 0, 0, 0, 0, 0, 0, 0, 0, 0, 0, 0, 0, 0, 0, 0, 0, 0, 0, 0, 0, 0, 0, 0, 0, 0, 0, 0, 0, 0, 0, 0, 0, 0, 0, 0, 0, 0, 0, 0, 0, 0, 0, 0, 0, 0, 0, 0, 0, 0, 0, 0, 0, 0, 0, 0, 0, 0, 0, 0, 0, 1, 1, 1, 1, 1, 1, 1, 1, 1, 1, 1, 1, 1, 1, 1, 1, 1, 1, 1, 1, 1, 1, 1, 1, 1, 1, 1, 1, 1, 1, 1, 1, 1, 1, 1, 1, 1, 1, 1, 1, 1, 1, 1, 1, 1, 1, 1, 1, 1, 1, 1, 1, 1, 1, 1, 1, 1, 1, 1, 1, 1, 1, 1, 1, 1, 1, 1, 1, 1, 1, 1, 1, 1, 1, 1, 1, 1, 1, 1, 1, 1, 1, 1, 1, 1, 1, 1, 1, 1, 1, 1, 1, 1, 1, 1, 1, 1, 1, 1, 1, 1, 1, 1, 1, 1, 1, 1, 1, 1, 1, 1, 1, 1, 1, 1, 1, 1, 1, 1, 1, 1, 1, 1, 1, 2, 2, 2, 2, 2, 2, 2, 2, 2, 2, 2, 2, 2, 2, 2, 2, 2, 2, 2, 2, 2, 2, 2, 2, 2, 2, 2, 2, 2, 2, 2, 2, 2, 2, 2, 2, 2, 2, 2, 2, 2, 2, 2, 2, 2, 2, 2, 2, 2, 2, 2, 2, 2, 2, 2, 2, 2, 2, 2, 2, 2, 2, 2, 2, 2, 2, 2, 2, 2, 2, 2, 2, 2, 2, 2, 2, 2, 2, 2, 2, 2, 2, 2, 2, 2, 2, 2, 2, 2, 2, 2, 2, 2, 2, 2, 2, 2, 2, 2, 2, 2, 2, 2, 2, 2, 2, 2, 2, 2, 2, 2, 2, 2, 2, 2, 2, 2, 2, 2, 2, 2, 2, 2, 2, 2, 3, 3, 3, 3, 3, 3, 3, 3, 3, 3, 3, 3, 3, 3, 3, 3, 3, 3, 3, 3, 3, 3, 3, 3, 3, 3, 3, 3, 3, 3, 3, 3, 3, 3, 3, 3, 3, 3, 3, 3, 3, 3, 3, 3, 3, 3, 3, 3, 3, 3, 3, 3, 3, 3, 3, 3, 3, 3, 3, 3, 3, 3, 3, 3, 3, 3, 3, 3, 3, 3, 3, 3, 3, 3, 3, 3, 3, 3, 3, 3, 3, 3, 3, 3, 3, 3, 3, 3, 3, 3, 3, 3, 3, 3, 3, 3, 3, 3, 3, 3, 3, 3, 3, 3, 3, 3, 3, 3, 3, 3, 3, 3, 3, 3, 3, 3, 3, 3, 3, 3, 3, 3, 3, 3, 3, 3, 3, 3, 3, 3, 3, 3, 3, 3, 3, 3, 3, 3, 3, 3, 3, 3, 3, 3, 3, 3, 3, 3, 3, 3, 3, 3, 3, 3, 3, 3, 3, 4, 4, 4, 4, 4, 4, 4, 4, 4, 4, 4, 4, 4, 4, 4, 4, 4, 4, 4, 4, 4, 4, 4, 4, 4, 4, 4, 4, 4, 4, 4, 4, 4, 4, 4, 4, 4, 4, 4, 4, 4, 4, 4, 4, 4, 4, 4, 4, 4, 4, 4, 4, 4, 4, 4, 4, 4, 4, 4, 4, 4, 4, 4, 4, 4, 4, 4, 4, 4, 4, 4, 4, 4, 4, 4, 4, 4, 4, 4, 4, 4, 4, 4, 4, 4, 4, 4, 4, 4, 4, 4, 4, 4, 4, 4, 4, 4, 4, 4, 4, 4, 4, 4, 4, 4, 4, 4, 4, 4, 4, 4, 4, 4, 4, 4, 4, 4, 4, 4, 4, 4, 4, 4, 4, 4, 4, 4, 4, 4, 4, 4, 4]\n",
      "[PosixPath('PD_Dataset/BarbellCurl/BarbellCurl_barbell_curls_(11).avi'), PosixPath('PD_Dataset/BarbellCurl/BarbellCurl_barbell_curls_(12).avi'), PosixPath('PD_Dataset/BarbellCurl/BarbellCurl_barbell_curls_(13).avi'), PosixPath('PD_Dataset/BarbellCurl/BarbellCurl_barbell_curls_(14).avi'), PosixPath('PD_Dataset/BarbellCurl/BarbellCurl_barbell_curls_(15).avi'), PosixPath('PD_Dataset/BarbellCurl/BarbellCurl_barbell_curls_(16).avi'), PosixPath('PD_Dataset/BarbellCurl/BarbellCurl_barbell_curls_(17).avi'), PosixPath('PD_Dataset/BarbellCurl/BarbellCurl_barbell_curls_(18).avi'), PosixPath('PD_Dataset/BarbellCurl/BarbellCurl_barbell_curls_(19).avi'), PosixPath('PD_Dataset/BarbellCurl/BarbellCurl_barbell_curls_(2).avi'), PosixPath('PD_Dataset/BarbellCurl/BarbellCurl_barbell_curls_(20).avi'), PosixPath('PD_Dataset/BarbellCurl/BarbellCurl_barbell_curls_(21).avi'), PosixPath('PD_Dataset/BarbellCurl/BarbellCurl_barbell_curls_(22).avi'), PosixPath('PD_Dataset/BarbellCurl/BarbellCurl_barbell_curls_(24).avi'), PosixPath('PD_Dataset/BarbellCurl/BarbellCurl_barbell_curls_(25).avi'), PosixPath('PD_Dataset/BarbellCurl/BarbellCurl_barbell_curls_(26).avi'), PosixPath('PD_Dataset/BarbellCurl/BarbellCurl_barbell_curls_(27).avi'), PosixPath('PD_Dataset/BarbellCurl/BarbellCurl_barbell_curls_(28).avi'), PosixPath('PD_Dataset/BarbellCurl/BarbellCurl_barbell_curls_(29).avi'), PosixPath('PD_Dataset/BarbellCurl/BarbellCurl_barbell_curls_(3).avi'), PosixPath('PD_Dataset/BarbellCurl/BarbellCurl_barbell_curls_(30).avi'), PosixPath('PD_Dataset/BarbellCurl/BarbellCurl_barbell_curls_(31).avi'), PosixPath('PD_Dataset/BarbellCurl/BarbellCurl_barbell_curls_(32).avi'), PosixPath('PD_Dataset/BarbellCurl/BarbellCurl_barbell_curls_(33).avi'), PosixPath('PD_Dataset/BarbellCurl/BarbellCurl_barbell_curls_(34).avi'), PosixPath('PD_Dataset/BarbellCurl/BarbellCurl_barbell_curls_(35).avi'), PosixPath('PD_Dataset/BarbellCurl/BarbellCurl_barbell_curls_(103).avi'), PosixPath('PD_Dataset/BarbellCurl/BarbellCurl_barbell_curls_(23).avi'), PosixPath('PD_Dataset/BarbellCurl/BarbellCurl_barbell_curls_(36).avi'), PosixPath('PD_Dataset/BarbellCurl/BarbellCurl_barbell_curls_(49).avi'), PosixPath('PD_Dataset/BarbellCurl/BarbellCurl_barbell_curls_(61).avi'), PosixPath('PD_Dataset/BarbellCurl/BarbellCurl_barbell_curls_(74).avi'), PosixPath('PD_Dataset/BarbellCurl/BarbellCurl_barbell_curls_(87).avi'), PosixPath('PD_Dataset/BarbellCurl/BarbellCurl_[SHANA]BarbellCurls_1.avi'), PosixPath('PD_Dataset/BarbellCurl/BarbellCurl_barbell_curls_(37).avi'), PosixPath('PD_Dataset/BarbellCurl/BarbellCurl_barbell_curls_(38).avi'), PosixPath('PD_Dataset/BarbellCurl/BarbellCurl_barbell_curls_(39).avi'), PosixPath('PD_Dataset/BarbellCurl/BarbellCurl_barbell_curls_(4).avi'), PosixPath('PD_Dataset/BarbellCurl/BarbellCurl_barbell_curls_(40).avi'), PosixPath('PD_Dataset/BarbellCurl/BarbellCurl_barbell_curls_(41).avi'), PosixPath('PD_Dataset/BarbellCurl/BarbellCurl_barbell_curls_(42).avi'), PosixPath('PD_Dataset/BarbellCurl/BarbellCurl_barbell_curls_(43).avi'), PosixPath('PD_Dataset/BarbellCurl/BarbellCurl_barbell_curls_(44).avi'), PosixPath('PD_Dataset/BarbellCurl/BarbellCurl_barbell_curls_(45).avi'), PosixPath('PD_Dataset/BarbellCurl/BarbellCurl_barbell_curls_(46).avi'), PosixPath('PD_Dataset/BarbellCurl/BarbellCurl_barbell_curls_(47).avi'), PosixPath('PD_Dataset/BarbellCurl/BarbellCurl_barbell_curls_(48).avi'), PosixPath('PD_Dataset/BarbellCurl/BarbellCurl_barbell_curls_(5).avi'), PosixPath('PD_Dataset/BarbellCurl/BarbellCurl_barbell_curls_(50).avi'), PosixPath('PD_Dataset/BarbellCurl/BarbellCurl_barbell_curls_(51).avi'), PosixPath('PD_Dataset/BarbellCurl/BarbellCurl_barbell_curls_(52).avi'), PosixPath('PD_Dataset/BarbellCurl/BarbellCurl_barbell_curls_(53).avi'), PosixPath('PD_Dataset/BarbellCurl/BarbellCurl_barbell_curls_(54).avi'), PosixPath('PD_Dataset/BarbellCurl/BarbellCurl_barbell_curls_(55).avi'), PosixPath('PD_Dataset/BarbellCurl/BarbellCurl_barbell_curls_(56).avi'), PosixPath('PD_Dataset/BarbellCurl/BarbellCurl_barbell_curls_(57).avi'), PosixPath('PD_Dataset/BarbellCurl/BarbellCurl_barbell_curls_(58).avi'), PosixPath('PD_Dataset/BarbellCurl/BarbellCurl_barbell_curls_(59).avi'), PosixPath('PD_Dataset/BarbellCurl/BarbellCurl_barbell_curls_(6).avi'), PosixPath('PD_Dataset/BarbellCurl/BarbellCurl_barbell_curls_(60).avi'), PosixPath('PD_Dataset/BarbellCurl/BarbellCurl_barbell_curls_(62).avi'), PosixPath('PD_Dataset/BarbellCurl/BarbellCurl_barbell_curls_(63).avi'), PosixPath('PD_Dataset/BarbellCurl/BarbellCurl_barbell_curls_(64).avi'), PosixPath('PD_Dataset/BarbellCurl/BarbellCurl_barbell_curls_(65).avi'), PosixPath('PD_Dataset/BarbellCurl/BarbellCurl_barbell_curls_(66).avi'), PosixPath('PD_Dataset/BarbellCurl/BarbellCurl_barbell_curls_(67).avi'), PosixPath('PD_Dataset/BarbellCurl/BarbellCurl_barbell_curls_(68).avi'), PosixPath('PD_Dataset/BarbellCurl/BarbellCurl_barbell_curls_(69).avi'), PosixPath('PD_Dataset/BarbellCurl/BarbellCurl_barbell_curls_(7).avi'), PosixPath('PD_Dataset/BarbellCurl/BarbellCurl_barbell_curls_(70).avi'), PosixPath('PD_Dataset/BarbellCurl/BarbellCurl_barbell_curls_(71).avi'), PosixPath('PD_Dataset/BarbellCurl/BarbellCurl_barbell_curls_(72).avi'), PosixPath('PD_Dataset/BarbellCurl/BarbellCurl_barbell_curls_(73).avi'), PosixPath('PD_Dataset/BarbellCurl/BarbellCurl_barbell_curls_(1).avi'), PosixPath('PD_Dataset/BarbellCurl/BarbellCurl_barbell_curls_(10).avi'), PosixPath('PD_Dataset/BarbellCurl/BarbellCurl_barbell_curls_(100).avi'), PosixPath('PD_Dataset/BarbellCurl/BarbellCurl_barbell_curls_(101).avi'), PosixPath('PD_Dataset/BarbellCurl/BarbellCurl_barbell_curls_(102).avi'), PosixPath('PD_Dataset/BarbellCurl/BarbellCurl_barbell_curls_(75).avi'), PosixPath('PD_Dataset/BarbellCurl/BarbellCurl_barbell_curls_(76).avi'), PosixPath('PD_Dataset/BarbellCurl/BarbellCurl_barbell_curls_(77).avi'), PosixPath('PD_Dataset/BarbellCurl/BarbellCurl_barbell_curls_(78).avi'), PosixPath('PD_Dataset/BarbellCurl/BarbellCurl_barbell_curls_(79).avi'), PosixPath('PD_Dataset/BarbellCurl/BarbellCurl_barbell_curls_(8).avi'), PosixPath('PD_Dataset/BarbellCurl/BarbellCurl_barbell_curls_(80).avi'), PosixPath('PD_Dataset/BarbellCurl/BarbellCurl_barbell_curls_(81).avi'), PosixPath('PD_Dataset/BarbellCurl/BarbellCurl_barbell_curls_(82).avi'), PosixPath('PD_Dataset/BarbellCurl/BarbellCurl_barbell_curls_(83).avi'), PosixPath('PD_Dataset/BarbellCurl/BarbellCurl_barbell_curls_(84).avi'), PosixPath('PD_Dataset/BarbellCurl/BarbellCurl_barbell_curls_(85).avi'), PosixPath('PD_Dataset/BarbellCurl/BarbellCurl_barbell_curls_(86).avi'), PosixPath('PD_Dataset/BarbellCurl/BarbellCurl_barbell_curls_(88).avi'), PosixPath('PD_Dataset/BarbellCurl/BarbellCurl_barbell_curls_(89).avi'), PosixPath('PD_Dataset/BarbellCurl/BarbellCurl_barbell_curls_(9).avi'), PosixPath('PD_Dataset/BarbellCurl/BarbellCurl_barbell_curls_(90).avi'), PosixPath('PD_Dataset/BarbellCurl/BarbellCurl_barbell_curls_(91).avi'), PosixPath('PD_Dataset/BarbellCurl/BarbellCurl_barbell_curls_(92).avi'), PosixPath('PD_Dataset/BarbellCurl/BarbellCurl_barbell_curls_(93).avi'), PosixPath('PD_Dataset/BarbellCurl/BarbellCurl_barbell_curls_(94).avi'), PosixPath('PD_Dataset/BarbellCurl/BarbellCurl_barbell_curls_(95).avi'), PosixPath('PD_Dataset/BarbellCurl/BarbellCurl_barbell_curls_(96).avi'), PosixPath('PD_Dataset/BarbellCurl/BarbellCurl_barbell_curls_(97).avi'), PosixPath('PD_Dataset/BarbellCurl/BarbellCurl_barbell_curls_(98).avi'), PosixPath('PD_Dataset/BarbellCurl/BarbellCurl_barbell_curls_(99).avi'), PosixPath('PD_Dataset/BarbellCurl/BarbellCurl_[SHANA]BarbellCurls_10.avi'), PosixPath('PD_Dataset/BarbellCurl/BarbellCurl_[SHANA]BarbellCurls_11.avi'), PosixPath('PD_Dataset/BarbellCurl/BarbellCurl_[SHANA]BarbellCurls_12.avi'), PosixPath('PD_Dataset/BarbellCurl/BarbellCurl_[SHANA]BarbellCurls_13.avi'), PosixPath('PD_Dataset/BarbellCurl/BarbellCurl_[SHANA]BarbellCurls_14.avi'), PosixPath('PD_Dataset/BarbellCurl/BarbellCurl_[SHANA]BarbellCurls_15.avi'), PosixPath('PD_Dataset/BarbellCurl/BarbellCurl_[SHANA]BarbellCurls_16.avi'), PosixPath('PD_Dataset/BarbellCurl/BarbellCurl_[SHANA]BarbellCurls_17.avi'), PosixPath('PD_Dataset/BarbellCurl/BarbellCurl_[SHANA]BarbellCurls_18.avi'), PosixPath('PD_Dataset/BarbellCurl/BarbellCurl_[SHANA]BarbellCurls_2.avi'), PosixPath('PD_Dataset/BarbellCurl/BarbellCurl_[SHANA]BarbellCurls_20.avi'), PosixPath('PD_Dataset/BarbellCurl/BarbellCurl_[SHANA]BarbellCurls_3.avi'), PosixPath('PD_Dataset/BarbellCurl/BarbellCurl_[SHANA]BarbellCurls_4.avi'), PosixPath('PD_Dataset/BarbellCurl/BarbellCurl_[SHANA]BarbellCurls_5.avi'), PosixPath('PD_Dataset/BarbellCurl/BarbellCurl_[SHANA]BarbellCurls_6.avi'), PosixPath('PD_Dataset/BarbellCurl/BarbellCurl_[SHANA]BarbellCurls_7.avi'), PosixPath('PD_Dataset/BarbellCurl/BarbellCurl_[SHANA]BarbellCurls_8.avi'), PosixPath('PD_Dataset/BarbellCurl/BarbellCurl_[SHANA]BarbellCurls_9.avi'), PosixPath('PD_Dataset/BarbellCurl/BarbellCurl_[SHANA]barbell_curls_(1).avi'), PosixPath('PD_Dataset/Deadlift/Deadlift_deadlift_107.avi'), PosixPath('PD_Dataset/Deadlift/Deadlift_deadlift_109.avi'), PosixPath('PD_Dataset/Deadlift/Deadlift_deadlift_11.avi'), PosixPath('PD_Dataset/Deadlift/Deadlift_deadlift_110.avi'), PosixPath('PD_Dataset/Deadlift/Deadlift_deadlift_112.avi'), PosixPath('PD_Dataset/Deadlift/Deadlift_deadlift_114.avi'), PosixPath('PD_Dataset/Deadlift/Deadlift_deadlift_116.avi'), PosixPath('PD_Dataset/Deadlift/Deadlift_deadlift_12.avi'), PosixPath('PD_Dataset/Deadlift/Deadlift_deadlift_13.avi'), PosixPath('PD_Dataset/Deadlift/Deadlift_deadlift_14.avi'), PosixPath('PD_Dataset/Deadlift/Deadlift_deadlift_15.avi'), PosixPath('PD_Dataset/Deadlift/Deadlift_deadlift_16.avi'), PosixPath('PD_Dataset/Deadlift/Deadlift_deadlift_17.avi'), PosixPath('PD_Dataset/Deadlift/Deadlift_deadlift_18.avi'), PosixPath('PD_Dataset/Deadlift/Deadlift_deadlift_2.avi'), PosixPath('PD_Dataset/Deadlift/Deadlift_deadlift_20.avi'), PosixPath('PD_Dataset/Deadlift/Deadlift_deadlift_21.avi'), PosixPath('PD_Dataset/Deadlift/Deadlift_deadlift_22.avi'), PosixPath('PD_Dataset/Deadlift/Deadlift_deadlift_23.avi'), PosixPath('PD_Dataset/Deadlift/Deadlift_deadlift_24.avi'), PosixPath('PD_Dataset/Deadlift/Deadlift_deadlift_25.avi'), PosixPath('PD_Dataset/Deadlift/Deadlift_deadlift_26.avi'), PosixPath('PD_Dataset/Deadlift/Deadlift_deadlift_27.avi'), PosixPath('PD_Dataset/Deadlift/Deadlift_deadlift_28.avi'), PosixPath('PD_Dataset/Deadlift/Deadlift_deadlift_29.avi'), PosixPath('PD_Dataset/Deadlift/Deadlift_deadlift_3.avi'), PosixPath('PD_Dataset/Deadlift/Deadlift_deadlift_30.avi'), PosixPath('PD_Dataset/Deadlift/Deadlift_deadlift_31.avi'), PosixPath('PD_Dataset/Deadlift/Deadlift_deadlift_33.avi'), PosixPath('PD_Dataset/Deadlift/Deadlift_deadlift_34.avi'), PosixPath('PD_Dataset/Deadlift/Deadlift_deadlift_35.avi'), PosixPath('PD_Dataset/Deadlift/Deadlift_deadlift_36.avi'), PosixPath('PD_Dataset/Deadlift/Deadlift_deadlift_37.avi'), PosixPath('PD_Dataset/Deadlift/Deadlift_deadlift_38.avi'), PosixPath('PD_Dataset/Deadlift/Deadlift_deadlift_39.avi'), PosixPath('PD_Dataset/Deadlift/Deadlift_deadlift_4.avi'), PosixPath('PD_Dataset/Deadlift/Deadlift_deadlift_40.avi'), PosixPath('PD_Dataset/Deadlift/Deadlift_deadlift_41.avi'), PosixPath('PD_Dataset/Deadlift/Deadlift_deadlift_42.avi'), PosixPath('PD_Dataset/Deadlift/Deadlift_deadlift_43.avi'), PosixPath('PD_Dataset/Deadlift/Deadlift_deadlift_44.avi'), PosixPath('PD_Dataset/Deadlift/Deadlift_deadlift_45.avi'), PosixPath('PD_Dataset/Deadlift/Deadlift_deadlift_106.avi'), PosixPath('PD_Dataset/Deadlift/Deadlift_deadlift_19.avi'), PosixPath('PD_Dataset/Deadlift/Deadlift_deadlift_32.avi'), PosixPath('PD_Dataset/Deadlift/Deadlift_deadlift_46.avi'), PosixPath('PD_Dataset/Deadlift/Deadlift_deadlift_62.avi'), PosixPath('PD_Dataset/Deadlift/Deadlift_deadlift_76.avi'), PosixPath('PD_Dataset/Deadlift/Deadlift_deadlift_9.avi'), PosixPath('PD_Dataset/Deadlift/Deadlift_deadlift_47.avi'), PosixPath('PD_Dataset/Deadlift/Deadlift_deadlift_48.avi'), PosixPath('PD_Dataset/Deadlift/Deadlift_deadlift_5.avi'), PosixPath('PD_Dataset/Deadlift/Deadlift_deadlift_50.avi'), PosixPath('PD_Dataset/Deadlift/Deadlift_deadlift_51.avi'), PosixPath('PD_Dataset/Deadlift/Deadlift_deadlift_53.avi'), PosixPath('PD_Dataset/Deadlift/Deadlift_deadlift_54.avi'), PosixPath('PD_Dataset/Deadlift/Deadlift_deadlift_55.avi'), PosixPath('PD_Dataset/Deadlift/Deadlift_deadlift_57.avi'), PosixPath('PD_Dataset/Deadlift/Deadlift_deadlift_58.avi'), PosixPath('PD_Dataset/Deadlift/Deadlift_deadlift_59.avi'), PosixPath('PD_Dataset/Deadlift/Deadlift_deadlift_6.avi'), PosixPath('PD_Dataset/Deadlift/Deadlift_deadlift_60.avi'), PosixPath('PD_Dataset/Deadlift/Deadlift_deadlift_61.avi'), PosixPath('PD_Dataset/Deadlift/Deadlift_deadlift_63.avi'), PosixPath('PD_Dataset/Deadlift/Deadlift_deadlift_64.avi'), PosixPath('PD_Dataset/Deadlift/Deadlift_deadlift_65.avi'), PosixPath('PD_Dataset/Deadlift/Deadlift_deadlift_66.avi'), PosixPath('PD_Dataset/Deadlift/Deadlift_deadlift_67.avi'), PosixPath('PD_Dataset/Deadlift/Deadlift_deadlift_68.avi'), PosixPath('PD_Dataset/Deadlift/Deadlift_deadlift_69.avi'), PosixPath('PD_Dataset/Deadlift/Deadlift_deadlift_7.avi'), PosixPath('PD_Dataset/Deadlift/Deadlift_deadlift_70.avi'), PosixPath('PD_Dataset/Deadlift/Deadlift_deadlift_71.avi'), PosixPath('PD_Dataset/Deadlift/Deadlift_deadlift_72.avi'), PosixPath('PD_Dataset/Deadlift/Deadlift_deadlift_73.avi'), PosixPath('PD_Dataset/Deadlift/Deadlift_deadlift_74.avi'), PosixPath('PD_Dataset/Deadlift/Deadlift_deadlift_75.avi'), PosixPath('PD_Dataset/Deadlift/Deadlift_deadlift_10.avi'), PosixPath('PD_Dataset/Deadlift/Deadlift_deadlift_100.avi'), PosixPath('PD_Dataset/Deadlift/Deadlift_deadlift_101.avi'), PosixPath('PD_Dataset/Deadlift/Deadlift_deadlift_102.avi'), PosixPath('PD_Dataset/Deadlift/Deadlift_deadlift_103.avi'), PosixPath('PD_Dataset/Deadlift/Deadlift_deadlift_104.avi'), PosixPath('PD_Dataset/Deadlift/Deadlift_deadlift_105.avi'), PosixPath('PD_Dataset/Deadlift/Deadlift_deadlift_77.avi'), PosixPath('PD_Dataset/Deadlift/Deadlift_deadlift_78.avi'), PosixPath('PD_Dataset/Deadlift/Deadlift_deadlift_79.avi'), PosixPath('PD_Dataset/Deadlift/Deadlift_deadlift_8.avi'), PosixPath('PD_Dataset/Deadlift/Deadlift_deadlift_80.avi'), PosixPath('PD_Dataset/Deadlift/Deadlift_deadlift_81.avi'), PosixPath('PD_Dataset/Deadlift/Deadlift_deadlift_82.avi'), PosixPath('PD_Dataset/Deadlift/Deadlift_deadlift_83.avi'), PosixPath('PD_Dataset/Deadlift/Deadlift_deadlift_84.avi'), PosixPath('PD_Dataset/Deadlift/Deadlift_deadlift_85.avi'), PosixPath('PD_Dataset/Deadlift/Deadlift_deadlift_86.avi'), PosixPath('PD_Dataset/Deadlift/Deadlift_deadlift_87.avi'), PosixPath('PD_Dataset/Deadlift/Deadlift_deadlift_88.avi'), PosixPath('PD_Dataset/Deadlift/Deadlift_deadlift_89.avi'), PosixPath('PD_Dataset/Deadlift/Deadlift_deadlift_90.avi'), PosixPath('PD_Dataset/Deadlift/Deadlift_deadlift_91.avi'), PosixPath('PD_Dataset/Deadlift/Deadlift_deadlift_92.avi'), PosixPath('PD_Dataset/Deadlift/Deadlift_deadlift_93.avi'), PosixPath('PD_Dataset/Deadlift/Deadlift_deadlift_94.avi'), PosixPath('PD_Dataset/Deadlift/Deadlift_deadlift_95.avi'), PosixPath('PD_Dataset/Deadlift/Deadlift_deadlift_96.avi'), PosixPath('PD_Dataset/Deadlift/Deadlift_deadlift_97.avi'), PosixPath('PD_Dataset/Deadlift/Deadlift_deadlift_98.avi'), PosixPath('PD_Dataset/Deadlift/Deadlift_deadlift_99.avi'), PosixPath('PD_Dataset/Deadlift/Deadlift_[SHANA]Deadlift_1.avi'), PosixPath('PD_Dataset/Deadlift/Deadlift_[SHANA]Deadlift_10.avi'), PosixPath('PD_Dataset/Deadlift/Deadlift_[SHANA]Deadlift_11.avi'), PosixPath('PD_Dataset/Deadlift/Deadlift_[SHANA]Deadlift_12.avi'), PosixPath('PD_Dataset/Deadlift/Deadlift_[SHANA]Deadlift_13.avi'), PosixPath('PD_Dataset/Deadlift/Deadlift_[SHANA]Deadlift_14.avi'), PosixPath('PD_Dataset/Deadlift/Deadlift_[SHANA]Deadlift_15.avi'), PosixPath('PD_Dataset/Deadlift/Deadlift_[SHANA]Deadlift_16.avi'), PosixPath('PD_Dataset/Deadlift/Deadlift_[SHANA]Deadlift_2.avi'), PosixPath('PD_Dataset/Deadlift/Deadlift_[SHANA]Deadlift_3.avi'), PosixPath('PD_Dataset/Deadlift/Deadlift_[SHANA]Deadlift_4.avi'), PosixPath('PD_Dataset/Deadlift/Deadlift_[SHANA]Deadlift_5.avi'), PosixPath('PD_Dataset/Deadlift/Deadlift_[SHANA]Deadlift_6.avi'), PosixPath('PD_Dataset/Deadlift/Deadlift_[SHANA]Deadlift_7.avi'), PosixPath('PD_Dataset/Deadlift/Deadlift_[SHANA]Deadlift_8.avi'), PosixPath('PD_Dataset/Deadlift/Deadlift_[SHANA]Deadlift_9.avi'), PosixPath('PD_Dataset/LateralRaises/LateralRaises_lateral_raise_106.avi'), PosixPath('PD_Dataset/LateralRaises/LateralRaises_lateral_raise_107.avi'), PosixPath('PD_Dataset/LateralRaises/LateralRaises_lateral_raise_108.avi'), PosixPath('PD_Dataset/LateralRaises/LateralRaises_lateral_raise_109.avi'), PosixPath('PD_Dataset/LateralRaises/LateralRaises_lateral_raise_110.avi'), PosixPath('PD_Dataset/LateralRaises/LateralRaises_lateral_raise_111.avi'), PosixPath('PD_Dataset/LateralRaises/LateralRaises_lateral_raise_12.avi'), PosixPath('PD_Dataset/LateralRaises/LateralRaises_lateral_raise_16.avi'), PosixPath('PD_Dataset/LateralRaises/LateralRaises_lateral_raise_17.avi'), PosixPath('PD_Dataset/LateralRaises/LateralRaises_lateral_raise_2.avi'), PosixPath('PD_Dataset/LateralRaises/LateralRaises_lateral_raise_20.avi'), PosixPath('PD_Dataset/LateralRaises/LateralRaises_lateral_raise_24.avi'), PosixPath('PD_Dataset/LateralRaises/LateralRaises_lateral_raise_26.avi'), PosixPath('PD_Dataset/LateralRaises/LateralRaises_lateral_raise_29.avi'), PosixPath('PD_Dataset/LateralRaises/LateralRaises_lateral_raise_3.avi'), PosixPath('PD_Dataset/LateralRaises/LateralRaises_lateral_raise_31.avi'), PosixPath('PD_Dataset/LateralRaises/LateralRaises_lateral_raise_32.avi'), PosixPath('PD_Dataset/LateralRaises/LateralRaises_lateral_raise_33.avi'), PosixPath('PD_Dataset/LateralRaises/LateralRaises_lateral_raise_34.avi'), PosixPath('PD_Dataset/LateralRaises/LateralRaises_lateral_raise_35.avi'), PosixPath('PD_Dataset/LateralRaises/LateralRaises_lateral_raise_39.avi'), PosixPath('PD_Dataset/LateralRaises/LateralRaises_lateral_raise_4.avi'), PosixPath('PD_Dataset/LateralRaises/LateralRaises_lateral_raise_40.avi'), PosixPath('PD_Dataset/LateralRaises/LateralRaises_lateral_raise_41.avi'), PosixPath('PD_Dataset/LateralRaises/LateralRaises_lateral_raise_42.avi'), PosixPath('PD_Dataset/LateralRaises/LateralRaises_lateral_raise_43.avi'), PosixPath('PD_Dataset/LateralRaises/LateralRaises_lateral_raise_105.avi'), PosixPath('PD_Dataset/LateralRaises/LateralRaises_lateral_raise_28.avi'), PosixPath('PD_Dataset/LateralRaises/LateralRaises_lateral_raise_44.avi'), PosixPath('PD_Dataset/LateralRaises/LateralRaises_lateral_raise_59.avi'), PosixPath('PD_Dataset/LateralRaises/LateralRaises_lateral_raise_72.avi'), PosixPath('PD_Dataset/LateralRaises/LateralRaises_lateral_raise_86.avi'), PosixPath('PD_Dataset/LateralRaises/LateralRaises_[SHANA]LateralRaises_10.avi'), PosixPath('PD_Dataset/LateralRaises/LateralRaises_[SHANA]LateralRaises_21.avi'), PosixPath('PD_Dataset/LateralRaises/LateralRaises_[SHANA]LateralRaises_32.avi'), PosixPath('PD_Dataset/LateralRaises/LateralRaises_lateral_raise_45.avi'), PosixPath('PD_Dataset/LateralRaises/LateralRaises_lateral_raise_47.avi'), PosixPath('PD_Dataset/LateralRaises/LateralRaises_lateral_raise_49.avi'), PosixPath('PD_Dataset/LateralRaises/LateralRaises_lateral_raise_5.avi'), PosixPath('PD_Dataset/LateralRaises/LateralRaises_lateral_raise_50.avi'), PosixPath('PD_Dataset/LateralRaises/LateralRaises_lateral_raise_51.avi'), PosixPath('PD_Dataset/LateralRaises/LateralRaises_lateral_raise_52.avi'), PosixPath('PD_Dataset/LateralRaises/LateralRaises_lateral_raise_53.avi'), PosixPath('PD_Dataset/LateralRaises/LateralRaises_lateral_raise_54.avi'), PosixPath('PD_Dataset/LateralRaises/LateralRaises_lateral_raise_55.avi'), PosixPath('PD_Dataset/LateralRaises/LateralRaises_lateral_raise_56.avi'), PosixPath('PD_Dataset/LateralRaises/LateralRaises_lateral_raise_57.avi'), PosixPath('PD_Dataset/LateralRaises/LateralRaises_lateral_raise_58.avi'), PosixPath('PD_Dataset/LateralRaises/LateralRaises_lateral_raise_6.avi'), PosixPath('PD_Dataset/LateralRaises/LateralRaises_lateral_raise_60.avi'), PosixPath('PD_Dataset/LateralRaises/LateralRaises_lateral_raise_61.avi'), PosixPath('PD_Dataset/LateralRaises/LateralRaises_lateral_raise_62.avi'), PosixPath('PD_Dataset/LateralRaises/LateralRaises_lateral_raise_63.avi'), PosixPath('PD_Dataset/LateralRaises/LateralRaises_lateral_raise_64.avi'), PosixPath('PD_Dataset/LateralRaises/LateralRaises_lateral_raise_65.avi'), PosixPath('PD_Dataset/LateralRaises/LateralRaises_lateral_raise_66.avi'), PosixPath('PD_Dataset/LateralRaises/LateralRaises_lateral_raise_67.avi'), PosixPath('PD_Dataset/LateralRaises/LateralRaises_lateral_raise_68.avi'), PosixPath('PD_Dataset/LateralRaises/LateralRaises_lateral_raise_69.avi'), PosixPath('PD_Dataset/LateralRaises/LateralRaises_lateral_raise_70.avi'), PosixPath('PD_Dataset/LateralRaises/LateralRaises_lateral_raise_71.avi'), PosixPath('PD_Dataset/LateralRaises/LateralRaises_lateral_raise_73.avi'), PosixPath('PD_Dataset/LateralRaises/LateralRaises_lateral_raise_74.avi'), PosixPath('PD_Dataset/LateralRaises/LateralRaises_lateral_raise_75.avi'), PosixPath('PD_Dataset/LateralRaises/LateralRaises_lateral_raise_76.avi'), PosixPath('PD_Dataset/LateralRaises/LateralRaises_lateral_raise_77.avi'), PosixPath('PD_Dataset/LateralRaises/LateralRaises_lateral_raise_78.avi'), PosixPath('PD_Dataset/LateralRaises/LateralRaises_lateral_raise_79.avi'), PosixPath('PD_Dataset/LateralRaises/LateralRaises_lateral_raise_80.avi'), PosixPath('PD_Dataset/LateralRaises/LateralRaises_lateral_raise_81.avi'), PosixPath('PD_Dataset/LateralRaises/LateralRaises_lateral_raise_82.avi'), PosixPath('PD_Dataset/LateralRaises/LateralRaises_lateral_raise_83.avi'), PosixPath('PD_Dataset/LateralRaises/LateralRaises_lateral_raise_84.avi'), PosixPath('PD_Dataset/LateralRaises/LateralRaises_lateral_raise_85.avi'), PosixPath('PD_Dataset/LateralRaises/LateralRaises_lateral_raise_100.avi'), PosixPath('PD_Dataset/LateralRaises/LateralRaises_lateral_raise_101.avi'), PosixPath('PD_Dataset/LateralRaises/LateralRaises_lateral_raise_102.avi'), PosixPath('PD_Dataset/LateralRaises/LateralRaises_lateral_raise_103.avi'), PosixPath('PD_Dataset/LateralRaises/LateralRaises_lateral_raise_104.avi'), PosixPath('PD_Dataset/LateralRaises/LateralRaises_lateral_raise_87.avi'), PosixPath('PD_Dataset/LateralRaises/LateralRaises_lateral_raise_88.avi'), PosixPath('PD_Dataset/LateralRaises/LateralRaises_lateral_raise_89.avi'), PosixPath('PD_Dataset/LateralRaises/LateralRaises_lateral_raise_90.avi'), PosixPath('PD_Dataset/LateralRaises/LateralRaises_lateral_raise_91.avi'), PosixPath('PD_Dataset/LateralRaises/LateralRaises_lateral_raise_92.avi'), PosixPath('PD_Dataset/LateralRaises/LateralRaises_lateral_raise_93.avi'), PosixPath('PD_Dataset/LateralRaises/LateralRaises_lateral_raise_94.avi'), PosixPath('PD_Dataset/LateralRaises/LateralRaises_lateral_raise_95.avi'), PosixPath('PD_Dataset/LateralRaises/LateralRaises_lateral_raise_97.avi'), PosixPath('PD_Dataset/LateralRaises/LateralRaises_lateral_raise_98.avi'), PosixPath('PD_Dataset/LateralRaises/LateralRaises_[SHANA]LateralRaises_1.avi'), PosixPath('PD_Dataset/LateralRaises/LateralRaises_[SHANA]LateralRaises_11.avi'), PosixPath('PD_Dataset/LateralRaises/LateralRaises_[SHANA]LateralRaises_12.avi'), PosixPath('PD_Dataset/LateralRaises/LateralRaises_[SHANA]LateralRaises_13.avi'), PosixPath('PD_Dataset/LateralRaises/LateralRaises_[SHANA]LateralRaises_14.avi'), PosixPath('PD_Dataset/LateralRaises/LateralRaises_[SHANA]LateralRaises_15.avi'), PosixPath('PD_Dataset/LateralRaises/LateralRaises_[SHANA]LateralRaises_16.avi'), PosixPath('PD_Dataset/LateralRaises/LateralRaises_[SHANA]LateralRaises_17.avi'), PosixPath('PD_Dataset/LateralRaises/LateralRaises_[SHANA]LateralRaises_18.avi'), PosixPath('PD_Dataset/LateralRaises/LateralRaises_[SHANA]LateralRaises_19.avi'), PosixPath('PD_Dataset/LateralRaises/LateralRaises_[SHANA]LateralRaises_2.avi'), PosixPath('PD_Dataset/LateralRaises/LateralRaises_[SHANA]LateralRaises_20.avi'), PosixPath('PD_Dataset/LateralRaises/LateralRaises_[SHANA]LateralRaises_22.avi'), PosixPath('PD_Dataset/LateralRaises/LateralRaises_[SHANA]LateralRaises_23.avi'), PosixPath('PD_Dataset/LateralRaises/LateralRaises_[SHANA]LateralRaises_24.avi'), PosixPath('PD_Dataset/LateralRaises/LateralRaises_[SHANA]LateralRaises_25.avi'), PosixPath('PD_Dataset/LateralRaises/LateralRaises_[SHANA]LateralRaises_26.avi'), PosixPath('PD_Dataset/LateralRaises/LateralRaises_[SHANA]LateralRaises_27.avi'), PosixPath('PD_Dataset/LateralRaises/LateralRaises_[SHANA]LateralRaises_28.avi'), PosixPath('PD_Dataset/LateralRaises/LateralRaises_[SHANA]LateralRaises_29.avi'), PosixPath('PD_Dataset/LateralRaises/LateralRaises_[SHANA]LateralRaises_3.avi'), PosixPath('PD_Dataset/LateralRaises/LateralRaises_[SHANA]LateralRaises_30.avi'), PosixPath('PD_Dataset/LateralRaises/LateralRaises_[SHANA]LateralRaises_31.avi'), PosixPath('PD_Dataset/LateralRaises/LateralRaises_[SHANA]LateralRaises_33.avi'), PosixPath('PD_Dataset/LateralRaises/LateralRaises_[SHANA]LateralRaises_34.avi'), PosixPath('PD_Dataset/LateralRaises/LateralRaises_[SHANA]LateralRaises_35.avi'), PosixPath('PD_Dataset/LateralRaises/LateralRaises_[SHANA]LateralRaises_36.avi'), PosixPath('PD_Dataset/LateralRaises/LateralRaises_[SHANA]LateralRaises_37.avi'), PosixPath('PD_Dataset/LateralRaises/LateralRaises_[SHANA]LateralRaises_38.avi'), PosixPath('PD_Dataset/LateralRaises/LateralRaises_[SHANA]LateralRaises_4.avi'), PosixPath('PD_Dataset/LateralRaises/LateralRaises_[SHANA]LateralRaises_5.avi'), PosixPath('PD_Dataset/LateralRaises/LateralRaises_[SHANA]LateralRaises_6.avi'), PosixPath('PD_Dataset/LateralRaises/LateralRaises_[SHANA]LateralRaises_7.avi'), PosixPath('PD_Dataset/LateralRaises/LateralRaises_[SHANA]LateralRaises_8.avi'), PosixPath('PD_Dataset/LateralRaises/LateralRaises_[SHANA]LateralRaises_9.avi'), PosixPath('PD_Dataset/OverheadPress/OverheadPress_overhead_press_104.avi'), PosixPath('PD_Dataset/OverheadPress/OverheadPress_overhead_press_105.avi'), PosixPath('PD_Dataset/OverheadPress/OverheadPress_overhead_press_106.avi'), PosixPath('PD_Dataset/OverheadPress/OverheadPress_overhead_press_107.avi'), PosixPath('PD_Dataset/OverheadPress/OverheadPress_overhead_press_108.avi'), PosixPath('PD_Dataset/OverheadPress/OverheadPress_overhead_press_109.avi'), PosixPath('PD_Dataset/OverheadPress/OverheadPress_overhead_press_11.avi'), PosixPath('PD_Dataset/OverheadPress/OverheadPress_overhead_press_110.avi'), PosixPath('PD_Dataset/OverheadPress/OverheadPress_overhead_press_111.avi'), PosixPath('PD_Dataset/OverheadPress/OverheadPress_overhead_press_112.avi'), PosixPath('PD_Dataset/OverheadPress/OverheadPress_overhead_press_113.avi'), PosixPath('PD_Dataset/OverheadPress/OverheadPress_overhead_press_114.avi'), PosixPath('PD_Dataset/OverheadPress/OverheadPress_overhead_press_12.avi'), PosixPath('PD_Dataset/OverheadPress/OverheadPress_overhead_press_13.avi'), PosixPath('PD_Dataset/OverheadPress/OverheadPress_overhead_press_14.avi'), PosixPath('PD_Dataset/OverheadPress/OverheadPress_overhead_press_15.avi'), PosixPath('PD_Dataset/OverheadPress/OverheadPress_overhead_press_16.avi'), PosixPath('PD_Dataset/OverheadPress/OverheadPress_overhead_press_17.avi'), PosixPath('PD_Dataset/OverheadPress/OverheadPress_overhead_press_18.avi'), PosixPath('PD_Dataset/OverheadPress/OverheadPress_overhead_press_19.avi'), PosixPath('PD_Dataset/OverheadPress/OverheadPress_overhead_press_2.avi'), PosixPath('PD_Dataset/OverheadPress/OverheadPress_overhead_press_20.avi'), PosixPath('PD_Dataset/OverheadPress/OverheadPress_overhead_press_21.avi'), PosixPath('PD_Dataset/OverheadPress/OverheadPress_overhead_press_22.avi'), PosixPath('PD_Dataset/OverheadPress/OverheadPress_overhead_press_23.avi'), PosixPath('PD_Dataset/OverheadPress/OverheadPress_overhead_press_103.avi'), PosixPath('PD_Dataset/OverheadPress/OverheadPress_overhead_press_115.avi'), PosixPath('PD_Dataset/OverheadPress/OverheadPress_overhead_press_24.avi'), PosixPath('PD_Dataset/OverheadPress/OverheadPress_overhead_press_37.avi'), PosixPath('PD_Dataset/OverheadPress/OverheadPress_overhead_press_5.avi'), PosixPath('PD_Dataset/OverheadPress/OverheadPress_overhead_press_62.avi'), PosixPath('PD_Dataset/OverheadPress/OverheadPress_overhead_press_75.avi'), PosixPath('PD_Dataset/OverheadPress/OverheadPress_overhead_press_88.avi'), PosixPath('PD_Dataset/OverheadPress/OverheadPress_[SHANA]OverheadPress_10.avi'), PosixPath('PD_Dataset/OverheadPress/OverheadPress_[SHANA]OverheadPress_21.avi'), PosixPath('PD_Dataset/OverheadPress/OverheadPress_[SHANA]OverheadPress_32.avi'), PosixPath('PD_Dataset/OverheadPress/OverheadPress_[SHANA]OverheadPress_5.avi'), PosixPath('PD_Dataset/OverheadPress/OverheadPress_overhead_press_25.avi'), PosixPath('PD_Dataset/OverheadPress/OverheadPress_overhead_press_26.avi'), PosixPath('PD_Dataset/OverheadPress/OverheadPress_overhead_press_27.avi'), PosixPath('PD_Dataset/OverheadPress/OverheadPress_overhead_press_28.avi'), PosixPath('PD_Dataset/OverheadPress/OverheadPress_overhead_press_29.avi'), PosixPath('PD_Dataset/OverheadPress/OverheadPress_overhead_press_3.avi'), PosixPath('PD_Dataset/OverheadPress/OverheadPress_overhead_press_30.avi'), PosixPath('PD_Dataset/OverheadPress/OverheadPress_overhead_press_31.avi'), PosixPath('PD_Dataset/OverheadPress/OverheadPress_overhead_press_32.avi'), PosixPath('PD_Dataset/OverheadPress/OverheadPress_overhead_press_33.avi'), PosixPath('PD_Dataset/OverheadPress/OverheadPress_overhead_press_34.avi'), PosixPath('PD_Dataset/OverheadPress/OverheadPress_overhead_press_35.avi'), PosixPath('PD_Dataset/OverheadPress/OverheadPress_overhead_press_36.avi'), PosixPath('PD_Dataset/OverheadPress/OverheadPress_overhead_press_38.avi'), PosixPath('PD_Dataset/OverheadPress/OverheadPress_overhead_press_39.avi'), PosixPath('PD_Dataset/OverheadPress/OverheadPress_overhead_press_4.avi'), PosixPath('PD_Dataset/OverheadPress/OverheadPress_overhead_press_40.avi'), PosixPath('PD_Dataset/OverheadPress/OverheadPress_overhead_press_41.avi'), PosixPath('PD_Dataset/OverheadPress/OverheadPress_overhead_press_42.avi'), PosixPath('PD_Dataset/OverheadPress/OverheadPress_overhead_press_43.avi'), PosixPath('PD_Dataset/OverheadPress/OverheadPress_overhead_press_44.avi'), PosixPath('PD_Dataset/OverheadPress/OverheadPress_overhead_press_45.avi'), PosixPath('PD_Dataset/OverheadPress/OverheadPress_overhead_press_46.avi'), PosixPath('PD_Dataset/OverheadPress/OverheadPress_overhead_press_47.avi'), PosixPath('PD_Dataset/OverheadPress/OverheadPress_overhead_press_48.avi'), PosixPath('PD_Dataset/OverheadPress/OverheadPress_overhead_press_49.avi'), PosixPath('PD_Dataset/OverheadPress/OverheadPress_overhead_press_50.avi'), PosixPath('PD_Dataset/OverheadPress/OverheadPress_overhead_press_51.avi'), PosixPath('PD_Dataset/OverheadPress/OverheadPress_overhead_press_52.avi'), PosixPath('PD_Dataset/OverheadPress/OverheadPress_overhead_press_53.avi'), PosixPath('PD_Dataset/OverheadPress/OverheadPress_overhead_press_54.avi'), PosixPath('PD_Dataset/OverheadPress/OverheadPress_overhead_press_55.avi'), PosixPath('PD_Dataset/OverheadPress/OverheadPress_overhead_press_56.avi'), PosixPath('PD_Dataset/OverheadPress/OverheadPress_overhead_press_57.avi'), PosixPath('PD_Dataset/OverheadPress/OverheadPress_overhead_press_58.avi'), PosixPath('PD_Dataset/OverheadPress/OverheadPress_overhead_press_59.avi'), PosixPath('PD_Dataset/OverheadPress/OverheadPress_overhead_press_6.avi'), PosixPath('PD_Dataset/OverheadPress/OverheadPress_overhead_press_60.avi'), PosixPath('PD_Dataset/OverheadPress/OverheadPress_overhead_press_61.avi'), PosixPath('PD_Dataset/OverheadPress/OverheadPress_overhead_press_63.avi'), PosixPath('PD_Dataset/OverheadPress/OverheadPress_overhead_press_64.avi'), PosixPath('PD_Dataset/OverheadPress/OverheadPress_overhead_press_65.avi'), PosixPath('PD_Dataset/OverheadPress/OverheadPress_overhead_press_66.avi'), PosixPath('PD_Dataset/OverheadPress/OverheadPress_overhead_press_67.avi'), PosixPath('PD_Dataset/OverheadPress/OverheadPress_overhead_press_68.avi'), PosixPath('PD_Dataset/OverheadPress/OverheadPress_overhead_press_69.avi'), PosixPath('PD_Dataset/OverheadPress/OverheadPress_overhead_press_7.avi'), PosixPath('PD_Dataset/OverheadPress/OverheadPress_overhead_press_70.avi'), PosixPath('PD_Dataset/OverheadPress/OverheadPress_overhead_press_71.avi'), PosixPath('PD_Dataset/OverheadPress/OverheadPress_overhead_press_72.avi'), PosixPath('PD_Dataset/OverheadPress/OverheadPress_overhead_press_73.avi'), PosixPath('PD_Dataset/OverheadPress/OverheadPress_overhead_press_74.avi'), PosixPath('PD_Dataset/OverheadPress/OverheadPress_overhead_press_1.avi'), PosixPath('PD_Dataset/OverheadPress/OverheadPress_overhead_press_10.avi'), PosixPath('PD_Dataset/OverheadPress/OverheadPress_overhead_press_100.avi'), PosixPath('PD_Dataset/OverheadPress/OverheadPress_overhead_press_101.avi'), PosixPath('PD_Dataset/OverheadPress/OverheadPress_overhead_press_102.avi'), PosixPath('PD_Dataset/OverheadPress/OverheadPress_overhead_press_76.avi'), PosixPath('PD_Dataset/OverheadPress/OverheadPress_overhead_press_77.avi'), PosixPath('PD_Dataset/OverheadPress/OverheadPress_overhead_press_78.avi'), PosixPath('PD_Dataset/OverheadPress/OverheadPress_overhead_press_79.avi'), PosixPath('PD_Dataset/OverheadPress/OverheadPress_overhead_press_8.avi'), PosixPath('PD_Dataset/OverheadPress/OverheadPress_overhead_press_80.avi'), PosixPath('PD_Dataset/OverheadPress/OverheadPress_overhead_press_81.avi'), PosixPath('PD_Dataset/OverheadPress/OverheadPress_overhead_press_82.avi'), PosixPath('PD_Dataset/OverheadPress/OverheadPress_overhead_press_83.avi'), PosixPath('PD_Dataset/OverheadPress/OverheadPress_overhead_press_84.avi'), PosixPath('PD_Dataset/OverheadPress/OverheadPress_overhead_press_85.avi'), PosixPath('PD_Dataset/OverheadPress/OverheadPress_overhead_press_86.avi'), PosixPath('PD_Dataset/OverheadPress/OverheadPress_overhead_press_87.avi'), PosixPath('PD_Dataset/OverheadPress/OverheadPress_overhead_press_89.avi'), PosixPath('PD_Dataset/OverheadPress/OverheadPress_overhead_press_9.avi'), PosixPath('PD_Dataset/OverheadPress/OverheadPress_overhead_press_90.avi'), PosixPath('PD_Dataset/OverheadPress/OverheadPress_overhead_press_91.avi'), PosixPath('PD_Dataset/OverheadPress/OverheadPress_overhead_press_92.avi'), PosixPath('PD_Dataset/OverheadPress/OverheadPress_overhead_press_93.avi'), PosixPath('PD_Dataset/OverheadPress/OverheadPress_overhead_press_94.avi'), PosixPath('PD_Dataset/OverheadPress/OverheadPress_overhead_press_95.avi'), PosixPath('PD_Dataset/OverheadPress/OverheadPress_overhead_press_96.avi'), PosixPath('PD_Dataset/OverheadPress/OverheadPress_overhead_press_97.avi'), PosixPath('PD_Dataset/OverheadPress/OverheadPress_overhead_press_98.avi'), PosixPath('PD_Dataset/OverheadPress/OverheadPress_overhead_press_99.avi'), PosixPath('PD_Dataset/OverheadPress/OverheadPress_[SHANA]OverheadPress_1.avi'), PosixPath('PD_Dataset/OverheadPress/OverheadPress_[SHANA]OverheadPress_11.avi'), PosixPath('PD_Dataset/OverheadPress/OverheadPress_[SHANA]OverheadPress_12.avi'), PosixPath('PD_Dataset/OverheadPress/OverheadPress_[SHANA]OverheadPress_13.avi'), PosixPath('PD_Dataset/OverheadPress/OverheadPress_[SHANA]OverheadPress_14.avi'), PosixPath('PD_Dataset/OverheadPress/OverheadPress_[SHANA]OverheadPress_15.avi'), PosixPath('PD_Dataset/OverheadPress/OverheadPress_[SHANA]OverheadPress_16.avi'), PosixPath('PD_Dataset/OverheadPress/OverheadPress_[SHANA]OverheadPress_17.avi'), PosixPath('PD_Dataset/OverheadPress/OverheadPress_[SHANA]OverheadPress_18.avi'), PosixPath('PD_Dataset/OverheadPress/OverheadPress_[SHANA]OverheadPress_19.avi'), PosixPath('PD_Dataset/OverheadPress/OverheadPress_[SHANA]OverheadPress_2.avi'), PosixPath('PD_Dataset/OverheadPress/OverheadPress_[SHANA]OverheadPress_20.avi'), PosixPath('PD_Dataset/OverheadPress/OverheadPress_[SHANA]OverheadPress_22.avi'), PosixPath('PD_Dataset/OverheadPress/OverheadPress_[SHANA]OverheadPress_23.avi'), PosixPath('PD_Dataset/OverheadPress/OverheadPress_[SHANA]OverheadPress_24.avi'), PosixPath('PD_Dataset/OverheadPress/OverheadPress_[SHANA]OverheadPress_25.avi'), PosixPath('PD_Dataset/OverheadPress/OverheadPress_[SHANA]OverheadPress_26.avi'), PosixPath('PD_Dataset/OverheadPress/OverheadPress_[SHANA]OverheadPress_27.avi'), PosixPath('PD_Dataset/OverheadPress/OverheadPress_[SHANA]OverheadPress_28.avi'), PosixPath('PD_Dataset/OverheadPress/OverheadPress_[SHANA]OverheadPress_29.avi'), PosixPath('PD_Dataset/OverheadPress/OverheadPress_[SHANA]OverheadPress_3.avi'), PosixPath('PD_Dataset/OverheadPress/OverheadPress_[SHANA]OverheadPress_30.avi'), PosixPath('PD_Dataset/OverheadPress/OverheadPress_[SHANA]OverheadPress_31.avi'), PosixPath('PD_Dataset/OverheadPress/OverheadPress_[SHANA]OverheadPress_33.avi'), PosixPath('PD_Dataset/OverheadPress/OverheadPress_[SHANA]OverheadPress_34.avi'), PosixPath('PD_Dataset/OverheadPress/OverheadPress_[SHANA]OverheadPress_35.avi'), PosixPath('PD_Dataset/OverheadPress/OverheadPress_[SHANA]OverheadPress_36.avi'), PosixPath('PD_Dataset/OverheadPress/OverheadPress_[SHANA]OverheadPress_37.avi'), PosixPath('PD_Dataset/OverheadPress/OverheadPress_[SHANA]OverheadPress_38.avi'), PosixPath('PD_Dataset/OverheadPress/OverheadPress_[SHANA]OverheadPress_39.avi'), PosixPath('PD_Dataset/OverheadPress/OverheadPress_[SHANA]OverheadPress_4.avi'), PosixPath('PD_Dataset/OverheadPress/OverheadPress_[SHANA]OverheadPress_40.avi'), PosixPath('PD_Dataset/OverheadPress/OverheadPress_[SHANA]OverheadPress_41.avi'), PosixPath('PD_Dataset/OverheadPress/OverheadPress_[SHANA]OverheadPress_42.avi'), PosixPath('PD_Dataset/OverheadPress/OverheadPress_[SHANA]OverheadPress_6.avi'), PosixPath('PD_Dataset/OverheadPress/OverheadPress_[SHANA]OverheadPress_7.avi'), PosixPath('PD_Dataset/OverheadPress/OverheadPress_[SHANA]OverheadPress_8.avi'), PosixPath('PD_Dataset/OverheadPress/OverheadPress_[SHANA]OverheadPress_9.avi'), PosixPath('PD_Dataset/Squat/Squat_squat_103.avi'), PosixPath('PD_Dataset/Squat/Squat_squat_104.avi'), PosixPath('PD_Dataset/Squat/Squat_squat_105.avi'), PosixPath('PD_Dataset/Squat/Squat_squat_106.avi'), PosixPath('PD_Dataset/Squat/Squat_squat_107.avi'), PosixPath('PD_Dataset/Squat/Squat_squat_108.avi'), PosixPath('PD_Dataset/Squat/Squat_squat_109.avi'), PosixPath('PD_Dataset/Squat/Squat_squat_11.avi'), PosixPath('PD_Dataset/Squat/Squat_squat_110.avi'), PosixPath('PD_Dataset/Squat/Squat_squat_111.avi'), PosixPath('PD_Dataset/Squat/Squat_squat_112.avi'), PosixPath('PD_Dataset/Squat/Squat_squat_113.avi'), PosixPath('PD_Dataset/Squat/Squat_squat_114.avi'), PosixPath('PD_Dataset/Squat/Squat_squat_115.avi'), PosixPath('PD_Dataset/Squat/Squat_squat_116.avi'), PosixPath('PD_Dataset/Squat/Squat_squat_117.avi'), PosixPath('PD_Dataset/Squat/Squat_squat_12.avi'), PosixPath('PD_Dataset/Squat/Squat_squat_13.avi'), PosixPath('PD_Dataset/Squat/Squat_squat_14.avi'), PosixPath('PD_Dataset/Squat/Squat_squat_15.avi'), PosixPath('PD_Dataset/Squat/Squat_squat_16.avi'), PosixPath('PD_Dataset/Squat/Squat_squat_17.avi'), PosixPath('PD_Dataset/Squat/Squat_squat_18.avi'), PosixPath('PD_Dataset/Squat/Squat_squat_19.avi'), PosixPath('PD_Dataset/Squat/Squat_squat_2.avi'), PosixPath('PD_Dataset/Squat/Squat_squat_20.avi'), PosixPath('PD_Dataset/Squat/Squat_squat_21.avi'), PosixPath('PD_Dataset/Squat/Squat_squat_22.avi'), PosixPath('PD_Dataset/Squat/Squat_squat_23.avi'), PosixPath('PD_Dataset/Squat/Squat_squat_24.avi'), PosixPath('PD_Dataset/Squat/Squat_squat_25.avi'), PosixPath('PD_Dataset/Squat/Squat_squat_26.avi'), PosixPath('PD_Dataset/Squat/Squat_squat_28.avi'), PosixPath('PD_Dataset/Squat/Squat_squat_29.avi'), PosixPath('PD_Dataset/Squat/Squat_squat_3.avi'), PosixPath('PD_Dataset/Squat/Squat_squat_30.avi'), PosixPath('PD_Dataset/Squat/Squat_squat_31.avi'), PosixPath('PD_Dataset/Squat/Squat_squat_32.avi'), PosixPath('PD_Dataset/Squat/Squat_squat_33.avi'), PosixPath('PD_Dataset/Squat/Squat_squat_34.avi'), PosixPath('PD_Dataset/Squat/Squat_squat_35.avi'), PosixPath('PD_Dataset/Squat/Squat_squat_36.avi'), PosixPath('PD_Dataset/Squat/Squat_squat_37.avi'), PosixPath('PD_Dataset/Squat/Squat_squat_38.avi'), PosixPath('PD_Dataset/Squat/Squat_squat_39.avi'), PosixPath('PD_Dataset/Squat/Squat_squat_4.avi'), PosixPath('PD_Dataset/Squat/Squat_squat_40.avi'), PosixPath('PD_Dataset/Squat/Squat_squat_41.avi'), PosixPath('PD_Dataset/Squat/Squat_squat_102.avi'), PosixPath('PD_Dataset/Squat/Squat_squat_118.avi'), PosixPath('PD_Dataset/Squat/Squat_squat_27.avi'), PosixPath('PD_Dataset/Squat/Squat_squat_42.avi'), PosixPath('PD_Dataset/Squat/Squat_squat_58.avi'), PosixPath('PD_Dataset/Squat/Squat_squat_73.avi'), PosixPath('PD_Dataset/Squat/Squat_squat_89.avi'), PosixPath('PD_Dataset/Squat/Squat_squat_43.avi'), PosixPath('PD_Dataset/Squat/Squat_squat_44.avi'), PosixPath('PD_Dataset/Squat/Squat_squat_45.avi'), PosixPath('PD_Dataset/Squat/Squat_squat_46.avi'), PosixPath('PD_Dataset/Squat/Squat_squat_47.avi'), PosixPath('PD_Dataset/Squat/Squat_squat_48.avi'), PosixPath('PD_Dataset/Squat/Squat_squat_49.avi'), PosixPath('PD_Dataset/Squat/Squat_squat_5.avi'), PosixPath('PD_Dataset/Squat/Squat_squat_50.avi'), PosixPath('PD_Dataset/Squat/Squat_squat_51.avi'), PosixPath('PD_Dataset/Squat/Squat_squat_52.avi'), PosixPath('PD_Dataset/Squat/Squat_squat_53.avi'), PosixPath('PD_Dataset/Squat/Squat_squat_54.avi'), PosixPath('PD_Dataset/Squat/Squat_squat_55.avi'), PosixPath('PD_Dataset/Squat/Squat_squat_56.avi'), PosixPath('PD_Dataset/Squat/Squat_squat_57.avi'), PosixPath('PD_Dataset/Squat/Squat_squat_1.avi'), PosixPath('PD_Dataset/Squat/Squat_squat_10.avi'), PosixPath('PD_Dataset/Squat/Squat_squat_100.avi'), PosixPath('PD_Dataset/Squat/Squat_squat_101.avi'), PosixPath('PD_Dataset/Squat/Squat_squat_59.avi'), PosixPath('PD_Dataset/Squat/Squat_squat_6.avi'), PosixPath('PD_Dataset/Squat/Squat_squat_60.avi'), PosixPath('PD_Dataset/Squat/Squat_squat_61.avi'), PosixPath('PD_Dataset/Squat/Squat_squat_62.avi'), PosixPath('PD_Dataset/Squat/Squat_squat_63.avi'), PosixPath('PD_Dataset/Squat/Squat_squat_64.avi'), PosixPath('PD_Dataset/Squat/Squat_squat_65.avi'), PosixPath('PD_Dataset/Squat/Squat_squat_66.avi'), PosixPath('PD_Dataset/Squat/Squat_squat_67.avi'), PosixPath('PD_Dataset/Squat/Squat_squat_68.avi'), PosixPath('PD_Dataset/Squat/Squat_squat_69.avi'), PosixPath('PD_Dataset/Squat/Squat_squat_7.avi'), PosixPath('PD_Dataset/Squat/Squat_squat_70.avi'), PosixPath('PD_Dataset/Squat/Squat_squat_71.avi'), PosixPath('PD_Dataset/Squat/Squat_squat_72.avi'), PosixPath('PD_Dataset/Squat/Squat_squat_74.avi'), PosixPath('PD_Dataset/Squat/Squat_squat_75.avi'), PosixPath('PD_Dataset/Squat/Squat_squat_76.avi'), PosixPath('PD_Dataset/Squat/Squat_squat_77.avi'), PosixPath('PD_Dataset/Squat/Squat_squat_78.avi'), PosixPath('PD_Dataset/Squat/Squat_squat_79.avi'), PosixPath('PD_Dataset/Squat/Squat_squat_8.avi'), PosixPath('PD_Dataset/Squat/Squat_squat_80.avi'), PosixPath('PD_Dataset/Squat/Squat_squat_81.avi'), PosixPath('PD_Dataset/Squat/Squat_squat_82.avi'), PosixPath('PD_Dataset/Squat/Squat_squat_83.avi'), PosixPath('PD_Dataset/Squat/Squat_squat_84.avi'), PosixPath('PD_Dataset/Squat/Squat_squat_85.avi'), PosixPath('PD_Dataset/Squat/Squat_squat_86.avi'), PosixPath('PD_Dataset/Squat/Squat_squat_87.avi'), PosixPath('PD_Dataset/Squat/Squat_squat_88.avi'), PosixPath('PD_Dataset/Squat/Squat_squat_9.avi'), PosixPath('PD_Dataset/Squat/Squat_squat_90.avi'), PosixPath('PD_Dataset/Squat/Squat_squat_91.avi'), PosixPath('PD_Dataset/Squat/Squat_squat_92.avi'), PosixPath('PD_Dataset/Squat/Squat_squat_93.avi'), PosixPath('PD_Dataset/Squat/Squat_squat_94.avi'), PosixPath('PD_Dataset/Squat/Squat_squat_95.avi'), PosixPath('PD_Dataset/Squat/Squat_squat_96.avi'), PosixPath('PD_Dataset/Squat/Squat_squat_97.avi'), PosixPath('PD_Dataset/Squat/Squat_squat_98.avi'), PosixPath('PD_Dataset/Squat/Squat_squat_99.avi'), PosixPath('PD_Dataset/Squat/Squat_[SHANA]Squat_1.avi'), PosixPath('PD_Dataset/Squat/Squat_[SHANA]Squat_10.avi'), PosixPath('PD_Dataset/Squat/Squat_[SHANA]Squat_11.avi'), PosixPath('PD_Dataset/Squat/Squat_[SHANA]Squat_12.avi'), PosixPath('PD_Dataset/Squat/Squat_[SHANA]Squat_13.avi'), PosixPath('PD_Dataset/Squat/Squat_[SHANA]Squat_14.avi'), PosixPath('PD_Dataset/Squat/Squat_[SHANA]Squat_2.avi'), PosixPath('PD_Dataset/Squat/Squat_[SHANA]Squat_3.avi'), PosixPath('PD_Dataset/Squat/Squat_[SHANA]Squat_4.avi'), PosixPath('PD_Dataset/Squat/Squat_[SHANA]Squat_5.avi'), PosixPath('PD_Dataset/Squat/Squat_[SHANA]Squat_6.avi'), PosixPath('PD_Dataset/Squat/Squat_[SHANA]Squat_7.avi'), PosixPath('PD_Dataset/Squat/Squat_[SHANA]Squat_8.avi'), PosixPath('PD_Dataset/Squat/Squat_[SHANA]Squat_9.avi')]\n"
     ]
    }
   ],
   "source": [
    "categories = [\"BarbellCurl\", \"Deadlift\", \"LateralRaises\", \"OverheadPress\", \"Squat\"]\n",
    "\n",
    "video_labels = [\n",
    "    [video for video in (dataset_dir / category).iterdir() if video.is_file()]\n",
    "    for category in categories\n",
    "]\n",
    "\n",
    "# Flatten and create labels\n",
    "label = [i for i, videos in enumerate(video_labels) for _ in videos]\n",
    "combined = [video for sublist in video_labels for video in sublist]\n",
    "\n",
    "print(label)\n",
    "print(combined)"
   ]
  },
  {
   "cell_type": "code",
   "execution_count": 9,
   "metadata": {},
   "outputs": [
    {
     "data": {
      "text/html": [
       "<div>\n",
       "<style scoped>\n",
       "    .dataframe tbody tr th:only-of-type {\n",
       "        vertical-align: middle;\n",
       "    }\n",
       "\n",
       "    .dataframe tbody tr th {\n",
       "        vertical-align: top;\n",
       "    }\n",
       "\n",
       "    .dataframe thead th {\n",
       "        text-align: right;\n",
       "    }\n",
       "</style>\n",
       "<table border=\"1\" class=\"dataframe\">\n",
       "  <thead>\n",
       "    <tr style=\"text-align: right;\">\n",
       "      <th></th>\n",
       "      <th>file</th>\n",
       "      <th>label</th>\n",
       "    </tr>\n",
       "  </thead>\n",
       "  <tbody>\n",
       "    <tr>\n",
       "      <th>0</th>\n",
       "      <td>PD_Dataset/BarbellCurl/BarbellCurl_barbell_cur...</td>\n",
       "      <td>0</td>\n",
       "    </tr>\n",
       "    <tr>\n",
       "      <th>1</th>\n",
       "      <td>PD_Dataset/BarbellCurl/BarbellCurl_barbell_cur...</td>\n",
       "      <td>0</td>\n",
       "    </tr>\n",
       "    <tr>\n",
       "      <th>2</th>\n",
       "      <td>PD_Dataset/BarbellCurl/BarbellCurl_barbell_cur...</td>\n",
       "      <td>0</td>\n",
       "    </tr>\n",
       "    <tr>\n",
       "      <th>3</th>\n",
       "      <td>PD_Dataset/BarbellCurl/BarbellCurl_barbell_cur...</td>\n",
       "      <td>0</td>\n",
       "    </tr>\n",
       "    <tr>\n",
       "      <th>4</th>\n",
       "      <td>PD_Dataset/BarbellCurl/BarbellCurl_barbell_cur...</td>\n",
       "      <td>0</td>\n",
       "    </tr>\n",
       "  </tbody>\n",
       "</table>\n",
       "</div>"
      ],
      "text/plain": [
       "                                                file  label\n",
       "0  PD_Dataset/BarbellCurl/BarbellCurl_barbell_cur...      0\n",
       "1  PD_Dataset/BarbellCurl/BarbellCurl_barbell_cur...      0\n",
       "2  PD_Dataset/BarbellCurl/BarbellCurl_barbell_cur...      0\n",
       "3  PD_Dataset/BarbellCurl/BarbellCurl_barbell_cur...      0\n",
       "4  PD_Dataset/BarbellCurl/BarbellCurl_barbell_cur...      0"
      ]
     },
     "execution_count": 9,
     "metadata": {},
     "output_type": "execute_result"
    }
   ],
   "source": [
    "df = pd.DataFrame(zip(combined, label), columns=[\"file\", \"label\"])\n",
    "df.head()"
   ]
  },
  {
   "cell_type": "code",
   "execution_count": 10,
   "metadata": {},
   "outputs": [
    {
     "data": {
      "text/plain": [
       "label\n",
       "3    157\n",
       "4    132\n",
       "2    125\n",
       "1    124\n",
       "0    123\n",
       "Name: count, dtype: int64"
      ]
     },
     "execution_count": 10,
     "metadata": {},
     "output_type": "execute_result"
    }
   ],
   "source": [
    "df[\"label\"].value_counts()"
   ]
  },
  {
   "cell_type": "markdown",
   "metadata": {},
   "source": [
    "data is not balanced so... Remove tayo randomly :)"
   ]
  },
  {
   "cell_type": "code",
   "execution_count": 11,
   "metadata": {},
   "outputs": [],
   "source": [
    "## Function to balance\n",
    "def balance_dataset(df):\n",
    "    # Find the minimum count among all classes\n",
    "    min_count = df[\"label\"].value_counts().min()\n",
    "    \n",
    "    # Downsample each class to match min_count\n",
    "    balanced_df = (\n",
    "        df.groupby(\"label\").apply(lambda x: x.sample(n=min_count, random_state=43)).reset_index(drop=True)\n",
    "    )\n",
    "    \n",
    "    return balanced_df"
   ]
  },
  {
   "cell_type": "code",
   "execution_count": 12,
   "metadata": {},
   "outputs": [
    {
     "name": "stderr",
     "output_type": "stream",
     "text": [
      "/tmp/ipykernel_437125/830260054.py:8: DeprecationWarning: DataFrameGroupBy.apply operated on the grouping columns. This behavior is deprecated, and in a future version of pandas the grouping columns will be excluded from the operation. Either pass `include_groups=False` to exclude the groupings or explicitly select the grouping columns after groupby to silence this warning.\n",
      "  df.groupby(\"label\").apply(lambda x: x.sample(n=min_count, random_state=43)).reset_index(drop=True)\n"
     ]
    },
    {
     "data": {
      "text/plain": [
       "label\n",
       "0    123\n",
       "1    123\n",
       "2    123\n",
       "3    123\n",
       "4    123\n",
       "Name: count, dtype: int64"
      ]
     },
     "execution_count": 12,
     "metadata": {},
     "output_type": "execute_result"
    }
   ],
   "source": [
    "df = balance_dataset(df)\n",
    "df[\"label\"].value_counts() # Check for the number of data"
   ]
  },
  {
   "cell_type": "markdown",
   "metadata": {},
   "source": [
    "#### Split the dataset"
   ]
  },
  {
   "cell_type": "code",
   "execution_count": 13,
   "metadata": {},
   "outputs": [],
   "source": [
    "from sklearn.model_selection import train_test_split\n",
    "from sklearn.metrics import classification_report\n",
    "\n",
    "train_df, val_df = train_test_split(df, test_size=0.3, shuffle=True)\n",
    "val_df, test_df = train_test_split(val_df, test_size=0.1, shuffle=False)"
   ]
  },
  {
   "cell_type": "code",
   "execution_count": 14,
   "metadata": {},
   "outputs": [
    {
     "data": {
      "text/plain": [
       "(430, 166, 19)"
      ]
     },
     "execution_count": 14,
     "metadata": {},
     "output_type": "execute_result"
    }
   ],
   "source": [
    "len(train_df), len(val_df), len(test_df)"
   ]
  },
  {
   "cell_type": "code",
   "execution_count": 15,
   "metadata": {},
   "outputs": [],
   "source": [
    "train_df.to_csv(\"dataset20/train_df.csv\", header=False , sep=\" \", index=False) \n",
    "val_df.to_csv(\"dataset20/val_df.csv\", header=False, sep=\" \", index=False)\n",
    "test_df.to_csv(\"dataset20/test_df.csv\", header=False, sep=\" \", index=False)"
   ]
  },
  {
   "cell_type": "markdown",
   "metadata": {},
   "source": [
    "#### Prepare and augment the dataset for better generalization of the mudel "
   ]
  },
  {
   "cell_type": "code",
   "execution_count": 16,
   "metadata": {},
   "outputs": [],
   "source": [
    "from pytorchvideo.transforms import (\n",
    "    ApplyTransformToKey,\n",
    "    Normalize,\n",
    "    RandomShortSideScale,\n",
    "    RemoveKey,\n",
    "    ShortSideScale,\n",
    "    UniformTemporalSubsample\n",
    ")\n",
    "\n",
    "from torchvision.transforms import (\n",
    "    Compose,\n",
    "    Lambda,\n",
    "    RandomCrop,\n",
    "    RandomHorizontalFlip\n",
    ")"
   ]
  },
  {
   "cell_type": "code",
   "execution_count": 17,
   "metadata": {},
   "outputs": [],
   "source": [
    "class KineticsDataModule(pytorch_lightning.LightningDataModule):\n",
    "\n",
    "  # Dataset configuration\n",
    "  _DATA_PATH = \"dataset20\"\n",
    "  _CLIP_DURATION = 2  # Duration of sampled clip for each video\n",
    "  _BATCH_SIZE = 6\n",
    "  _NUM_WORKERS = 0  # Number of parallel processes fetching data\n",
    "\n",
    "  train_transform = Compose(\n",
    "            [\n",
    "            ApplyTransformToKey(\n",
    "              key=\"video\",\n",
    "              transform=Compose(\n",
    "                  [\n",
    "                    UniformTemporalSubsample(15),\n",
    "                    Lambda(lambda x: x / 255.0),\n",
    "                    Normalize((0.45, 0.45, 0.45), (0.225, 0.225, 0.225)),\n",
    "                    RandomShortSideScale(min_size=248, max_size=256),\n",
    "                    RandomCrop(224),\n",
    "                    RandomHorizontalFlip(p=0.5),\n",
    "                  ]\n",
    "                ),\n",
    "              ),\n",
    "            ]\n",
    "        )\n",
    "  \n",
    "  video_transform = Compose(\n",
    "            [\n",
    "            ApplyTransformToKey(\n",
    "              key=\"video\",\n",
    "              transform=Compose(\n",
    "                  [\n",
    "                    UniformTemporalSubsample(15),\n",
    "                    Lambda(lambda x: x / 255.0),\n",
    "                    Normalize((0.45, 0.45, 0.45), (0.225, 0.225, 0.225))\n",
    "                  ]\n",
    "                ),\n",
    "              ),\n",
    "            ]\n",
    "        )\n",
    "\n",
    "  def train_dataloader(self):\n",
    "    \"\"\"\n",
    "    Create the Kinetics train partition from the list of video labels\n",
    "    in {self._DATA_PATH}/train\n",
    "    \"\"\"\n",
    "\n",
    "    train_dataset = Kinetics(\n",
    "        data_path=os.path.join(self._DATA_PATH, \"train_df.csv\"),\n",
    "        clip_sampler=make_clip_sampler(\"random\", self._CLIP_DURATION),\n",
    "        transform=self.train_transform,\n",
    "        decode_audio=False,\n",
    "    )\n",
    "    return torch.utils.data.DataLoader(\n",
    "        train_dataset,\n",
    "        batch_size=self._BATCH_SIZE,\n",
    "        num_workers=self._NUM_WORKERS,\n",
    "    )\n",
    "\n",
    "  def val_dataloader(self):\n",
    "    \"\"\"\n",
    "    Create the Kinetics validation partition from the list of video labels\n",
    "    in {self._DATA_PATH}/val\n",
    "    \"\"\"\n",
    "    val_dataset = Kinetics(\n",
    "        data_path=os.path.join(self._DATA_PATH, \"val_df.csv\"),\n",
    "        clip_sampler=make_clip_sampler(\"uniform\", self._CLIP_DURATION),\n",
    "        transform=self.video_transform,\n",
    "        decode_audio=False,\n",
    "    )\n",
    "    return torch.utils.data.DataLoader(\n",
    "        val_dataset,\n",
    "        batch_size=self._BATCH_SIZE,\n",
    "        num_workers=self._NUM_WORKERS,\n",
    "    )\n",
    "  \n",
    "  def test_dataloader(self):\n",
    "    \"\"\"\n",
    "    Create the Kinetics testing partition from the list of video labels\n",
    "    in {self._DATA_PATH}/test\n",
    "    \"\"\"\n",
    "    test_dataset = Kinetics(\n",
    "        data_path=os.path.join(self._DATA_PATH, \"test_df.csv\"),\n",
    "        clip_sampler=make_clip_sampler(\"uniform\", self._CLIP_DURATION),\n",
    "        transform=self.video_transform,\n",
    "        decode_audio=False,\n",
    "    )\n",
    "    return torch.utils.data.DataLoader(\n",
    "        test_dataset,\n",
    "        batch_size=self._BATCH_SIZE,\n",
    "        num_workers=self._NUM_WORKERS,\n",
    "    )"
   ]
  },
  {
   "cell_type": "code",
   "execution_count": 18,
   "metadata": {},
   "outputs": [
    {
     "name": "stdout",
     "output_type": "stream",
     "text": [
      "dict_keys(['video', 'video_name', 'video_index', 'clip_index', 'aug_index', 'label'])\n",
      "torch.Size([6, 3, 15, 240, 320]) torch.Size([6])\n"
     ]
    }
   ],
   "source": [
    "video_transform = Compose(\n",
    "            [\n",
    "            ApplyTransformToKey(\n",
    "              key=\"video\",\n",
    "              transform=Compose(\n",
    "                  [\n",
    "                    UniformTemporalSubsample(15),\n",
    "                    Lambda(lambda x: x / 255.0),\n",
    "                    Normalize((0.45, 0.45, 0.45), (0.225, 0.225, 0.225))\n",
    "                  ]\n",
    "                ),\n",
    "              ),\n",
    "            ]\n",
    "        )\n",
    "\n",
    "test_dataset = Kinetics(\"dataset20/test_df.csv\",\n",
    "                                      clip_sampler=make_clip_sampler('uniform', 2),\n",
    "                                      transform=video_transform,\n",
    "                                      decode_audio=False\n",
    "                                      )\n",
    "loader = torch.utils.data.DataLoader(\n",
    "    test_dataset,\n",
    "    batch_size=6,\n",
    "    num_workers=0,\n",
    "    pin_memory=True\n",
    ")\n",
    "\n",
    "batch = next(iter(loader))\n",
    "print(batch.keys())\n",
    "print(batch['video'].shape, batch['label'].shape)"
   ]
  },
  {
   "cell_type": "markdown",
   "metadata": {},
   "source": [
    "We can see that each clip in the dataset is in following dictionary format:\n",
    "```\n",
    " {\n",
    "     'video': <video_tensor>,     # Shape: (C, T, H, W)\n",
    "     'audio': <audio_tensor>,     # Shape: (S)\n",
    "     'label': <action_label>,     # Integer defining class annotation\n",
    "     'video_name': <video_path>,  # Video file path stem\n",
    "     'video_index': <video_id>,   # index of video used by sampler\n",
    "     'clip_index': <clip_id>      # index of clip sampled within video\n",
    "  } \n",
    "```"
   ]
  },
  {
   "cell_type": "code",
   "execution_count": 19,
   "metadata": {},
   "outputs": [],
   "source": [
    "from pytorchvideo.models.x3d import create_x3d\n",
    "\n",
    "def make_kinetics_x3d():\n",
    "    return create_x3d(\n",
    "        input_channel=3,\n",
    "        depth_factor=2.2,\n",
    "        model_num_class=len(categories),\n",
    "        dropout_rate=0.5,\n",
    "        norm=torch.nn.BatchNorm3d,\n",
    "        activation=torch.nn.ReLU\n",
    "    )"
   ]
  },
  {
   "cell_type": "code",
   "execution_count": null,
   "metadata": {},
   "outputs": [],
   "source": [
    "class VideoClassificationLightningModule(pytorch_lightning.LightningModule):\n",
    "  def __init__(self):\n",
    "      super().__init__()\n",
    "      self.model = make_kinetics_x3d()\n",
    "      self.mca = torchmetrics.Accuracy(task='multiclass', num_classes=len(categories))\n",
    "\n",
    "  def forward(self, x):\n",
    "      return self.model(x)\n",
    "\n",
    "  def training_step(self, batch, batch_idx):\n",
    "      # The model expects a video tensor of shape (B, C, T, H, W), which is the\n",
    "      # format provided by the dataset\n",
    "      y_hat = self.model(batch[\"video\"])\n",
    "\n",
    "      # Compute cross entropy loss, loss.backwards will be called behind the scenes\n",
    "      # by PyTorchLightning after being returned from this method.\n",
    "      loss = torch.nn.functional.cross_entropy(y_hat, batch[\"label\"])\n",
    "\n",
    "      # Log the train loss to Tensorboard\n",
    "      self.log(\"train_loss\", loss.item())\n",
    "      \n",
    "      return loss\n",
    "\n",
    "  def validation_step(self, batch, batch_idx):\n",
    "      y_hat = self.model(batch[\"video\"])\n",
    "      loss = torch.nn.functional.cross_entropy(y_hat, batch[\"label\"])\n",
    "      metric = self.mca(y_hat, batch['label'].to(torch.int64))\n",
    "      self.log(\"val_loss\", loss)\n",
    "      return loss\n",
    "\n",
    "  def configure_optimizers(self):\n",
    "      \"\"\"\n",
    "      Setup the Adam optimizer. Note, that this function also can return a lr scheduler, which is\n",
    "      usually useful for training video models.\n",
    "      \"\"\"\n",
    "      return torch.optim.Adam(self.parameters(), lr=1e-4)"
   ]
  },
  {
   "cell_type": "code",
   "execution_count": 21,
   "metadata": {},
   "outputs": [],
   "source": [
    "import pytorch_lightning.callbacks\n",
    "\n",
    "checkpoints_callback = pytorch_lightning.callbacks.ModelCheckpoint(\n",
    "    monitor='val_loss',\n",
    "    dirpath='checkpoints',\n",
    "    filename='file',\n",
    "    save_last=True)\n",
    "\n",
    "lr_monitor = pytorch_lightning.callbacks.LearningRateMonitor(logging_interval='epoch')"
   ]
  },
  {
   "cell_type": "code",
   "execution_count": 22,
   "metadata": {},
   "outputs": [
    {
     "name": "stderr",
     "output_type": "stream",
     "text": [
      "GPU available: True (cuda), used: True\n",
      "TPU available: False, using: 0 TPU cores\n",
      "HPU available: False, using: 0 HPUs\n",
      "/home/joker/Documents/devProjects/myenv/lib/python3.12/site-packages/pytorch_lightning/trainer/connectors/logger_connector/logger_connector.py:76: Starting from v1.9.0, `tensorboardX` has been removed as a dependency of the `pytorch_lightning` package, due to potential conflicts with other packages in the ML ecosystem. For this reason, `logger=True` will use `CSVLogger` as the default logger, unless the `tensorboard` or `tensorboardX` packages are found. Please `pip install lightning[extra]` or one of them to enable TensorBoard support by default\n"
     ]
    }
   ],
   "source": [
    "classification_module = VideoClassificationLightningModule()\n",
    "\n",
    "data_module = KineticsDataModule()\n",
    "trainer = pytorch_lightning.Trainer(\n",
    "    max_epochs=50,\n",
    "    accelerator='gpu',\n",
    "    devices=-1,\n",
    "    accumulate_grad_batches=2,\n",
    "    enable_progress_bar=True,\n",
    "    num_sanity_val_steps=0,\n",
    "    callbacks=[lr_monitor, checkpoints_callback],\n",
    "    limit_train_batches=36,\n",
    "    limit_val_batches=12\n",
    ")"
   ]
  },
  {
   "cell_type": "code",
   "execution_count": 22,
   "metadata": {},
   "outputs": [
    {
     "name": "stderr",
     "output_type": "stream",
     "text": [
      "You are using a CUDA device ('NVIDIA GeForce RTX 3070') that has Tensor Cores. To properly utilize them, you should set `torch.set_float32_matmul_precision('medium' | 'high')` which will trade-off precision for performance. For more details, read https://pytorch.org/docs/stable/generated/torch.set_float32_matmul_precision.html#torch.set_float32_matmul_precision\n",
      "/home/joker/Documents/devProjects/myenv/lib/python3.12/site-packages/pytorch_lightning/callbacks/model_checkpoint.py:654: Checkpoint directory /home/joker/Documents/devProjects/Python/checkpoints exists and is not empty.\n",
      "LOCAL_RANK: 0 - CUDA_VISIBLE_DEVICES: [0]\n",
      "\n",
      "  | Name  | Type | Params | Mode \n",
      "---------------------------------------\n",
      "0 | model | Net  | 3.0 M  | train\n",
      "---------------------------------------\n",
      "3.0 M     Trainable params\n",
      "0         Non-trainable params\n",
      "3.0 M     Total params\n",
      "11.940    Total estimated model params size (MB)\n",
      "447       Modules in train mode\n",
      "0         Modules in eval mode\n",
      "/home/joker/Documents/devProjects/myenv/lib/python3.12/site-packages/pytorch_lightning/trainer/connectors/data_connector.py:425: The 'train_dataloader' does not have many workers which may be a bottleneck. Consider increasing the value of the `num_workers` argument` to `num_workers=11` in the `DataLoader` to improve performance.\n",
      "/home/joker/Documents/devProjects/myenv/lib/python3.12/site-packages/pytorch_lightning/loops/fit_loop.py:310: The number of training batches (36) is smaller than the logging interval Trainer(log_every_n_steps=50). Set a lower value for log_every_n_steps if you want to see logs for the training epoch.\n",
      "/home/joker/Documents/devProjects/myenv/lib/python3.12/site-packages/pytorch_lightning/trainer/connectors/data_connector.py:425: The 'val_dataloader' does not have many workers which may be a bottleneck. Consider increasing the value of the `num_workers` argument` to `num_workers=11` in the `DataLoader` to improve performance.\n"
     ]
    },
    {
     "name": "stdout",
     "output_type": "stream",
     "text": [
      "Epoch 0: 100%|██████████| 36/36 [00:58<00:00,  0.61it/s, v_num=79]"
     ]
    },
    {
     "name": "stderr",
     "output_type": "stream",
     "text": [
      "/home/joker/Documents/devProjects/myenv/lib/python3.12/site-packages/pytorch_lightning/utilities/data.py:79: Trying to infer the `batch_size` from an ambiguous collection. The batch size we found is 6. To avoid any miscalculations, use `self.log(..., batch_size=batch_size)`.\n"
     ]
    },
    {
     "name": "stdout",
     "output_type": "stream",
     "text": [
      "Epoch 7:   0%|          | 0/36 [00:00<?, ?it/s, v_num=79]         "
     ]
    },
    {
     "name": "stderr",
     "output_type": "stream",
     "text": [
      "Could not find ref with POC 0\n"
     ]
    },
    {
     "name": "stdout",
     "output_type": "stream",
     "text": [
      "Epoch 14: 100%|██████████| 36/36 [00:57<00:00,  0.63it/s, v_num=79]"
     ]
    },
    {
     "name": "stderr",
     "output_type": "stream",
     "text": [
      "Could not find ref with POC 0\n",
      " (repeated 5 more times)\n",
      "Could not find ref with POC 1024\n"
     ]
    },
    {
     "name": "stdout",
     "output_type": "stream",
     "text": [
      "Epoch 49: 100%|██████████| 36/36 [01:06<00:00,  0.54it/s, v_num=79]"
     ]
    },
    {
     "name": "stderr",
     "output_type": "stream",
     "text": [
      "`Trainer.fit` stopped: `max_epochs=50` reached.\n"
     ]
    },
    {
     "name": "stdout",
     "output_type": "stream",
     "text": [
      "Epoch 49: 100%|██████████| 36/36 [01:06<00:00,  0.54it/s, v_num=79]\n"
     ]
    }
   ],
   "source": [
    "trainer.fit(classification_module, data_module)"
   ]
  },
  {
   "cell_type": "code",
   "execution_count": 30,
   "metadata": {},
   "outputs": [
    {
     "name": "stderr",
     "output_type": "stream",
     "text": [
      "/home/joker/Documents/devProjects/myenv/lib/python3.12/site-packages/pytorch_lightning/trainer/connectors/checkpoint_connector.py:145: `.validate(ckpt_path=None)` was called without a model. The best model of the previous `fit` call will be used. You can pass `.validate(ckpt_path='best')` to use the best model or `.validate(ckpt_path='last')` to use the last model. If you pass a value, this warning will be silenced.\n",
      "Restoring states from the checkpoint path at /home/joker/Documents/devProjects/Python/checkpoints/file-v3.ckpt\n",
      "LOCAL_RANK: 0 - CUDA_VISIBLE_DEVICES: [0]\n",
      "Loaded model weights from the checkpoint at /home/joker/Documents/devProjects/Python/checkpoints/file-v3.ckpt\n",
      "/home/joker/Documents/devProjects/myenv/lib/python3.12/site-packages/pytorch_lightning/trainer/connectors/data_connector.py:425: The 'val_dataloader' does not have many workers which may be a bottleneck. Consider increasing the value of the `num_workers` argument` to `num_workers=11` in the `DataLoader` to improve performance.\n"
     ]
    },
    {
     "name": "stdout",
     "output_type": "stream",
     "text": [
      "Validation DataLoader 0: 100%|██████████| 12/12 [00:13<00:00,  0.86it/s]\n",
      "────────────────────────────────────────────────────────────────────────────────────────────────────────────────────────\n",
      "     Validate metric           DataLoader 0\n",
      "────────────────────────────────────────────────────────────────────────────────────────────────────────────────────────\n",
      "        val_loss            1.5119069814682007\n",
      "────────────────────────────────────────────────────────────────────────────────────────────────────────────────────────\n"
     ]
    },
    {
     "data": {
      "text/plain": [
       "[{'val_loss': 1.5119069814682007}]"
      ]
     },
     "execution_count": 30,
     "metadata": {},
     "output_type": "execute_result"
    }
   ],
   "source": [
    "trainer.validate(datamodule=data_module)"
   ]
  },
  {
   "cell_type": "code",
   "execution_count": null,
   "metadata": {},
   "outputs": [],
   "source": []
  }
 ],
 "metadata": {
  "kernelspec": {
   "display_name": "myenv",
   "language": "python",
   "name": "python3"
  },
  "language_info": {
   "codemirror_mode": {
    "name": "ipython",
    "version": 3
   },
   "file_extension": ".py",
   "mimetype": "text/x-python",
   "name": "python",
   "nbconvert_exporter": "python",
   "pygments_lexer": "ipython3",
   "version": "3.12.9"
  }
 },
 "nbformat": 4,
 "nbformat_minor": 2
}
