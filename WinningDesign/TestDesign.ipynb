{
 "cells": [
  {
   "cell_type": "markdown",
   "metadata": {},
   "source": [
    "# X3D (eXpanded 3D) Implementation - Design Alternative 1"
   ]
  },
  {
   "cell_type": "markdown",
   "metadata": {},
   "source": [
    "`Warning:` Do not run all the code, read the notes first before running them as they may reduce your device's memory when not careful, leading to a kernel crash or Out-Of-Memory (OOM) Error, sige ka magla-lag yang pc mo. Check your pc's specs first before executing each code cell."
   ]
  },
  {
   "cell_type": "markdown",
   "metadata": {},
   "source": [
    "**Local System Specifications used to train the model:** <br>\n",
    "| Component  | Device   |\n",
    "| :------------- | :--------------- | \n",
    "| CPU   | AMD Ryzen 5 5600x     | \n",
    "| GPU   | Nvidia GeForce RTX 3070  8GB   | \n",
    "| RAM   | 32 GB     | \n",
    "| OS | Arch Linux |"
   ]
  },
  {
   "cell_type": "markdown",
   "metadata": {},
   "source": [
    "`Note:` Most of this notebook's implementatins will be referenced from [PytorchVideo](https://pytorchvideo.org/docs/tutorial_overview) and [Facebook Research GitHub](https://github.com/facebookresearch/pytorchvideo.git)"
   ]
  },
  {
   "cell_type": "markdown",
   "metadata": {},
   "source": [
    "#### Needed Libraries to train the model (Install through the terminal)<br>\n",
    "\n",
    "**Standard libraries**\n",
    "```\n",
    "pip install imageio opencv-python tqdm seaborn scikit-learn pandas matplotlib mediapipe moviepy PyQt5 qrcode flask\n",
    "```\n",
    "\n",
    "**For CUDA (naka nvidia na gpu using \"Linux\")**\n",
    "```\n",
    "pip3 install torch torchvision torchaudio --index-url https://download.pytorch.org/whl/cu126\n",
    "pip install \"git+https://github.com/facebookresearch/pytorchvideo.git\"\n",
    "pip install lightning torchmetrics\n",
    "```\n",
    "\n",
    "**Test dataset**\n",
    "```\n",
    "wget --no-check-certificate https://www.crcv.ucf.edu/data/UCF101/UCF101.rar\n",
    "unrar x UCF101.rar\n",
    "```"
   ]
  },
  {
   "cell_type": "markdown",
   "metadata": {},
   "source": [
    "`Note:` If you are using an AMD GPU and would want to train models, I highly suggest using ROCM which is an alternative for CUDA which is an NVIDIA proprietary architecture for GPU acceleration"
   ]
  },
  {
   "cell_type": "markdown",
   "metadata": {},
   "source": [
    "#### Import Libraries"
   ]
  },
  {
   "cell_type": "code",
   "execution_count": 1,
   "metadata": {},
   "outputs": [],
   "source": [
    "import sys\n",
    "sys.path.append('pytorchvideo')\n",
    "import torchvision.transforms.functional as F_t\n",
    "\n",
    "sys.modules[\"torchvision.transforms.functional_tensor\"] = F_t\n",
    "import pytorchvideo\n",
    "from pytorchvideo.data import *\n",
    "import pytorch_lightning\n",
    "import torchmetrics\n",
    "import torch\n",
    "\n",
    "import pandas as pd\n",
    "import pathlib\n",
    "import os\n",
    "import argparse\n",
    "import numpy as np\n",
    "import matplotlib.pyplot as plt"
   ]
  },
  {
   "cell_type": "code",
   "execution_count": 2,
   "metadata": {},
   "outputs": [
    {
     "data": {
      "text/plain": [
       "(True, 'NVIDIA GeForce RTX 3070')"
      ]
     },
     "execution_count": 2,
     "metadata": {},
     "output_type": "execute_result"
    }
   ],
   "source": [
    "torch.cuda.is_available(), torch.cuda.get_device_name() # Check if GPU is available"
   ]
  },
  {
   "cell_type": "markdown",
   "metadata": {},
   "source": [
    "`Note`: CUDA will be used for training the model, If you are using an AMD card, I suggest you look up on ROCM as AMD's alternative for NVIDIA's CUDA, it might have support on the libraries that will be used."
   ]
  },
  {
   "cell_type": "markdown",
   "metadata": {},
   "source": [
    "#### Prepare the dataset"
   ]
  },
  {
   "cell_type": "code",
   "execution_count": 4,
   "metadata": {},
   "outputs": [],
   "source": [
    "dataset_dir = \"./Copy/PD_Dataset\""
   ]
  },
  {
   "cell_type": "code",
   "execution_count": 5,
   "metadata": {},
   "outputs": [],
   "source": [
    "def renameFile():\n",
    "    for file_path in pathlib.Path(dataset_dir).rglob(\"*.avi\"):\n",
    "        # Get the parent directory name and clean it up\n",
    "        # Clean the file name by replacing spaces with underscores\n",
    "        file_clean = file_path.name.replace(\" \", \"_\")\n",
    "        \n",
    "        # Create the new file namev\n",
    "        new_name = f\"{file_clean}\"\n",
    "        new_path = file_path.parent / new_name\n",
    "        \n",
    "        print(f\"Renaming: {file_path} -> {new_path}\")\n",
    "        file_path.rename(new_path)"
   ]
  },
  {
   "cell_type": "code",
   "execution_count": 6,
   "metadata": {},
   "outputs": [],
   "source": [
    "#renameFile() #run once..."
   ]
  },
  {
   "cell_type": "code",
   "execution_count": 7,
   "metadata": {},
   "outputs": [
    {
     "name": "stdout",
     "output_type": "stream",
     "text": [
      "[0, 0, 0, 0, 0, 0, 0, 0, 0, 0, 0, 0, 0, 0, 0, 0, 0, 0, 0, 0, 0, 0, 0, 0, 0, 0, 0, 0, 0, 0, 0, 0, 0, 0, 0, 0, 0, 0, 0, 0, 0, 0, 0, 0, 0, 0, 0, 0, 0, 0, 0, 0, 0, 0, 0, 0, 0, 0, 0, 0, 0, 0, 0, 0, 0, 0, 0, 0, 0, 0, 0, 0, 0, 0, 0, 0, 0, 0, 0, 0, 0, 0, 0, 0, 0, 0, 0, 0, 0, 0, 0, 0, 0, 0, 0, 0, 0, 0, 0, 0, 0, 0, 0, 0, 0, 0, 0, 0, 0, 0, 0, 0, 0, 0, 0, 0, 0, 0, 0, 0, 0, 0, 0, 0, 0, 0, 0, 0, 0, 0, 0, 0, 0, 0, 0, 0, 0, 0, 0, 0, 0, 0, 0, 0, 0, 0, 0, 0, 0, 0, 0, 0, 0, 0, 0, 0, 0, 0, 1, 1, 1, 1, 1, 1, 1, 1, 1, 1, 1, 1, 1, 1, 1, 1, 1, 1, 1, 1, 1, 1, 1, 1, 1, 1, 1, 1, 1, 1, 1, 1, 1, 1, 1, 1, 1, 1, 1, 1, 1, 1, 1, 1, 1, 1, 1, 1, 1, 1, 1, 1, 1, 1, 1, 1, 1, 1, 1, 1, 1, 1, 1, 1, 1, 1, 1, 1, 1, 1, 1, 1, 1, 1, 1, 1, 1, 1, 1, 1, 1, 1, 1, 1, 1, 1, 1, 1, 1, 1, 1, 1, 1, 1, 1, 1, 1, 1, 1, 1, 1, 1, 1, 1, 1, 1, 1, 1, 1, 1, 1, 1, 1, 1, 1, 1, 1, 1, 1, 1, 1, 1, 1, 1, 1, 1, 1, 1, 1, 1, 1, 1, 1, 1, 1, 1, 1, 1, 1, 1, 2, 2, 2, 2, 2, 2, 2, 2, 2, 2, 2, 2, 2, 2, 2, 2, 2, 2, 2, 2, 2, 2, 2, 2, 2, 2, 2, 2, 2, 2, 2, 2, 2, 2, 2, 2, 2, 2, 2, 2, 2, 2, 2, 2, 2, 2, 2, 2, 2, 2, 2, 2, 2, 2, 2, 2, 2, 2, 2, 2, 2, 2, 2, 2, 2, 2, 2, 2, 2, 2, 2, 2, 2, 2, 2, 2, 2, 2, 2, 2, 2, 2, 2, 2, 2, 2, 2, 2, 2, 2, 2, 2, 2, 2, 2, 2, 2, 2, 2, 2, 2, 2, 2, 2, 2, 2, 2, 2, 2, 2, 2, 2, 2, 2, 2, 2, 2, 2, 2, 2, 2, 2, 2, 2, 2, 2, 2, 2, 2, 2, 2, 2, 2, 2, 2, 2, 2, 2, 2, 2, 2, 2, 2, 2, 2, 2, 2, 2, 2, 2, 2, 3, 3, 3, 3, 3, 3, 3, 3, 3, 3, 3, 3, 3, 3, 3, 3, 3, 3, 3, 3, 3, 3, 3, 3, 3, 3, 3, 3, 3, 3, 3, 3, 3, 3, 3, 3, 3, 3, 3, 3, 3, 3, 3, 3, 3, 3, 3, 3, 3, 3, 3, 3, 3, 3, 3, 3, 3, 3, 3, 3, 3, 3, 3, 3, 3, 3, 3, 3, 3, 3, 3, 3, 3, 3, 3, 3, 3, 3, 3, 3, 3, 3, 3, 3, 3, 3, 3, 3, 3, 3, 3, 3, 3, 3, 3, 3, 3, 3, 3, 3, 3, 3, 3, 3, 3, 3, 3, 3, 3, 3, 3, 3, 3, 3, 3, 3, 3, 3, 3, 3, 3, 3, 3, 3, 3, 3, 3, 3, 3, 3, 3, 3, 3, 3, 3, 3, 3, 3, 3, 3, 3, 3, 3, 3, 3, 3, 3, 3, 3, 3, 3, 3, 3, 3, 3, 3, 3, 3, 3, 3, 3, 3, 3, 3, 3, 3, 3, 3, 3, 3, 3, 3, 3, 3, 3, 3, 3, 3, 3, 3, 3, 3, 3, 4, 4, 4, 4, 4, 4, 4, 4, 4, 4, 4, 4, 4, 4, 4, 4, 4, 4, 4, 4, 4, 4, 4, 4, 4, 4, 4, 4, 4, 4, 4, 4, 4, 4, 4, 4, 4, 4, 4, 4, 4, 4, 4, 4, 4, 4, 4, 4, 4, 4, 4, 4, 4, 4, 4, 4, 4, 4, 4, 4, 4, 4, 4, 4, 4, 4, 4, 4, 4, 4, 4, 4, 4, 4, 4, 4, 4, 4, 4, 4, 4, 4, 4, 4, 4, 4, 4, 4, 4, 4, 4, 4, 4, 4, 4, 4, 4, 4, 4, 4, 4, 4, 4, 4, 4, 4, 4, 4, 4, 4, 4, 4, 4, 4, 4, 4, 4, 4, 4, 4, 4, 4, 4, 4, 4, 4, 4, 4, 4, 4, 4, 4]\n",
      "[PosixPath('Copy/PD_Dataset/BarbellCurl/[SHANA]VID_20250314211321.avi'), PosixPath('Copy/PD_Dataset/BarbellCurl/[SHANA]VID_20250314211439.avi'), PosixPath('Copy/PD_Dataset/BarbellCurl/[SHANA]VID_20250314211518.avi'), PosixPath('Copy/PD_Dataset/BarbellCurl/[SHANA]VID_20250314211557.avi'), PosixPath('Copy/PD_Dataset/BarbellCurl/[SHANA]VID_20250314211631.avi'), PosixPath('Copy/PD_Dataset/BarbellCurl/[SHANA]VID_20250314211722.avi'), PosixPath('Copy/PD_Dataset/BarbellCurl/[SHANA]VID_20250314211805.avi'), PosixPath('Copy/PD_Dataset/BarbellCurl/[SHANA]VID_20250314211849.avi'), PosixPath('Copy/PD_Dataset/BarbellCurl/barbell_curls_(11).avi'), PosixPath('Copy/PD_Dataset/BarbellCurl/barbell_curls_(12).avi'), PosixPath('Copy/PD_Dataset/BarbellCurl/barbell_curls_(13).avi'), PosixPath('Copy/PD_Dataset/BarbellCurl/barbell_curls_(14).avi'), PosixPath('Copy/PD_Dataset/BarbellCurl/barbell_curls_(15).avi'), PosixPath('Copy/PD_Dataset/BarbellCurl/barbell_curls_(16).avi'), PosixPath('Copy/PD_Dataset/BarbellCurl/barbell_curls_(17).avi'), PosixPath('Copy/PD_Dataset/BarbellCurl/barbell_curls_(18).avi'), PosixPath('Copy/PD_Dataset/BarbellCurl/barbell_curls_(19).avi'), PosixPath('Copy/PD_Dataset/BarbellCurl/barbell_curls_(2).avi'), PosixPath('Copy/PD_Dataset/BarbellCurl/barbell_curls_(20).avi'), PosixPath('Copy/PD_Dataset/BarbellCurl/barbell_curls_(21).avi'), PosixPath('Copy/PD_Dataset/BarbellCurl/barbell_curls_(22).avi'), PosixPath('Copy/PD_Dataset/BarbellCurl/barbell_curls_(23).avi'), PosixPath('Copy/PD_Dataset/BarbellCurl/barbell_curls_(24).avi'), PosixPath('Copy/PD_Dataset/BarbellCurl/barbell_curls_(26).avi'), PosixPath('Copy/PD_Dataset/BarbellCurl/barbell_curls_(27).avi'), PosixPath('Copy/PD_Dataset/BarbellCurl/barbell_curls_(28).avi'), PosixPath('Copy/PD_Dataset/BarbellCurl/barbell_curls_(29).avi'), PosixPath('Copy/PD_Dataset/BarbellCurl/barbell_curls_(3).avi'), PosixPath('Copy/PD_Dataset/BarbellCurl/barbell_curls_(30).avi'), PosixPath('Copy/PD_Dataset/BarbellCurl/barbell_curls_(31).avi'), PosixPath('Copy/PD_Dataset/BarbellCurl/barbell_curls_(32).avi'), PosixPath('Copy/PD_Dataset/BarbellCurl/barbell_curls_(33).avi'), PosixPath('Copy/PD_Dataset/BarbellCurl/barbell_curls_(34).avi'), PosixPath('Copy/PD_Dataset/BarbellCurl/barbell_curls_(35).avi'), PosixPath('Copy/PD_Dataset/BarbellCurl/barbell_curls_(36).avi'), PosixPath('Copy/PD_Dataset/BarbellCurl/barbell_curls_(37).avi'), PosixPath('Copy/PD_Dataset/BarbellCurl/barbell_curls_(38).avi'), PosixPath('Copy/PD_Dataset/BarbellCurl/barbell_curls_(39).avi'), PosixPath('Copy/PD_Dataset/BarbellCurl/barbell_curls_(40).avi'), PosixPath('Copy/PD_Dataset/BarbellCurl/barbell_curls_(41).avi'), PosixPath('Copy/PD_Dataset/BarbellCurl/barbell_curls_(42).avi'), PosixPath('Copy/PD_Dataset/BarbellCurl/barbell_curls_(43).avi'), PosixPath('Copy/PD_Dataset/BarbellCurl/barbell_curls_(44).avi'), PosixPath('Copy/PD_Dataset/BarbellCurl/barbell_curls_(45).avi'), PosixPath('Copy/PD_Dataset/BarbellCurl/barbell_curls_(46).avi'), PosixPath('Copy/PD_Dataset/BarbellCurl/barbell_curls_(47).avi'), PosixPath('Copy/PD_Dataset/BarbellCurl/barbell_curls_(48).avi'), PosixPath('Copy/PD_Dataset/BarbellCurl/barbell_curls_(49).avi'), PosixPath('Copy/PD_Dataset/BarbellCurl/barbell_curls_(5).avi'), PosixPath('Copy/PD_Dataset/BarbellCurl/barbell_curls_(50).avi'), PosixPath('Copy/PD_Dataset/BarbellCurl/barbell_curls_(51).avi'), PosixPath('Copy/PD_Dataset/BarbellCurl/barbell_curls_(52).avi'), PosixPath('Copy/PD_Dataset/BarbellCurl/barbell_curls_(53).avi'), PosixPath('Copy/PD_Dataset/BarbellCurl/barbell_curls_(103).avi'), PosixPath('Copy/PD_Dataset/BarbellCurl/barbell_curls_(25).avi'), PosixPath('Copy/PD_Dataset/BarbellCurl/barbell_curls_(4).avi'), PosixPath('Copy/PD_Dataset/BarbellCurl/barbell_curls_(54).avi'), PosixPath('Copy/PD_Dataset/BarbellCurl/barbell_curls_(69).avi'), PosixPath('Copy/PD_Dataset/BarbellCurl/barbell_curls_(83).avi'), PosixPath('Copy/PD_Dataset/BarbellCurl/barbell_curls_(98).avi'), PosixPath('Copy/PD_Dataset/BarbellCurl/[SHANA]BarbellCurls_2.avi'), PosixPath('Copy/PD_Dataset/BarbellCurl/barbell_curls_(55).avi'), PosixPath('Copy/PD_Dataset/BarbellCurl/barbell_curls_(56).avi'), PosixPath('Copy/PD_Dataset/BarbellCurl/barbell_curls_(57).avi'), PosixPath('Copy/PD_Dataset/BarbellCurl/barbell_curls_(58).avi'), PosixPath('Copy/PD_Dataset/BarbellCurl/barbell_curls_(59).avi'), PosixPath('Copy/PD_Dataset/BarbellCurl/barbell_curls_(6).avi'), PosixPath('Copy/PD_Dataset/BarbellCurl/barbell_curls_(60).avi'), PosixPath('Copy/PD_Dataset/BarbellCurl/barbell_curls_(61).avi'), PosixPath('Copy/PD_Dataset/BarbellCurl/barbell_curls_(62).avi'), PosixPath('Copy/PD_Dataset/BarbellCurl/barbell_curls_(63).avi'), PosixPath('Copy/PD_Dataset/BarbellCurl/barbell_curls_(64).avi'), PosixPath('Copy/PD_Dataset/BarbellCurl/barbell_curls_(65).avi'), PosixPath('Copy/PD_Dataset/BarbellCurl/barbell_curls_(66).avi'), PosixPath('Copy/PD_Dataset/BarbellCurl/barbell_curls_(67).avi'), PosixPath('Copy/PD_Dataset/BarbellCurl/barbell_curls_(68).avi'), PosixPath('Copy/PD_Dataset/BarbellCurl/barbell_curls_(7).avi'), PosixPath('Copy/PD_Dataset/BarbellCurl/barbell_curls_(70).avi'), PosixPath('Copy/PD_Dataset/BarbellCurl/barbell_curls_(71).avi'), PosixPath('Copy/PD_Dataset/BarbellCurl/barbell_curls_(72).avi'), PosixPath('Copy/PD_Dataset/BarbellCurl/barbell_curls_(73).avi'), PosixPath('Copy/PD_Dataset/BarbellCurl/barbell_curls_(74).avi'), PosixPath('Copy/PD_Dataset/BarbellCurl/barbell_curls_(75).avi'), PosixPath('Copy/PD_Dataset/BarbellCurl/barbell_curls_(76).avi'), PosixPath('Copy/PD_Dataset/BarbellCurl/barbell_curls_(77).avi'), PosixPath('Copy/PD_Dataset/BarbellCurl/barbell_curls_(78).avi'), PosixPath('Copy/PD_Dataset/BarbellCurl/barbell_curls_(79).avi'), PosixPath('Copy/PD_Dataset/BarbellCurl/barbell_curls_(8).avi'), PosixPath('Copy/PD_Dataset/BarbellCurl/barbell_curls_(80).avi'), PosixPath('Copy/PD_Dataset/BarbellCurl/barbell_curls_(81).avi'), PosixPath('Copy/PD_Dataset/BarbellCurl/barbell_curls_(82).avi'), PosixPath('Copy/PD_Dataset/BarbellCurl/barbell_curls_(1).avi'), PosixPath('Copy/PD_Dataset/BarbellCurl/barbell_curls_(10).avi'), PosixPath('Copy/PD_Dataset/BarbellCurl/barbell_curls_(100).avi'), PosixPath('Copy/PD_Dataset/BarbellCurl/barbell_curls_(101).avi'), PosixPath('Copy/PD_Dataset/BarbellCurl/barbell_curls_(102).avi'), PosixPath('Copy/PD_Dataset/BarbellCurl/barbell_curls_(84).avi'), PosixPath('Copy/PD_Dataset/BarbellCurl/barbell_curls_(85).avi'), PosixPath('Copy/PD_Dataset/BarbellCurl/barbell_curls_(86).avi'), PosixPath('Copy/PD_Dataset/BarbellCurl/barbell_curls_(87).avi'), PosixPath('Copy/PD_Dataset/BarbellCurl/barbell_curls_(88).avi'), PosixPath('Copy/PD_Dataset/BarbellCurl/barbell_curls_(89).avi'), PosixPath('Copy/PD_Dataset/BarbellCurl/barbell_curls_(9).avi'), PosixPath('Copy/PD_Dataset/BarbellCurl/barbell_curls_(90).avi'), PosixPath('Copy/PD_Dataset/BarbellCurl/barbell_curls_(91).avi'), PosixPath('Copy/PD_Dataset/BarbellCurl/barbell_curls_(92).avi'), PosixPath('Copy/PD_Dataset/BarbellCurl/barbell_curls_(93).avi'), PosixPath('Copy/PD_Dataset/BarbellCurl/barbell_curls_(94).avi'), PosixPath('Copy/PD_Dataset/BarbellCurl/barbell_curls_(95).avi'), PosixPath('Copy/PD_Dataset/BarbellCurl/barbell_curls_(96).avi'), PosixPath('Copy/PD_Dataset/BarbellCurl/barbell_curls_(97).avi'), PosixPath('Copy/PD_Dataset/BarbellCurl/barbell_curls_(99).avi'), PosixPath('Copy/PD_Dataset/BarbellCurl/[SHANA]BarbellCurls_1.avi'), PosixPath('Copy/PD_Dataset/BarbellCurl/[SHANA]BarbellCurls_10.avi'), PosixPath('Copy/PD_Dataset/BarbellCurl/[SHANA]BarbellCurls_11.avi'), PosixPath('Copy/PD_Dataset/BarbellCurl/[SHANA]BarbellCurls_12.avi'), PosixPath('Copy/PD_Dataset/BarbellCurl/[SHANA]BarbellCurls_13.avi'), PosixPath('Copy/PD_Dataset/BarbellCurl/[SHANA]BarbellCurls_14.avi'), PosixPath('Copy/PD_Dataset/BarbellCurl/[SHANA]BarbellCurls_15.avi'), PosixPath('Copy/PD_Dataset/BarbellCurl/[SHANA]BarbellCurls_16.avi'), PosixPath('Copy/PD_Dataset/BarbellCurl/[SHANA]BarbellCurls_17.avi'), PosixPath('Copy/PD_Dataset/BarbellCurl/[SHANA]BarbellCurls_18.avi'), PosixPath('Copy/PD_Dataset/BarbellCurl/[SHANA]BarbellCurls_20.avi'), PosixPath('Copy/PD_Dataset/BarbellCurl/[SHANA]BarbellCurls_3.avi'), PosixPath('Copy/PD_Dataset/BarbellCurl/[SHANA]BarbellCurls_4.avi'), PosixPath('Copy/PD_Dataset/BarbellCurl/[SHANA]BarbellCurls_5.avi'), PosixPath('Copy/PD_Dataset/BarbellCurl/[SHANA]BarbellCurls_6.avi'), PosixPath('Copy/PD_Dataset/BarbellCurl/[SHANA]BarbellCurls_7.avi'), PosixPath('Copy/PD_Dataset/BarbellCurl/[SHANA]BarbellCurls_8.avi'), PosixPath('Copy/PD_Dataset/BarbellCurl/[SHANA]BarbellCurls_9.avi'), PosixPath('Copy/PD_Dataset/BarbellCurl/[SHANA]barbell_curls_(1).avi'), PosixPath('Copy/PD_Dataset/BarbellCurl/[SHANA]BarbellCurls_23.avi'), PosixPath('Copy/PD_Dataset/BarbellCurl/[SHANA]BarbellCurls_24.avi'), PosixPath('Copy/PD_Dataset/BarbellCurl/[SHANA]BarbellCurls_39.avi'), PosixPath('Copy/PD_Dataset/BarbellCurl/[SHANA]BarbellCurls_25.avi'), PosixPath('Copy/PD_Dataset/BarbellCurl/[SHANA]BarbellCurls_26.avi'), PosixPath('Copy/PD_Dataset/BarbellCurl/[SHANA]BarbellCurls_27.avi'), PosixPath('Copy/PD_Dataset/BarbellCurl/[SHANA]BarbellCurls_28.avi'), PosixPath('Copy/PD_Dataset/BarbellCurl/[SHANA]BarbellCurls_29.avi'), PosixPath('Copy/PD_Dataset/BarbellCurl/[SHANA]BarbellCurls_30.avi'), PosixPath('Copy/PD_Dataset/BarbellCurl/[SHANA]BarbellCurls_31.avi'), PosixPath('Copy/PD_Dataset/BarbellCurl/[SHANA]BarbellCurls_32.avi'), PosixPath('Copy/PD_Dataset/BarbellCurl/[SHANA]BarbellCurls_33.avi'), PosixPath('Copy/PD_Dataset/BarbellCurl/[SHANA]BarbellCurls_34.avi'), PosixPath('Copy/PD_Dataset/BarbellCurl/[SHANA]BarbellCurls_35.avi'), PosixPath('Copy/PD_Dataset/BarbellCurl/[SHANA]BarbellCurls_36.avi'), PosixPath('Copy/PD_Dataset/BarbellCurl/[SHANA]BarbellCurls_37.avi'), PosixPath('Copy/PD_Dataset/BarbellCurl/[SHANA]BarbellCurls_38.avi'), PosixPath('Copy/PD_Dataset/BarbellCurl/[SHANA]BarbellCurls_40_(1).avi'), PosixPath('Copy/PD_Dataset/BarbellCurl/[SHANA]BarbellCurls_40.avi'), PosixPath('Copy/PD_Dataset/BarbellCurl/[SHANA]BarbellCurls_41.avi'), PosixPath('Copy/PD_Dataset/BarbellCurl/[SHANA]BarbellCurls_42.avi'), PosixPath('Copy/PD_Dataset/BarbellCurl/[SHANA]BarbellCurls_43.avi'), PosixPath('Copy/PD_Dataset/BarbellCurl/[SHANA]BarbellCurls_44.avi'), PosixPath('Copy/PD_Dataset/BarbellCurl/[SHANA]BarbellCurls_45.avi'), PosixPath('Copy/PD_Dataset/BarbellCurl/[SHANA]BarbellCurls_46.avi'), PosixPath('Copy/PD_Dataset/BarbellCurl/[SHANA]BarbellCurls_47.avi'), PosixPath('Copy/PD_Dataset/BarbellCurl/[SHANA]BarbellCurls_48.avi'), PosixPath('Copy/PD_Dataset/Deadlift/deadlift_109.avi'), PosixPath('Copy/PD_Dataset/Deadlift/deadlift_11.avi'), PosixPath('Copy/PD_Dataset/Deadlift/deadlift_110.avi'), PosixPath('Copy/PD_Dataset/Deadlift/deadlift_112.avi'), PosixPath('Copy/PD_Dataset/Deadlift/deadlift_114.avi'), PosixPath('Copy/PD_Dataset/Deadlift/deadlift_116.avi'), PosixPath('Copy/PD_Dataset/Deadlift/deadlift_12.avi'), PosixPath('Copy/PD_Dataset/Deadlift/deadlift_13.avi'), PosixPath('Copy/PD_Dataset/Deadlift/deadlift_14.avi'), PosixPath('Copy/PD_Dataset/Deadlift/deadlift_15.avi'), PosixPath('Copy/PD_Dataset/Deadlift/deadlift_16.avi'), PosixPath('Copy/PD_Dataset/Deadlift/deadlift_17.avi'), PosixPath('Copy/PD_Dataset/Deadlift/deadlift_18.avi'), PosixPath('Copy/PD_Dataset/Deadlift/deadlift_19.avi'), PosixPath('Copy/PD_Dataset/Deadlift/deadlift_2.avi'), PosixPath('Copy/PD_Dataset/Deadlift/deadlift_20.avi'), PosixPath('Copy/PD_Dataset/Deadlift/deadlift_21.avi'), PosixPath('Copy/PD_Dataset/Deadlift/deadlift_23.avi'), PosixPath('Copy/PD_Dataset/Deadlift/deadlift_24.avi'), PosixPath('Copy/PD_Dataset/Deadlift/deadlift_25.avi'), PosixPath('Copy/PD_Dataset/Deadlift/deadlift_26.avi'), PosixPath('Copy/PD_Dataset/Deadlift/deadlift_27.avi'), PosixPath('Copy/PD_Dataset/Deadlift/deadlift_28.avi'), PosixPath('Copy/PD_Dataset/Deadlift/deadlift_29.avi'), PosixPath('Copy/PD_Dataset/Deadlift/deadlift_3.avi'), PosixPath('Copy/PD_Dataset/Deadlift/deadlift_30.avi'), PosixPath('Copy/PD_Dataset/Deadlift/deadlift_31.avi'), PosixPath('Copy/PD_Dataset/Deadlift/deadlift_32.avi'), PosixPath('Copy/PD_Dataset/Deadlift/deadlift_33.avi'), PosixPath('Copy/PD_Dataset/Deadlift/deadlift_34.avi'), PosixPath('Copy/PD_Dataset/Deadlift/deadlift_35.avi'), PosixPath('Copy/PD_Dataset/Deadlift/deadlift_36.avi'), PosixPath('Copy/PD_Dataset/Deadlift/deadlift_37.avi'), PosixPath('Copy/PD_Dataset/Deadlift/deadlift_38.avi'), PosixPath('Copy/PD_Dataset/Deadlift/deadlift_10.avi'), PosixPath('Copy/PD_Dataset/Deadlift/deadlift_100.avi'), PosixPath('Copy/PD_Dataset/Deadlift/deadlift_101.avi'), PosixPath('Copy/PD_Dataset/Deadlift/deadlift_102.avi'), PosixPath('Copy/PD_Dataset/Deadlift/deadlift_103.avi'), PosixPath('Copy/PD_Dataset/Deadlift/deadlift_104.avi'), PosixPath('Copy/PD_Dataset/Deadlift/deadlift_105.avi'), PosixPath('Copy/PD_Dataset/Deadlift/deadlift_106.avi'), PosixPath('Copy/PD_Dataset/Deadlift/deadlift_4.avi'), PosixPath('Copy/PD_Dataset/Deadlift/deadlift_40.avi'), PosixPath('Copy/PD_Dataset/Deadlift/deadlift_41.avi'), PosixPath('Copy/PD_Dataset/Deadlift/deadlift_42.avi'), PosixPath('Copy/PD_Dataset/Deadlift/deadlift_43.avi'), PosixPath('Copy/PD_Dataset/Deadlift/deadlift_44.avi'), PosixPath('Copy/PD_Dataset/Deadlift/deadlift_45.avi'), PosixPath('Copy/PD_Dataset/Deadlift/deadlift_46.avi'), PosixPath('Copy/PD_Dataset/Deadlift/deadlift_47.avi'), PosixPath('Copy/PD_Dataset/Deadlift/deadlift_48.avi'), PosixPath('Copy/PD_Dataset/Deadlift/deadlift_5.avi'), PosixPath('Copy/PD_Dataset/Deadlift/deadlift_50.avi'), PosixPath('Copy/PD_Dataset/Deadlift/deadlift_51.avi'), PosixPath('Copy/PD_Dataset/Deadlift/deadlift_53.avi'), PosixPath('Copy/PD_Dataset/Deadlift/deadlift_54.avi'), PosixPath('Copy/PD_Dataset/Deadlift/deadlift_55.avi'), PosixPath('Copy/PD_Dataset/Deadlift/deadlift_57.avi'), PosixPath('Copy/PD_Dataset/Deadlift/deadlift_107.avi'), PosixPath('Copy/PD_Dataset/Deadlift/deadlift_22.avi'), PosixPath('Copy/PD_Dataset/Deadlift/deadlift_39.avi'), PosixPath('Copy/PD_Dataset/Deadlift/deadlift_58.avi'), PosixPath('Copy/PD_Dataset/Deadlift/deadlift_74.avi'), PosixPath('Copy/PD_Dataset/Deadlift/deadlift_59.avi'), PosixPath('Copy/PD_Dataset/Deadlift/deadlift_6.avi'), PosixPath('Copy/PD_Dataset/Deadlift/deadlift_60.avi'), PosixPath('Copy/PD_Dataset/Deadlift/deadlift_61.avi'), PosixPath('Copy/PD_Dataset/Deadlift/deadlift_62.avi'), PosixPath('Copy/PD_Dataset/Deadlift/deadlift_63.avi'), PosixPath('Copy/PD_Dataset/Deadlift/deadlift_64.avi'), PosixPath('Copy/PD_Dataset/Deadlift/deadlift_65.avi'), PosixPath('Copy/PD_Dataset/Deadlift/deadlift_66.avi'), PosixPath('Copy/PD_Dataset/Deadlift/deadlift_67.avi'), PosixPath('Copy/PD_Dataset/Deadlift/deadlift_68.avi'), PosixPath('Copy/PD_Dataset/Deadlift/deadlift_69.avi'), PosixPath('Copy/PD_Dataset/Deadlift/deadlift_7.avi'), PosixPath('Copy/PD_Dataset/Deadlift/deadlift_70.avi'), PosixPath('Copy/PD_Dataset/Deadlift/deadlift_71.avi'), PosixPath('Copy/PD_Dataset/Deadlift/deadlift_72.avi'), PosixPath('Copy/PD_Dataset/Deadlift/deadlift_73.avi'), PosixPath('Copy/PD_Dataset/Deadlift/deadlift_75.avi'), PosixPath('Copy/PD_Dataset/Deadlift/deadlift_76.avi'), PosixPath('Copy/PD_Dataset/Deadlift/deadlift_77.avi'), PosixPath('Copy/PD_Dataset/Deadlift/deadlift_78.avi'), PosixPath('Copy/PD_Dataset/Deadlift/deadlift_79.avi'), PosixPath('Copy/PD_Dataset/Deadlift/deadlift_8.avi'), PosixPath('Copy/PD_Dataset/Deadlift/deadlift_80.avi'), PosixPath('Copy/PD_Dataset/Deadlift/deadlift_81.avi'), PosixPath('Copy/PD_Dataset/Deadlift/deadlift_82.avi'), PosixPath('Copy/PD_Dataset/Deadlift/deadlift_83.avi'), PosixPath('Copy/PD_Dataset/Deadlift/deadlift_84.avi'), PosixPath('Copy/PD_Dataset/Deadlift/deadlift_85.avi'), PosixPath('Copy/PD_Dataset/Deadlift/deadlift_86.avi'), PosixPath('Copy/PD_Dataset/Deadlift/deadlift_87.avi'), PosixPath('Copy/PD_Dataset/Deadlift/deadlift_88.avi'), PosixPath('Copy/PD_Dataset/Deadlift/deadlift_89.avi'), PosixPath('Copy/PD_Dataset/Deadlift/deadlift_9.avi'), PosixPath('Copy/PD_Dataset/Deadlift/deadlift_90.avi'), PosixPath('Copy/PD_Dataset/Deadlift/deadlift_91.avi'), PosixPath('Copy/PD_Dataset/Deadlift/deadlift_92.avi'), PosixPath('Copy/PD_Dataset/Deadlift/deadlift_93.avi'), PosixPath('Copy/PD_Dataset/Deadlift/deadlift_94.avi'), PosixPath('Copy/PD_Dataset/Deadlift/deadlift_95.avi'), PosixPath('Copy/PD_Dataset/Deadlift/deadlift_96.avi'), PosixPath('Copy/PD_Dataset/Deadlift/deadlift_97.avi'), PosixPath('Copy/PD_Dataset/Deadlift/deadlift_98.avi'), PosixPath('Copy/PD_Dataset/Deadlift/deadlift_99.avi'), PosixPath('Copy/PD_Dataset/Deadlift/[SHANA]Deadlift_1.avi'), PosixPath('Copy/PD_Dataset/Deadlift/[SHANA]Deadlift_10.avi'), PosixPath('Copy/PD_Dataset/Deadlift/[SHANA]Deadlift_11.avi'), PosixPath('Copy/PD_Dataset/Deadlift/[SHANA]Deadlift_12.avi'), PosixPath('Copy/PD_Dataset/Deadlift/[SHANA]Deadlift_13.avi'), PosixPath('Copy/PD_Dataset/Deadlift/[SHANA]Deadlift_14.avi'), PosixPath('Copy/PD_Dataset/Deadlift/[SHANA]Deadlift_2.avi'), PosixPath('Copy/PD_Dataset/Deadlift/[SHANA]Deadlift_3.avi'), PosixPath('Copy/PD_Dataset/Deadlift/[SHANA]Deadlift_4.avi'), PosixPath('Copy/PD_Dataset/Deadlift/[SHANA]Deadlift_5.avi'), PosixPath('Copy/PD_Dataset/Deadlift/[SHANA]Deadlift_6.avi'), PosixPath('Copy/PD_Dataset/Deadlift/[SHANA]Deadlift_7.avi'), PosixPath('Copy/PD_Dataset/Deadlift/[SHANA]Deadlift_8.avi'), PosixPath('Copy/PD_Dataset/Deadlift/[SHANA]Deadlift_9.avi'), PosixPath('Copy/PD_Dataset/Deadlift/[SHANA]Deadlift_15.avi'), PosixPath('Copy/PD_Dataset/Deadlift/[SHANA]Deadlift_16.avi'), PosixPath('Copy/PD_Dataset/Deadlift/[SHANA]Deadlift_17.avi'), PosixPath('Copy/PD_Dataset/Deadlift/[SHANA]Deadlift_18.avi'), PosixPath('Copy/PD_Dataset/Deadlift/[SHANA]deadlift_125.avi'), PosixPath('Copy/PD_Dataset/Deadlift/[SHANA]deadlift_126.avi'), PosixPath('Copy/PD_Dataset/Deadlift/[SHANA]deadlift_127.avi'), PosixPath('Copy/PD_Dataset/Deadlift/[SHANA]deadlift_128.avi'), PosixPath('Copy/PD_Dataset/Deadlift/[SHANA]deadlift_129.avi'), PosixPath('Copy/PD_Dataset/Deadlift/[SHANA]deadlift_130.avi'), PosixPath('Copy/PD_Dataset/Deadlift/[SHANA]Deadlift_170_(1).avi'), PosixPath('Copy/PD_Dataset/Deadlift/[SHANA]Deadlift_18_(1).avi'), PosixPath('Copy/PD_Dataset/Deadlift/[SHANA]Deadlift_19.avi'), PosixPath('Copy/PD_Dataset/Deadlift/[SHANA]Deadlift_20.avi'), PosixPath('Copy/PD_Dataset/Deadlift/[SHANA]Deadlift_21.avi'), PosixPath('Copy/PD_Dataset/Deadlift/[SHANA]Deadlift_22.avi'), PosixPath('Copy/PD_Dataset/Deadlift/[SHANA]Deadlift_23.avi'), PosixPath('Copy/PD_Dataset/Deadlift/[SHANA]Deadlift_24.avi'), PosixPath('Copy/PD_Dataset/LateralRaises/lateral_raise_106.avi'), PosixPath('Copy/PD_Dataset/LateralRaises/lateral_raise_107.avi'), PosixPath('Copy/PD_Dataset/LateralRaises/lateral_raise_108.avi'), PosixPath('Copy/PD_Dataset/LateralRaises/lateral_raise_109.avi'), PosixPath('Copy/PD_Dataset/LateralRaises/lateral_raise_110.avi'), PosixPath('Copy/PD_Dataset/LateralRaises/lateral_raise_111.avi'), PosixPath('Copy/PD_Dataset/LateralRaises/lateral_raise_12.avi'), PosixPath('Copy/PD_Dataset/LateralRaises/lateral_raise_16.avi'), PosixPath('Copy/PD_Dataset/LateralRaises/lateral_raise_17.avi'), PosixPath('Copy/PD_Dataset/LateralRaises/lateral_raise_2.avi'), PosixPath('Copy/PD_Dataset/LateralRaises/lateral_raise_20.avi'), PosixPath('Copy/PD_Dataset/LateralRaises/lateral_raise_24.avi'), PosixPath('Copy/PD_Dataset/LateralRaises/lateral_raise_26.avi'), PosixPath('Copy/PD_Dataset/LateralRaises/lateral_raise_28.avi'), PosixPath('Copy/PD_Dataset/LateralRaises/lateral_raise_29.avi'), PosixPath('Copy/PD_Dataset/LateralRaises/lateral_raise_31.avi'), PosixPath('Copy/PD_Dataset/LateralRaises/lateral_raise_32.avi'), PosixPath('Copy/PD_Dataset/LateralRaises/lateral_raise_33.avi'), PosixPath('Copy/PD_Dataset/LateralRaises/lateral_raise_34.avi'), PosixPath('Copy/PD_Dataset/LateralRaises/lateral_raise_35.avi'), PosixPath('Copy/PD_Dataset/LateralRaises/lateral_raise_39.avi'), PosixPath('Copy/PD_Dataset/LateralRaises/lateral_raise_4.avi'), PosixPath('Copy/PD_Dataset/LateralRaises/lateral_raise_40.avi'), PosixPath('Copy/PD_Dataset/LateralRaises/lateral_raise_41.avi'), PosixPath('Copy/PD_Dataset/LateralRaises/lateral_raise_42.avi'), PosixPath('Copy/PD_Dataset/LateralRaises/lateral_raise_43.avi'), PosixPath('Copy/PD_Dataset/LateralRaises/lateral_raise_44.avi'), PosixPath('Copy/PD_Dataset/LateralRaises/lateral_raise_45.avi'), PosixPath('Copy/PD_Dataset/LateralRaises/lateral_raise_47.avi'), PosixPath('Copy/PD_Dataset/LateralRaises/lateral_raise_49.avi'), PosixPath('Copy/PD_Dataset/LateralRaises/lateral_raise_50.avi'), PosixPath('Copy/PD_Dataset/LateralRaises/lateral_raise_51.avi'), PosixPath('Copy/PD_Dataset/LateralRaises/lateral_raise_52.avi'), PosixPath('Copy/PD_Dataset/LateralRaises/lateral_raise_53.avi'), PosixPath('Copy/PD_Dataset/LateralRaises/lateral_raise_54.avi'), PosixPath('Copy/PD_Dataset/LateralRaises/lateral_raise_55.avi'), PosixPath('Copy/PD_Dataset/LateralRaises/lateral_raise_56.avi'), PosixPath('Copy/PD_Dataset/LateralRaises/lateral_raise_57.avi'), PosixPath('Copy/PD_Dataset/LateralRaises/lateral_raise_58.avi'), PosixPath('Copy/PD_Dataset/LateralRaises/lateral_raise_59.avi'), PosixPath('Copy/PD_Dataset/LateralRaises/lateral_raise_6.avi'), PosixPath('Copy/PD_Dataset/LateralRaises/lateral_raise_60.avi'), PosixPath('Copy/PD_Dataset/LateralRaises/lateral_raise_61.avi'), PosixPath('Copy/PD_Dataset/LateralRaises/lateral_raise_62.avi'), PosixPath('Copy/PD_Dataset/LateralRaises/lateral_raise_63.avi'), PosixPath('Copy/PD_Dataset/LateralRaises/lateral_raise_105.avi'), PosixPath('Copy/PD_Dataset/LateralRaises/lateral_raise_3.avi'), PosixPath('Copy/PD_Dataset/LateralRaises/lateral_raise_5.avi'), PosixPath('Copy/PD_Dataset/LateralRaises/lateral_raise_64.avi'), PosixPath('Copy/PD_Dataset/LateralRaises/lateral_raise_80.avi'), PosixPath('Copy/PD_Dataset/LateralRaises/lateral_raise_97.avi'), PosixPath('Copy/PD_Dataset/LateralRaises/[SHANA]LateralRaises_19.avi'), PosixPath('Copy/PD_Dataset/LateralRaises/[SHANA]LateralRaises_32.avi'), PosixPath('Copy/PD_Dataset/LateralRaises/lateral_raise_65.avi'), PosixPath('Copy/PD_Dataset/LateralRaises/lateral_raise_66.avi'), PosixPath('Copy/PD_Dataset/LateralRaises/lateral_raise_67.avi'), PosixPath('Copy/PD_Dataset/LateralRaises/lateral_raise_68.avi'), PosixPath('Copy/PD_Dataset/LateralRaises/lateral_raise_69.avi'), PosixPath('Copy/PD_Dataset/LateralRaises/lateral_raise_70.avi'), PosixPath('Copy/PD_Dataset/LateralRaises/lateral_raise_71.avi'), PosixPath('Copy/PD_Dataset/LateralRaises/lateral_raise_72.avi'), PosixPath('Copy/PD_Dataset/LateralRaises/lateral_raise_73.avi'), PosixPath('Copy/PD_Dataset/LateralRaises/lateral_raise_74.avi'), PosixPath('Copy/PD_Dataset/LateralRaises/lateral_raise_75.avi'), PosixPath('Copy/PD_Dataset/LateralRaises/lateral_raise_76.avi'), PosixPath('Copy/PD_Dataset/LateralRaises/lateral_raise_77.avi'), PosixPath('Copy/PD_Dataset/LateralRaises/lateral_raise_78.avi'), PosixPath('Copy/PD_Dataset/LateralRaises/lateral_raise_79.avi'), PosixPath('Copy/PD_Dataset/LateralRaises/lateral_raise_100.avi'), PosixPath('Copy/PD_Dataset/LateralRaises/lateral_raise_101.avi'), PosixPath('Copy/PD_Dataset/LateralRaises/lateral_raise_102.avi'), PosixPath('Copy/PD_Dataset/LateralRaises/lateral_raise_103.avi'), PosixPath('Copy/PD_Dataset/LateralRaises/lateral_raise_104.avi'), PosixPath('Copy/PD_Dataset/LateralRaises/lateral_raise_81.avi'), PosixPath('Copy/PD_Dataset/LateralRaises/lateral_raise_82.avi'), PosixPath('Copy/PD_Dataset/LateralRaises/lateral_raise_83.avi'), PosixPath('Copy/PD_Dataset/LateralRaises/lateral_raise_84.avi'), PosixPath('Copy/PD_Dataset/LateralRaises/lateral_raise_85.avi'), PosixPath('Copy/PD_Dataset/LateralRaises/lateral_raise_86.avi'), PosixPath('Copy/PD_Dataset/LateralRaises/lateral_raise_87.avi'), PosixPath('Copy/PD_Dataset/LateralRaises/lateral_raise_88.avi'), PosixPath('Copy/PD_Dataset/LateralRaises/lateral_raise_89.avi'), PosixPath('Copy/PD_Dataset/LateralRaises/lateral_raise_90.avi'), PosixPath('Copy/PD_Dataset/LateralRaises/lateral_raise_91.avi'), PosixPath('Copy/PD_Dataset/LateralRaises/lateral_raise_92.avi'), PosixPath('Copy/PD_Dataset/LateralRaises/lateral_raise_93.avi'), PosixPath('Copy/PD_Dataset/LateralRaises/lateral_raise_94.avi'), PosixPath('Copy/PD_Dataset/LateralRaises/lateral_raise_95.avi'), PosixPath('Copy/PD_Dataset/LateralRaises/lateral_raise_98.avi'), PosixPath('Copy/PD_Dataset/LateralRaises/[SHANA]LateralRaises_1.avi'), PosixPath('Copy/PD_Dataset/LateralRaises/[SHANA]LateralRaises_10.avi'), PosixPath('Copy/PD_Dataset/LateralRaises/[SHANA]LateralRaises_11.avi'), PosixPath('Copy/PD_Dataset/LateralRaises/[SHANA]LateralRaises_12.avi'), PosixPath('Copy/PD_Dataset/LateralRaises/[SHANA]LateralRaises_13.avi'), PosixPath('Copy/PD_Dataset/LateralRaises/[SHANA]LateralRaises_14.avi'), PosixPath('Copy/PD_Dataset/LateralRaises/[SHANA]LateralRaises_15.avi'), PosixPath('Copy/PD_Dataset/LateralRaises/[SHANA]LateralRaises_16.avi'), PosixPath('Copy/PD_Dataset/LateralRaises/[SHANA]LateralRaises_17.avi'), PosixPath('Copy/PD_Dataset/LateralRaises/[SHANA]LateralRaises_18.avi'), PosixPath('Copy/PD_Dataset/LateralRaises/[SHANA]LateralRaises_2.avi'), PosixPath('Copy/PD_Dataset/LateralRaises/[SHANA]LateralRaises_20.avi'), PosixPath('Copy/PD_Dataset/LateralRaises/[SHANA]LateralRaises_21.avi'), PosixPath('Copy/PD_Dataset/LateralRaises/[SHANA]LateralRaises_22.avi'), PosixPath('Copy/PD_Dataset/LateralRaises/[SHANA]LateralRaises_23.avi'), PosixPath('Copy/PD_Dataset/LateralRaises/[SHANA]LateralRaises_24.avi'), PosixPath('Copy/PD_Dataset/LateralRaises/[SHANA]LateralRaises_25.avi'), PosixPath('Copy/PD_Dataset/LateralRaises/[SHANA]LateralRaises_26.avi'), PosixPath('Copy/PD_Dataset/LateralRaises/[SHANA]LateralRaises_27.avi'), PosixPath('Copy/PD_Dataset/LateralRaises/[SHANA]LateralRaises_28.avi'), PosixPath('Copy/PD_Dataset/LateralRaises/[SHANA]LateralRaises_29.avi'), PosixPath('Copy/PD_Dataset/LateralRaises/[SHANA]LateralRaises_3.avi'), PosixPath('Copy/PD_Dataset/LateralRaises/[SHANA]LateralRaises_30.avi'), PosixPath('Copy/PD_Dataset/LateralRaises/[SHANA]LateralRaises_31.avi'), PosixPath('Copy/PD_Dataset/LateralRaises/[SHANA]LateralRaises_33.avi'), PosixPath('Copy/PD_Dataset/LateralRaises/[SHANA]LateralRaises_34.avi'), PosixPath('Copy/PD_Dataset/LateralRaises/[SHANA]LateralRaises_35.avi'), PosixPath('Copy/PD_Dataset/LateralRaises/[SHANA]LateralRaises_36.avi'), PosixPath('Copy/PD_Dataset/LateralRaises/[SHANA]LateralRaises_37.avi'), PosixPath('Copy/PD_Dataset/LateralRaises/[SHANA]LateralRaises_38.avi'), PosixPath('Copy/PD_Dataset/LateralRaises/[SHANA]LateralRaises_4.avi'), PosixPath('Copy/PD_Dataset/LateralRaises/[SHANA]LateralRaises_5.avi'), PosixPath('Copy/PD_Dataset/LateralRaises/[SHANA]LateralRaises_6.avi'), PosixPath('Copy/PD_Dataset/LateralRaises/[SHANA]LateralRaises_7.avi'), PosixPath('Copy/PD_Dataset/LateralRaises/[SHANA]LateralRaises_8.avi'), PosixPath('Copy/PD_Dataset/LateralRaises/[SHANA]LateralRaises_9.avi'), PosixPath('Copy/PD_Dataset/LateralRaises/[SHANA]LateralRaises_39.avi'), PosixPath('Copy/PD_Dataset/LateralRaises/[SHANA]LateralRaises_40.avi'), PosixPath('Copy/PD_Dataset/LateralRaises/[SHANA]LateralRaises_41.avi'), PosixPath('Copy/PD_Dataset/LateralRaises/[SHANA]LateralRaises_42.avi'), PosixPath('Copy/PD_Dataset/LateralRaises/[SHANA]LateralRaises_43.avi'), PosixPath('Copy/PD_Dataset/LateralRaises/[SHANA]LateralRaises_44.avi'), PosixPath('Copy/PD_Dataset/LateralRaises/[SHANA]LateralRaises_45.avi'), PosixPath('Copy/PD_Dataset/LateralRaises/[SHANA]LateralRaises_46.avi'), PosixPath('Copy/PD_Dataset/LateralRaises/[SHANA]LateralRaises_47.avi'), PosixPath('Copy/PD_Dataset/LateralRaises/[SHANA]LateralRaises_48.avi'), PosixPath('Copy/PD_Dataset/LateralRaises/[SHANA]LateralRaises_49.avi'), PosixPath('Copy/PD_Dataset/LateralRaises/[SHANA]LateralRaises_50.avi'), PosixPath('Copy/PD_Dataset/LateralRaises/[SHANA]LateralRaises_51.avi'), PosixPath('Copy/PD_Dataset/LateralRaises/[SHANA]LateralRaises_52.avi'), PosixPath('Copy/PD_Dataset/LateralRaises/[SHANA]LateralRaises_53.avi'), PosixPath('Copy/PD_Dataset/LateralRaises/[SHANA]LateralRaises_54.avi'), PosixPath('Copy/PD_Dataset/LateralRaises/[SHANA]LateralRaises_55.avi'), PosixPath('Copy/PD_Dataset/LateralRaises/[SHANA]LateralRaises_56.avi'), PosixPath('Copy/PD_Dataset/LateralRaises/[SHANA]LateralRaises_57.avi'), PosixPath('Copy/PD_Dataset/LateralRaises/[SHANA]LateralRaises_58.avi'), PosixPath('Copy/PD_Dataset/LateralRaises/[SHANA]LateralRaises_59.avi'), PosixPath('Copy/PD_Dataset/LateralRaises/[SHANA]LateralRaises_60.avi'), PosixPath('Copy/PD_Dataset/LateralRaises/[SHANA]LateralRaises_61.avi'), PosixPath('Copy/PD_Dataset/LateralRaises/[SHANA]LateralRaises_62.avi'), PosixPath('Copy/PD_Dataset/LateralRaises/[SHANA]LateralRaises_63.avi'), PosixPath('Copy/PD_Dataset/LateralRaises/[SHANA]LateralRaises_64.avi'), PosixPath('Copy/PD_Dataset/OverheadPress/overhead_press_104.avi'), PosixPath('Copy/PD_Dataset/OverheadPress/overhead_press_105.avi'), PosixPath('Copy/PD_Dataset/OverheadPress/overhead_press_106.avi'), PosixPath('Copy/PD_Dataset/OverheadPress/overhead_press_107.avi'), PosixPath('Copy/PD_Dataset/OverheadPress/overhead_press_108.avi'), PosixPath('Copy/PD_Dataset/OverheadPress/overhead_press_109.avi'), PosixPath('Copy/PD_Dataset/OverheadPress/overhead_press_11.avi'), PosixPath('Copy/PD_Dataset/OverheadPress/overhead_press_110.avi'), PosixPath('Copy/PD_Dataset/OverheadPress/overhead_press_111.avi'), PosixPath('Copy/PD_Dataset/OverheadPress/overhead_press_112.avi'), PosixPath('Copy/PD_Dataset/OverheadPress/overhead_press_113.avi'), PosixPath('Copy/PD_Dataset/OverheadPress/overhead_press_114.avi'), PosixPath('Copy/PD_Dataset/OverheadPress/overhead_press_115.avi'), PosixPath('Copy/PD_Dataset/OverheadPress/overhead_press_12.avi'), PosixPath('Copy/PD_Dataset/OverheadPress/overhead_press_13.avi'), PosixPath('Copy/PD_Dataset/OverheadPress/overhead_press_15.avi'), PosixPath('Copy/PD_Dataset/OverheadPress/overhead_press_16.avi'), PosixPath('Copy/PD_Dataset/OverheadPress/overhead_press_17.avi'), PosixPath('Copy/PD_Dataset/OverheadPress/overhead_press_18.avi'), PosixPath('Copy/PD_Dataset/OverheadPress/overhead_press_19.avi'), PosixPath('Copy/PD_Dataset/OverheadPress/overhead_press_2.avi'), PosixPath('Copy/PD_Dataset/OverheadPress/overhead_press_20.avi'), PosixPath('Copy/PD_Dataset/OverheadPress/overhead_press_21.avi'), PosixPath('Copy/PD_Dataset/OverheadPress/overhead_press_22.avi'), PosixPath('Copy/PD_Dataset/OverheadPress/overhead_press_23.avi'), PosixPath('Copy/PD_Dataset/OverheadPress/overhead_press_24.avi'), PosixPath('Copy/PD_Dataset/OverheadPress/overhead_press_25.avi'), PosixPath('Copy/PD_Dataset/OverheadPress/overhead_press_26.avi'), PosixPath('Copy/PD_Dataset/OverheadPress/overhead_press_27.avi'), PosixPath('Copy/PD_Dataset/OverheadPress/overhead_press_28.avi'), PosixPath('Copy/PD_Dataset/OverheadPress/overhead_press_3.avi'), PosixPath('Copy/PD_Dataset/OverheadPress/overhead_press_30.avi'), PosixPath('Copy/PD_Dataset/OverheadPress/overhead_press_31.avi'), PosixPath('Copy/PD_Dataset/OverheadPress/overhead_press_32.avi'), PosixPath('Copy/PD_Dataset/OverheadPress/overhead_press_33.avi'), PosixPath('Copy/PD_Dataset/OverheadPress/overhead_press_34.avi'), PosixPath('Copy/PD_Dataset/OverheadPress/overhead_press_35.avi'), PosixPath('Copy/PD_Dataset/OverheadPress/overhead_press_36.avi'), PosixPath('Copy/PD_Dataset/OverheadPress/overhead_press_37.avi'), PosixPath('Copy/PD_Dataset/OverheadPress/overhead_press_38.avi'), PosixPath('Copy/PD_Dataset/OverheadPress/overhead_press_39.avi'), PosixPath('Copy/PD_Dataset/OverheadPress/overhead_press_4.avi'), PosixPath('Copy/PD_Dataset/OverheadPress/overhead_press_40.avi'), PosixPath('Copy/PD_Dataset/OverheadPress/overhead_press_41.avi'), PosixPath('Copy/PD_Dataset/OverheadPress/overhead_press_42.avi'), PosixPath('Copy/PD_Dataset/OverheadPress/overhead_press_103.avi'), PosixPath('Copy/PD_Dataset/OverheadPress/overhead_press_14.avi'), PosixPath('Copy/PD_Dataset/OverheadPress/overhead_press_29.avi'), PosixPath('Copy/PD_Dataset/OverheadPress/overhead_press_43.avi'), PosixPath('Copy/PD_Dataset/OverheadPress/overhead_press_58.avi'), PosixPath('Copy/PD_Dataset/OverheadPress/overhead_press_72.avi'), PosixPath('Copy/PD_Dataset/OverheadPress/overhead_press_87.avi'), PosixPath('Copy/PD_Dataset/OverheadPress/[SHANA]OverheadPress_17.avi'), PosixPath('Copy/PD_Dataset/OverheadPress/[SHANA]OverheadPress_30.avi'), PosixPath('Copy/PD_Dataset/OverheadPress/overhead_press_44.avi'), PosixPath('Copy/PD_Dataset/OverheadPress/overhead_press_45.avi'), PosixPath('Copy/PD_Dataset/OverheadPress/overhead_press_46.avi'), PosixPath('Copy/PD_Dataset/OverheadPress/overhead_press_47.avi'), PosixPath('Copy/PD_Dataset/OverheadPress/overhead_press_48.avi'), PosixPath('Copy/PD_Dataset/OverheadPress/overhead_press_49.avi'), PosixPath('Copy/PD_Dataset/OverheadPress/overhead_press_5.avi'), PosixPath('Copy/PD_Dataset/OverheadPress/overhead_press_50.avi'), PosixPath('Copy/PD_Dataset/OverheadPress/overhead_press_51.avi'), PosixPath('Copy/PD_Dataset/OverheadPress/overhead_press_52.avi'), PosixPath('Copy/PD_Dataset/OverheadPress/overhead_press_53.avi'), PosixPath('Copy/PD_Dataset/OverheadPress/overhead_press_54.avi'), PosixPath('Copy/PD_Dataset/OverheadPress/overhead_press_55.avi'), PosixPath('Copy/PD_Dataset/OverheadPress/overhead_press_56.avi'), PosixPath('Copy/PD_Dataset/OverheadPress/overhead_press_57.avi'), PosixPath('Copy/PD_Dataset/OverheadPress/overhead_press_59.avi'), PosixPath('Copy/PD_Dataset/OverheadPress/overhead_press_6.avi'), PosixPath('Copy/PD_Dataset/OverheadPress/overhead_press_60.avi'), PosixPath('Copy/PD_Dataset/OverheadPress/overhead_press_61.avi'), PosixPath('Copy/PD_Dataset/OverheadPress/overhead_press_62.avi'), PosixPath('Copy/PD_Dataset/OverheadPress/overhead_press_63.avi'), PosixPath('Copy/PD_Dataset/OverheadPress/overhead_press_64.avi'), PosixPath('Copy/PD_Dataset/OverheadPress/overhead_press_65.avi'), PosixPath('Copy/PD_Dataset/OverheadPress/overhead_press_66.avi'), PosixPath('Copy/PD_Dataset/OverheadPress/overhead_press_67.avi'), PosixPath('Copy/PD_Dataset/OverheadPress/overhead_press_68.avi'), PosixPath('Copy/PD_Dataset/OverheadPress/overhead_press_69.avi'), PosixPath('Copy/PD_Dataset/OverheadPress/overhead_press_7.avi'), PosixPath('Copy/PD_Dataset/OverheadPress/overhead_press_70.avi'), PosixPath('Copy/PD_Dataset/OverheadPress/overhead_press_71.avi'), PosixPath('Copy/PD_Dataset/OverheadPress/overhead_press_1.avi'), PosixPath('Copy/PD_Dataset/OverheadPress/overhead_press_10.avi'), PosixPath('Copy/PD_Dataset/OverheadPress/overhead_press_100.avi'), PosixPath('Copy/PD_Dataset/OverheadPress/overhead_press_101.avi'), PosixPath('Copy/PD_Dataset/OverheadPress/overhead_press_102.avi'), PosixPath('Copy/PD_Dataset/OverheadPress/overhead_press_73.avi'), PosixPath('Copy/PD_Dataset/OverheadPress/overhead_press_74.avi'), PosixPath('Copy/PD_Dataset/OverheadPress/overhead_press_75.avi'), PosixPath('Copy/PD_Dataset/OverheadPress/overhead_press_76.avi'), PosixPath('Copy/PD_Dataset/OverheadPress/overhead_press_77.avi'), PosixPath('Copy/PD_Dataset/OverheadPress/overhead_press_78.avi'), PosixPath('Copy/PD_Dataset/OverheadPress/overhead_press_79.avi'), PosixPath('Copy/PD_Dataset/OverheadPress/overhead_press_8.avi'), PosixPath('Copy/PD_Dataset/OverheadPress/overhead_press_80.avi'), PosixPath('Copy/PD_Dataset/OverheadPress/overhead_press_81.avi'), PosixPath('Copy/PD_Dataset/OverheadPress/overhead_press_82.avi'), PosixPath('Copy/PD_Dataset/OverheadPress/overhead_press_83.avi'), PosixPath('Copy/PD_Dataset/OverheadPress/overhead_press_84.avi'), PosixPath('Copy/PD_Dataset/OverheadPress/overhead_press_85.avi'), PosixPath('Copy/PD_Dataset/OverheadPress/overhead_press_86.avi'), PosixPath('Copy/PD_Dataset/OverheadPress/overhead_press_88.avi'), PosixPath('Copy/PD_Dataset/OverheadPress/overhead_press_89.avi'), PosixPath('Copy/PD_Dataset/OverheadPress/overhead_press_9.avi'), PosixPath('Copy/PD_Dataset/OverheadPress/overhead_press_90.avi'), PosixPath('Copy/PD_Dataset/OverheadPress/overhead_press_91.avi'), PosixPath('Copy/PD_Dataset/OverheadPress/overhead_press_92.avi'), PosixPath('Copy/PD_Dataset/OverheadPress/overhead_press_93.avi'), PosixPath('Copy/PD_Dataset/OverheadPress/overhead_press_94.avi'), PosixPath('Copy/PD_Dataset/OverheadPress/overhead_press_95.avi'), PosixPath('Copy/PD_Dataset/OverheadPress/overhead_press_96.avi'), PosixPath('Copy/PD_Dataset/OverheadPress/overhead_press_97.avi'), PosixPath('Copy/PD_Dataset/OverheadPress/overhead_press_98.avi'), PosixPath('Copy/PD_Dataset/OverheadPress/overhead_press_99.avi'), PosixPath('Copy/PD_Dataset/OverheadPress/[SHANA]OverheadPress_1.avi'), PosixPath('Copy/PD_Dataset/OverheadPress/[SHANA]OverheadPress_10.avi'), PosixPath('Copy/PD_Dataset/OverheadPress/[SHANA]OverheadPress_11.avi'), PosixPath('Copy/PD_Dataset/OverheadPress/[SHANA]OverheadPress_12.avi'), PosixPath('Copy/PD_Dataset/OverheadPress/[SHANA]OverheadPress_13.avi'), PosixPath('Copy/PD_Dataset/OverheadPress/[SHANA]OverheadPress_14.avi'), PosixPath('Copy/PD_Dataset/OverheadPress/[SHANA]OverheadPress_15.avi'), PosixPath('Copy/PD_Dataset/OverheadPress/[SHANA]OverheadPress_16.avi'), PosixPath('Copy/PD_Dataset/OverheadPress/[SHANA]OverheadPress_18.avi'), PosixPath('Copy/PD_Dataset/OverheadPress/[SHANA]OverheadPress_19.avi'), PosixPath('Copy/PD_Dataset/OverheadPress/[SHANA]OverheadPress_2.avi'), PosixPath('Copy/PD_Dataset/OverheadPress/[SHANA]OverheadPress_20.avi'), PosixPath('Copy/PD_Dataset/OverheadPress/[SHANA]OverheadPress_21.avi'), PosixPath('Copy/PD_Dataset/OverheadPress/[SHANA]OverheadPress_22.avi'), PosixPath('Copy/PD_Dataset/OverheadPress/[SHANA]OverheadPress_23.avi'), PosixPath('Copy/PD_Dataset/OverheadPress/[SHANA]OverheadPress_24.avi'), PosixPath('Copy/PD_Dataset/OverheadPress/[SHANA]OverheadPress_25.avi'), PosixPath('Copy/PD_Dataset/OverheadPress/[SHANA]OverheadPress_26.avi'), PosixPath('Copy/PD_Dataset/OverheadPress/[SHANA]OverheadPress_27.avi'), PosixPath('Copy/PD_Dataset/OverheadPress/[SHANA]OverheadPress_28.avi'), PosixPath('Copy/PD_Dataset/OverheadPress/[SHANA]OverheadPress_29.avi'), PosixPath('Copy/PD_Dataset/OverheadPress/[SHANA]OverheadPress_3.avi'), PosixPath('Copy/PD_Dataset/OverheadPress/[SHANA]OverheadPress_31.avi'), PosixPath('Copy/PD_Dataset/OverheadPress/[SHANA]OverheadPress_32.avi'), PosixPath('Copy/PD_Dataset/OverheadPress/[SHANA]OverheadPress_33.avi'), PosixPath('Copy/PD_Dataset/OverheadPress/[SHANA]OverheadPress_34.avi'), PosixPath('Copy/PD_Dataset/OverheadPress/[SHANA]OverheadPress_35.avi'), PosixPath('Copy/PD_Dataset/OverheadPress/[SHANA]OverheadPress_36.avi'), PosixPath('Copy/PD_Dataset/OverheadPress/[SHANA]OverheadPress_37.avi'), PosixPath('Copy/PD_Dataset/OverheadPress/[SHANA]OverheadPress_38.avi'), PosixPath('Copy/PD_Dataset/OverheadPress/[SHANA]OverheadPress_39.avi'), PosixPath('Copy/PD_Dataset/OverheadPress/[SHANA]OverheadPress_4.avi'), PosixPath('Copy/PD_Dataset/OverheadPress/[SHANA]OverheadPress_40.avi'), PosixPath('Copy/PD_Dataset/OverheadPress/[SHANA]OverheadPress_41.avi'), PosixPath('Copy/PD_Dataset/OverheadPress/[SHANA]OverheadPress_42.avi'), PosixPath('Copy/PD_Dataset/OverheadPress/[SHANA]OverheadPress_5.avi'), PosixPath('Copy/PD_Dataset/OverheadPress/[SHANA]OverheadPress_6.avi'), PosixPath('Copy/PD_Dataset/OverheadPress/[SHANA]OverheadPress_7.avi'), PosixPath('Copy/PD_Dataset/OverheadPress/[SHANA]OverheadPress_8.avi'), PosixPath('Copy/PD_Dataset/OverheadPress/[SHANA]OverheadPress_9.avi'), PosixPath('Copy/PD_Dataset/OverheadPress/[SHANA]OverheadPress_43.avi'), PosixPath('Copy/PD_Dataset/OverheadPress/[SHANA]OverheadPress_44.avi'), PosixPath('Copy/PD_Dataset/OverheadPress/[SHANA]OverheadPress_45.avi'), PosixPath('Copy/PD_Dataset/OverheadPress/[SHANA]OverheadPress_46.avi'), PosixPath('Copy/PD_Dataset/OverheadPress/[SHANA]OverheadPress_47.avi'), PosixPath('Copy/PD_Dataset/OverheadPress/[SHANA]OverheadPress_48.avi'), PosixPath('Copy/PD_Dataset/OverheadPress/[SHANA]OverheadPress_49.avi'), PosixPath('Copy/PD_Dataset/OverheadPress/[SHANA]OverheadPress_50.avi'), PosixPath('Copy/PD_Dataset/OverheadPress/[SHANA]OverheadPress_51.avi'), PosixPath('Copy/PD_Dataset/OverheadPress/[SHANA]OverheadPress_52.avi'), PosixPath('Copy/PD_Dataset/OverheadPress/[SHANA]OverheadPress_53.avi'), PosixPath('Copy/PD_Dataset/OverheadPress/[SHANA]OverheadPress_54.avi'), PosixPath('Copy/PD_Dataset/OverheadPress/[SHANA]OverheadPress_55.avi'), PosixPath('Copy/PD_Dataset/OverheadPress/[SHANA]OverheadPress_56.avi'), PosixPath('Copy/PD_Dataset/OverheadPress/[SHANA]OverheadPress_58.avi'), PosixPath('Copy/PD_Dataset/OverheadPress/[SHANA]OverheadPress_59.avi'), PosixPath('Copy/PD_Dataset/OverheadPress/[SHANA]OverheadPress_60.avi'), PosixPath('Copy/PD_Dataset/OverheadPress/[SHANA]OverheadPress_61.avi'), PosixPath('Copy/PD_Dataset/OverheadPress/[SHANA]OverheadPress_62.avi'), PosixPath('Copy/PD_Dataset/OverheadPress/[SHANA]OverheadPress_63.avi'), PosixPath('Copy/PD_Dataset/OverheadPress/[SHANA]OverheadPress_64.avi'), PosixPath('Copy/PD_Dataset/OverheadPress/[SHANA]OverheadPress_65.avi'), PosixPath('Copy/PD_Dataset/OverheadPress/[SHANA]OverheadPress_66.avi'), PosixPath('Copy/PD_Dataset/OverheadPress/[SHANA]OverheadPress_67.avi'), PosixPath('Copy/PD_Dataset/OverheadPress/[SHANA]OverheadPress_68.avi'), PosixPath('Copy/PD_Dataset/OverheadPress/[SHANA]OverheadPrtess_57.avi'), PosixPath('Copy/PD_Dataset/Squat/squat_103.avi'), PosixPath('Copy/PD_Dataset/Squat/squat_104.avi'), PosixPath('Copy/PD_Dataset/Squat/squat_105.avi'), PosixPath('Copy/PD_Dataset/Squat/squat_106.avi'), PosixPath('Copy/PD_Dataset/Squat/squat_107.avi'), PosixPath('Copy/PD_Dataset/Squat/squat_108.avi'), PosixPath('Copy/PD_Dataset/Squat/squat_109.avi'), PosixPath('Copy/PD_Dataset/Squat/squat_11.avi'), PosixPath('Copy/PD_Dataset/Squat/squat_110.avi'), PosixPath('Copy/PD_Dataset/Squat/squat_111.avi'), PosixPath('Copy/PD_Dataset/Squat/squat_112.avi'), PosixPath('Copy/PD_Dataset/Squat/squat_113.avi'), PosixPath('Copy/PD_Dataset/Squat/squat_114.avi'), PosixPath('Copy/PD_Dataset/Squat/squat_115.avi'), PosixPath('Copy/PD_Dataset/Squat/squat_116.avi'), PosixPath('Copy/PD_Dataset/Squat/squat_117.avi'), PosixPath('Copy/PD_Dataset/Squat/squat_118.avi'), PosixPath('Copy/PD_Dataset/Squat/squat_13.avi'), PosixPath('Copy/PD_Dataset/Squat/squat_14.avi'), PosixPath('Copy/PD_Dataset/Squat/squat_15.avi'), PosixPath('Copy/PD_Dataset/Squat/squat_16.avi'), PosixPath('Copy/PD_Dataset/Squat/squat_17.avi'), PosixPath('Copy/PD_Dataset/Squat/squat_18.avi'), PosixPath('Copy/PD_Dataset/Squat/squat_19.avi'), PosixPath('Copy/PD_Dataset/Squat/squat_2.avi'), PosixPath('Copy/PD_Dataset/Squat/squat_20.avi'), PosixPath('Copy/PD_Dataset/Squat/squat_21.avi'), PosixPath('Copy/PD_Dataset/Squat/squat_22.avi'), PosixPath('Copy/PD_Dataset/Squat/squat_23.avi'), PosixPath('Copy/PD_Dataset/Squat/squat_24.avi'), PosixPath('Copy/PD_Dataset/Squat/squat_25.avi'), PosixPath('Copy/PD_Dataset/Squat/squat_26.avi'), PosixPath('Copy/PD_Dataset/Squat/squat_27.avi'), PosixPath('Copy/PD_Dataset/Squat/squat_28.avi'), PosixPath('Copy/PD_Dataset/Squat/squat_1.avi'), PosixPath('Copy/PD_Dataset/Squat/squat_10.avi'), PosixPath('Copy/PD_Dataset/Squat/squat_100.avi'), PosixPath('Copy/PD_Dataset/Squat/squat_101.avi'), PosixPath('Copy/PD_Dataset/Squat/squat_3.avi'), PosixPath('Copy/PD_Dataset/Squat/squat_30.avi'), PosixPath('Copy/PD_Dataset/Squat/squat_31.avi'), PosixPath('Copy/PD_Dataset/Squat/squat_32.avi'), PosixPath('Copy/PD_Dataset/Squat/squat_33.avi'), PosixPath('Copy/PD_Dataset/Squat/squat_34.avi'), PosixPath('Copy/PD_Dataset/Squat/squat_35.avi'), PosixPath('Copy/PD_Dataset/Squat/squat_36.avi'), PosixPath('Copy/PD_Dataset/Squat/squat_37.avi'), PosixPath('Copy/PD_Dataset/Squat/squat_38.avi'), PosixPath('Copy/PD_Dataset/Squat/squat_39.avi'), PosixPath('Copy/PD_Dataset/Squat/squat_4.avi'), PosixPath('Copy/PD_Dataset/Squat/squat_40.avi'), PosixPath('Copy/PD_Dataset/Squat/squat_41.avi'), PosixPath('Copy/PD_Dataset/Squat/squat_42.avi'), PosixPath('Copy/PD_Dataset/Squat/squat_43.avi'), PosixPath('Copy/PD_Dataset/Squat/squat_44.avi'), PosixPath('Copy/PD_Dataset/Squat/squat_46.avi'), PosixPath('Copy/PD_Dataset/Squat/squat_47.avi'), PosixPath('Copy/PD_Dataset/Squat/squat_48.avi'), PosixPath('Copy/PD_Dataset/Squat/squat_49.avi'), PosixPath('Copy/PD_Dataset/Squat/squat_5.avi'), PosixPath('Copy/PD_Dataset/Squat/squat_50.avi'), PosixPath('Copy/PD_Dataset/Squat/squat_51.avi'), PosixPath('Copy/PD_Dataset/Squat/squat_52.avi'), PosixPath('Copy/PD_Dataset/Squat/squat_53.avi'), PosixPath('Copy/PD_Dataset/Squat/squat_54.avi'), PosixPath('Copy/PD_Dataset/Squat/squat_55.avi'), PosixPath('Copy/PD_Dataset/Squat/squat_56.avi'), PosixPath('Copy/PD_Dataset/Squat/squat_57.avi'), PosixPath('Copy/PD_Dataset/Squat/squat_58.avi'), PosixPath('Copy/PD_Dataset/Squat/squat_59.avi'), PosixPath('Copy/PD_Dataset/Squat/squat_6.avi'), PosixPath('Copy/PD_Dataset/Squat/squat_60.avi'), PosixPath('Copy/PD_Dataset/Squat/squat_102.avi'), PosixPath('Copy/PD_Dataset/Squat/squat_12.avi'), PosixPath('Copy/PD_Dataset/Squat/squat_29.avi'), PosixPath('Copy/PD_Dataset/Squat/squat_45.avi'), PosixPath('Copy/PD_Dataset/Squat/squat_61.avi'), PosixPath('Copy/PD_Dataset/Squat/squat_78.avi'), PosixPath('Copy/PD_Dataset/Squat/[SHANA]Squat_10.avi'), PosixPath('Copy/PD_Dataset/Squat/squat_62.avi'), PosixPath('Copy/PD_Dataset/Squat/squat_63.avi'), PosixPath('Copy/PD_Dataset/Squat/squat_64.avi'), PosixPath('Copy/PD_Dataset/Squat/squat_65.avi'), PosixPath('Copy/PD_Dataset/Squat/squat_66.avi'), PosixPath('Copy/PD_Dataset/Squat/squat_67.avi'), PosixPath('Copy/PD_Dataset/Squat/squat_68.avi'), PosixPath('Copy/PD_Dataset/Squat/squat_69.avi'), PosixPath('Copy/PD_Dataset/Squat/squat_7.avi'), PosixPath('Copy/PD_Dataset/Squat/squat_70.avi'), PosixPath('Copy/PD_Dataset/Squat/squat_71.avi'), PosixPath('Copy/PD_Dataset/Squat/squat_72.avi'), PosixPath('Copy/PD_Dataset/Squat/squat_73.avi'), PosixPath('Copy/PD_Dataset/Squat/squat_74.avi'), PosixPath('Copy/PD_Dataset/Squat/squat_75.avi'), PosixPath('Copy/PD_Dataset/Squat/squat_76.avi'), PosixPath('Copy/PD_Dataset/Squat/squat_77.avi'), PosixPath('Copy/PD_Dataset/Squat/squat_79.avi'), PosixPath('Copy/PD_Dataset/Squat/squat_8.avi'), PosixPath('Copy/PD_Dataset/Squat/squat_80.avi'), PosixPath('Copy/PD_Dataset/Squat/squat_81.avi'), PosixPath('Copy/PD_Dataset/Squat/squat_82.avi'), PosixPath('Copy/PD_Dataset/Squat/squat_83.avi'), PosixPath('Copy/PD_Dataset/Squat/squat_84.avi'), PosixPath('Copy/PD_Dataset/Squat/squat_85.avi'), PosixPath('Copy/PD_Dataset/Squat/squat_86.avi'), PosixPath('Copy/PD_Dataset/Squat/squat_87.avi'), PosixPath('Copy/PD_Dataset/Squat/squat_88.avi'), PosixPath('Copy/PD_Dataset/Squat/squat_89.avi'), PosixPath('Copy/PD_Dataset/Squat/squat_9.avi'), PosixPath('Copy/PD_Dataset/Squat/squat_90.avi'), PosixPath('Copy/PD_Dataset/Squat/squat_91.avi'), PosixPath('Copy/PD_Dataset/Squat/squat_92.avi'), PosixPath('Copy/PD_Dataset/Squat/squat_93.avi'), PosixPath('Copy/PD_Dataset/Squat/squat_94.avi'), PosixPath('Copy/PD_Dataset/Squat/squat_95.avi'), PosixPath('Copy/PD_Dataset/Squat/squat_96.avi'), PosixPath('Copy/PD_Dataset/Squat/squat_97.avi'), PosixPath('Copy/PD_Dataset/Squat/squat_98.avi'), PosixPath('Copy/PD_Dataset/Squat/squat_99.avi'), PosixPath('Copy/PD_Dataset/Squat/[SHANA]Squat_1.avi'), PosixPath('Copy/PD_Dataset/Squat/[SHANA]Squat_11.avi'), PosixPath('Copy/PD_Dataset/Squat/[SHANA]Squat_12.avi'), PosixPath('Copy/PD_Dataset/Squat/[SHANA]Squat_2.avi'), PosixPath('Copy/PD_Dataset/Squat/[SHANA]Squat_3.avi'), PosixPath('Copy/PD_Dataset/Squat/[SHANA]Squat_4.avi'), PosixPath('Copy/PD_Dataset/Squat/[SHANA]Squat_5.avi'), PosixPath('Copy/PD_Dataset/Squat/[SHANA]Squat_6.avi'), PosixPath('Copy/PD_Dataset/Squat/[SHANA]Squat_7.avi'), PosixPath('Copy/PD_Dataset/Squat/[SHANA]Squat_8.avi'), PosixPath('Copy/PD_Dataset/Squat/[SHANA]Squat_9.avi'), PosixPath('Copy/PD_Dataset/Squat/[SHANA]Squat_13.avi'), PosixPath('Copy/PD_Dataset/Squat/[SHANA]Squat_14.avi')]\n"
     ]
    }
   ],
   "source": [
    "categories = sorted([\"BarbellCurl\", \"Deadlift\", \"LateralRaises\", \"OverheadPress\", \"Squat\"])\n",
    "\n",
    "video_labels = [\n",
    "    [video for video in (pathlib.Path(dataset_dir) / category).iterdir() if video.is_file()]\n",
    "    for category in categories\n",
    "]\n",
    "\n",
    "# Flatten and create labels\n",
    "label = [i for i, videos in enumerate(video_labels) for _ in videos]\n",
    "combined = [video for sublist in video_labels for video in sublist]\n",
    "\n",
    "print(label)\n",
    "print(combined)"
   ]
  },
  {
   "cell_type": "code",
   "execution_count": 8,
   "metadata": {},
   "outputs": [
    {
     "data": {
      "text/html": [
       "<div>\n",
       "<style scoped>\n",
       "    .dataframe tbody tr th:only-of-type {\n",
       "        vertical-align: middle;\n",
       "    }\n",
       "\n",
       "    .dataframe tbody tr th {\n",
       "        vertical-align: top;\n",
       "    }\n",
       "\n",
       "    .dataframe thead th {\n",
       "        text-align: right;\n",
       "    }\n",
       "</style>\n",
       "<table border=\"1\" class=\"dataframe\">\n",
       "  <thead>\n",
       "    <tr style=\"text-align: right;\">\n",
       "      <th></th>\n",
       "      <th>file</th>\n",
       "      <th>label</th>\n",
       "    </tr>\n",
       "  </thead>\n",
       "  <tbody>\n",
       "    <tr>\n",
       "      <th>0</th>\n",
       "      <td>Copy/PD_Dataset/BarbellCurl/[SHANA]VID_2025031...</td>\n",
       "      <td>0</td>\n",
       "    </tr>\n",
       "    <tr>\n",
       "      <th>1</th>\n",
       "      <td>Copy/PD_Dataset/BarbellCurl/[SHANA]VID_2025031...</td>\n",
       "      <td>0</td>\n",
       "    </tr>\n",
       "    <tr>\n",
       "      <th>2</th>\n",
       "      <td>Copy/PD_Dataset/BarbellCurl/[SHANA]VID_2025031...</td>\n",
       "      <td>0</td>\n",
       "    </tr>\n",
       "    <tr>\n",
       "      <th>3</th>\n",
       "      <td>Copy/PD_Dataset/BarbellCurl/[SHANA]VID_2025031...</td>\n",
       "      <td>0</td>\n",
       "    </tr>\n",
       "    <tr>\n",
       "      <th>4</th>\n",
       "      <td>Copy/PD_Dataset/BarbellCurl/[SHANA]VID_2025031...</td>\n",
       "      <td>0</td>\n",
       "    </tr>\n",
       "  </tbody>\n",
       "</table>\n",
       "</div>"
      ],
      "text/plain": [
       "                                                file  label\n",
       "0  Copy/PD_Dataset/BarbellCurl/[SHANA]VID_2025031...      0\n",
       "1  Copy/PD_Dataset/BarbellCurl/[SHANA]VID_2025031...      0\n",
       "2  Copy/PD_Dataset/BarbellCurl/[SHANA]VID_2025031...      0\n",
       "3  Copy/PD_Dataset/BarbellCurl/[SHANA]VID_2025031...      0\n",
       "4  Copy/PD_Dataset/BarbellCurl/[SHANA]VID_2025031...      0"
      ]
     },
     "execution_count": 8,
     "metadata": {},
     "output_type": "execute_result"
    }
   ],
   "source": [
    "df = pd.DataFrame(zip(combined, label), columns=[\"file\", \"label\"])\n",
    "df.head()"
   ]
  },
  {
   "cell_type": "code",
   "execution_count": 9,
   "metadata": {},
   "outputs": [
    {
     "name": "stdout",
     "output_type": "stream",
     "text": [
      "<class 'pandas.core.frame.DataFrame'>\n",
      "RangeIndex: 764 entries, 0 to 763\n",
      "Data columns (total 2 columns):\n",
      " #   Column  Non-Null Count  Dtype \n",
      "---  ------  --------------  ----- \n",
      " 0   file    764 non-null    object\n",
      " 1   label   764 non-null    int64 \n",
      "dtypes: int64(1), object(1)\n",
      "memory usage: 12.1+ KB\n"
     ]
    }
   ],
   "source": [
    "df.info()"
   ]
  },
  {
   "cell_type": "code",
   "execution_count": 10,
   "metadata": {},
   "outputs": [
    {
     "data": {
      "text/plain": [
       "label\n",
       "3    183\n",
       "0    158\n",
       "2    151\n",
       "1    140\n",
       "4    132\n",
       "Name: count, dtype: int64"
      ]
     },
     "execution_count": 10,
     "metadata": {},
     "output_type": "execute_result"
    }
   ],
   "source": [
    "df[\"label\"].value_counts()"
   ]
  },
  {
   "cell_type": "markdown",
   "metadata": {},
   "source": [
    "data is not balanced so... Remove tayo randomly :)"
   ]
  },
  {
   "cell_type": "code",
   "execution_count": 11,
   "metadata": {},
   "outputs": [],
   "source": [
    "## Function to balance the dataset\n",
    "def balance_dataset(df):\n",
    "    min_count = df[\"label\"].value_counts().min() # Find the minimum count among all classes\n",
    "    \n",
    "    balanced_df = (\n",
    "        df.groupby(\"label\").apply(lambda x: x.sample(n=min_count, random_state=0)).reset_index(drop=True)\n",
    "    )\n",
    "    \n",
    "    return balanced_df"
   ]
  },
  {
   "cell_type": "code",
   "execution_count": 12,
   "metadata": {},
   "outputs": [
    {
     "name": "stderr",
     "output_type": "stream",
     "text": [
      "/tmp/ipykernel_1275082/14603008.py:6: DeprecationWarning: DataFrameGroupBy.apply operated on the grouping columns. This behavior is deprecated, and in a future version of pandas the grouping columns will be excluded from the operation. Either pass `include_groups=False` to exclude the groupings or explicitly select the grouping columns after groupby to silence this warning.\n",
      "  df.groupby(\"label\").apply(lambda x: x.sample(n=min_count, random_state=0)).reset_index(drop=True)\n"
     ]
    },
    {
     "data": {
      "text/plain": [
       "label\n",
       "0    132\n",
       "1    132\n",
       "2    132\n",
       "3    132\n",
       "4    132\n",
       "Name: count, dtype: int64"
      ]
     },
     "execution_count": 12,
     "metadata": {},
     "output_type": "execute_result"
    }
   ],
   "source": [
    "df = balance_dataset(df)\n",
    "df[\"label\"].value_counts() # Check for the number of data"
   ]
  },
  {
   "cell_type": "markdown",
   "metadata": {},
   "source": [
    "What the function did was take the lowest count then groups them by labels, takes random n samples where n is the lowest count then drops the rest."
   ]
  },
  {
   "cell_type": "markdown",
   "metadata": {},
   "source": [
    "#### Split the dataset"
   ]
  },
  {
   "cell_type": "code",
   "execution_count": 13,
   "metadata": {},
   "outputs": [],
   "source": [
    "from sklearn.model_selection import train_test_split\n",
    "from sklearn.metrics import classification_report\n",
    "\n",
    "train_df, val_df = train_test_split(df, test_size=0.3, shuffle=True)\n",
    "val_df, test_df = train_test_split(val_df, test_size=0.1, shuffle=False)"
   ]
  },
  {
   "cell_type": "code",
   "execution_count": 14,
   "metadata": {},
   "outputs": [
    {
     "data": {
      "text/plain": [
       "(462, 178, 20)"
      ]
     },
     "execution_count": 14,
     "metadata": {},
     "output_type": "execute_result"
    }
   ],
   "source": [
    "len(train_df), len(val_df), len(test_df)"
   ]
  },
  {
   "cell_type": "code",
   "execution_count": 15,
   "metadata": {},
   "outputs": [],
   "source": [
    "train_df.to_csv(\"dataset20/train_df.csv\", header=False , sep=\" \", index=False) \n",
    "val_df.to_csv(\"dataset20/val_df.csv\", header=False, sep=\" \", index=False)\n",
    "test_df.to_csv(\"dataset20/test_df.csv\", header=False, sep=\" \", index=False)"
   ]
  },
  {
   "cell_type": "markdown",
   "metadata": {},
   "source": [
    "#### Prepare and augment the dataset for better generalization of the mudel "
   ]
  },
  {
   "cell_type": "code",
   "execution_count": 16,
   "metadata": {},
   "outputs": [
    {
     "name": "stderr",
     "output_type": "stream",
     "text": [
      "Clipping input data to the valid range for imshow with RGB data ([0..1] for floats or [0..255] for integers). Got range [-2.0..2.0784316].\n"
     ]
    },
    {
     "data": {
      "image/png": "[encoded data removed]",
      "text/plain": [
       "<Figure size 640x480 with 1 Axes>"
      ]
     },
     "metadata": {},
     "output_type": "display_data"
    }
   ],
   "source": [
    "## Just to visualize what the frames would look like\n",
    "from PIL import Image\n",
    "from torchvision.transforms import *\n",
    "\n",
    "def show_aug(img_pth: str):\n",
    "    transform_pipeline = Compose([\n",
    "        #RandomCrop(160),\n",
    "        CenterCrop(224),              \n",
    "        RandomHorizontalFlip(p=0.5),             \n",
    "        ToTensor(),                              \n",
    "        Normalize((0.45, 0.45, 0.45), (0.225, 0.225, 0.225))  \n",
    "    ])\n",
    "    img = Image.open(img_pth).convert(\"RGB\")\n",
    "    img_tensor = transform_pipeline(img)\n",
    "    if img_tensor.is_sparse:\n",
    "        img_tensor = img_tensor.to_dense()\n",
    "    return img_tensor\n",
    "\n",
    "aug_tensor = show_aug(\"linus.jpg\")\n",
    "\n",
    "plt.imshow(aug_tensor.cpu().permute(1, 2, 0).numpy()) # Rearrange dimensions from (C, H, W) to (H, W, C) for matplotlib\n",
    "plt.axis(\"off\")\n",
    "plt.show()"
   ]
  },
  {
   "cell_type": "code",
   "execution_count": 17,
   "metadata": {},
   "outputs": [],
   "source": [
    "clip_duration = 5\n",
    "sub_clip_duration = 30\n",
    "batch_size = 6\n",
    "crop_size = 224\n",
    "epoch = 80"
   ]
  },
  {
   "cell_type": "code",
   "execution_count": 18,
   "metadata": {},
   "outputs": [],
   "source": [
    "from pytorchvideo.transforms import (\n",
    "    ApplyTransformToKey,\n",
    "    Normalize,\n",
    "    ShortSideScale,\n",
    "    RandomShortSideScale,\n",
    "    UniformTemporalSubsample,\n",
    "    RandomResizedCrop,\n",
    ")\n",
    "\n",
    "from torchvision.transforms import (\n",
    "    Compose,\n",
    "    Lambda,\n",
    "    RandomHorizontalFlip,\n",
    "    RandomCrop,\n",
    "    CenterCrop,\n",
    ")"
   ]
  },
  {
   "cell_type": "code",
   "execution_count": 19,
   "metadata": {},
   "outputs": [],
   "source": [
    "class KineticsDataModule(pytorch_lightning.LightningDataModule):\n",
    "  _DATA_PATH = \"dataset20\"\n",
    "  _CLIP_DURATION = clip_duration  # Duration of sampled clip for each video\n",
    "  _SUB_CLIP_DURATION = sub_clip_duration # Number of frames per second (FPS)\n",
    "  _BATCH_SIZE = batch_size # Number of batches to train\n",
    "  _CROP_SIZE = crop_size # last size of the frame\n",
    "\n",
    "  _NUM_WORKERS = 5  # Number of parallel processes fetching data, the higher the faster but do keep in mind of your processor's specs\n",
    "  _PIN_MEMORY = True\n",
    "\n",
    "  def _video_transform(self, mode: str):\n",
    "        transform_steps = [\n",
    "            Lambda(lambda x: x / 255.0),\n",
    "            UniformTemporalSubsample(self._SUB_CLIP_DURATION),\n",
    "            Normalize((0.45, 0.45, 0.45), (0.225, 0.225, 0.225)),\n",
    "        ]\n",
    "\n",
    "        if mode == \"train\":\n",
    "            transform_steps += [\n",
    "                RandomShortSideScale(min_size=248, max_size=256),\n",
    "                RandomCrop(self._CROP_SIZE), \n",
    "                RandomHorizontalFlip(p=0.5),\n",
    "            ]\n",
    "        else:\n",
    "            transform_steps += [\n",
    "                ShortSideScale(248),\n",
    "                CenterCrop(self._CROP_SIZE)\n",
    "            ]\n",
    "\n",
    "        return ApplyTransformToKey(\n",
    "            key=\"video\",\n",
    "            transform=Compose(transform_steps)\n",
    "        )\n",
    "\n",
    "\n",
    "  def train_dataloader(self):\n",
    "    train_dataset = labeled_video_dataset(\n",
    "        data_path=os.path.join(self._DATA_PATH, \"train_df.csv\"),\n",
    "        clip_sampler=make_clip_sampler(\"random\", self._CLIP_DURATION), # if \"random\", will take random n seconds on a video\n",
    "        transform=self._video_transform(\"train\"),\n",
    "        decode_audio=False,\n",
    "    )\n",
    "    return torch.utils.data.DataLoader(\n",
    "        train_dataset,\n",
    "        batch_size=self._BATCH_SIZE,\n",
    "        num_workers=self._NUM_WORKERS,\n",
    "        pin_memory=self._PIN_MEMORY\n",
    "    )\n",
    "\n",
    "  def val_dataloader(self):\n",
    "    val_dataset = labeled_video_dataset(\n",
    "        data_path=os.path.join(self._DATA_PATH, \"val_df.csv\"),\n",
    "        clip_sampler=make_clip_sampler(\"uniform\", self._CLIP_DURATION), # Uniformed n seconds, meaning n secs then n secs again depending on the duration of the video\n",
    "        transform=self._video_transform(\"val\"),\n",
    "        decode_audio=False,\n",
    "    )\n",
    "    return torch.utils.data.DataLoader(\n",
    "        val_dataset,\n",
    "        batch_size=self._BATCH_SIZE,\n",
    "        num_workers=self._NUM_WORKERS,\n",
    "        pin_memory=self._PIN_MEMORY\n",
    "    )\n",
    "  \n",
    "  def test_dataloader(self):\n",
    "    test_dataset = labeled_video_dataset(\n",
    "        data_path=os.path.join(self._DATA_PATH, \"test_df.csv\"),\n",
    "        clip_sampler=make_clip_sampler(\"uniform\", self._CLIP_DURATION),\n",
    "        transform=self._video_transform(\"test\"),\n",
    "        decode_audio=False,\n",
    "    )\n",
    "    return torch.utils.data.DataLoader(\n",
    "        test_dataset,\n",
    "        batch_size=self._BATCH_SIZE,\n",
    "        num_workers=self._NUM_WORKERS,\n",
    "        pin_memory=self._PIN_MEMORY\n",
    "    )"
   ]
  },
  {
   "cell_type": "markdown",
   "metadata": {},
   "source": [
    "Each clip in the dataset is in following dictionary format:\n",
    "```\n",
    " {\n",
    "     'video': <video_tensor>,     # Shape: (C, T, H, W)\n",
    "     'audio': <audio_tensor>,     # Shape: (S)\n",
    "     'label': <action_label>,     # Integer defining class annotation\n",
    "     'video_name': <video_path>,  # Video file path stem\n",
    "     'video_index': <video_id>,   # index of video used by sampler\n",
    "     'clip_index': <clip_id>      # index of clip sampled within video\n",
    "  } \n",
    "```"
   ]
  },
  {
   "cell_type": "code",
   "execution_count": 20,
   "metadata": {},
   "outputs": [],
   "source": [
    "from pytorchvideo.models.x3d import create_x3d\n",
    "\n",
    "def make_kinetics_x3d():\n",
    "    return create_x3d(\n",
    "        input_channel=3,\n",
    "        input_crop_size=crop_size,\n",
    "        model_num_class=len(categories),\n",
    "        dropout_rate=0.5,\n",
    "        width_factor=2.4,\n",
    "        depth_factor=2.2,\n",
    "        norm=torch.nn.BatchNorm3d,\n",
    "        activation=torch.nn.ReLU\n",
    "        )"
   ]
  },
  {
   "cell_type": "code",
   "execution_count": 21,
   "metadata": {},
   "outputs": [
    {
     "name": "stdout",
     "output_type": "stream",
     "text": [
      "Net(\n",
      "  (blocks): ModuleList(\n",
      "    (0): ResNetBasicStem(\n",
      "      (conv): Conv2plus1d(\n",
      "        (conv_t): Conv3d(3, 32, kernel_size=(1, 3, 3), stride=(1, 2, 2), padding=(0, 1, 1), bias=False)\n",
      "        (conv_xy): Conv3d(32, 32, kernel_size=(5, 1, 1), stride=(1, 1, 1), padding=(2, 0, 0), groups=32, bias=False)\n",
      "      )\n",
      "      (norm): BatchNorm3d(32, eps=1e-05, momentum=0.1, affine=True, track_running_stats=True)\n",
      "      (activation): ReLU()\n",
      "    )\n",
      "    (1): ResStage(\n",
      "      (res_blocks): ModuleList(\n",
      "        (0): ResBlock(\n",
      "          (branch1_conv): Conv3d(32, 32, kernel_size=(1, 1, 1), stride=(1, 2, 2), bias=False)\n",
      "          (branch2): BottleneckBlock(\n",
      "            (conv_a): Conv3d(32, 72, kernel_size=(1, 1, 1), stride=(1, 1, 1), bias=False)\n",
      "            (norm_a): BatchNorm3d(72, eps=1e-05, momentum=0.1, affine=True, track_running_stats=True)\n",
      "            (act_a): ReLU()\n",
      "            (conv_b): Conv3d(72, 72, kernel_size=(3, 3, 3), stride=(1, 2, 2), padding=(1, 1, 1), groups=72, bias=False)\n",
      "            (norm_b): Sequential(\n",
      "              (0): BatchNorm3d(72, eps=1e-05, momentum=0.1, affine=True, track_running_stats=True)\n",
      "              (1): SqueezeExcitation(\n",
      "                (block): Sequential(\n",
      "                  (0): Conv3d(72, 8, kernel_size=(1, 1, 1), stride=(1, 1, 1))\n",
      "                  (1): ReLU()\n",
      "                  (2): Conv3d(8, 72, kernel_size=(1, 1, 1), stride=(1, 1, 1))\n",
      "                  (3): Sigmoid()\n",
      "                )\n",
      "              )\n",
      "            )\n",
      "            (act_b): Swish()\n",
      "            (conv_c): Conv3d(72, 32, kernel_size=(1, 1, 1), stride=(1, 1, 1), bias=False)\n",
      "            (norm_c): BatchNorm3d(32, eps=1e-05, momentum=0.1, affine=True, track_running_stats=True)\n",
      "          )\n",
      "          (activation): ReLU()\n",
      "        )\n",
      "        (1): ResBlock(\n",
      "          (branch2): BottleneckBlock(\n",
      "            (conv_a): Conv3d(32, 72, kernel_size=(1, 1, 1), stride=(1, 1, 1), bias=False)\n",
      "            (norm_a): BatchNorm3d(72, eps=1e-05, momentum=0.1, affine=True, track_running_stats=True)\n",
      "            (act_a): ReLU()\n",
      "            (conv_b): Conv3d(72, 72, kernel_size=(3, 3, 3), stride=(1, 1, 1), padding=(1, 1, 1), groups=72, bias=False)\n",
      "            (norm_b): Sequential(\n",
      "              (0): BatchNorm3d(72, eps=1e-05, momentum=0.1, affine=True, track_running_stats=True)\n",
      "              (1): Identity()\n",
      "            )\n",
      "            (act_b): Swish()\n",
      "            (conv_c): Conv3d(72, 32, kernel_size=(1, 1, 1), stride=(1, 1, 1), bias=False)\n",
      "            (norm_c): BatchNorm3d(32, eps=1e-05, momentum=0.1, affine=True, track_running_stats=True)\n",
      "          )\n",
      "          (activation): ReLU()\n",
      "        )\n",
      "        (2): ResBlock(\n",
      "          (branch2): BottleneckBlock(\n",
      "            (conv_a): Conv3d(32, 72, kernel_size=(1, 1, 1), stride=(1, 1, 1), bias=False)\n",
      "            (norm_a): BatchNorm3d(72, eps=1e-05, momentum=0.1, affine=True, track_running_stats=True)\n",
      "            (act_a): ReLU()\n",
      "            (conv_b): Conv3d(72, 72, kernel_size=(3, 3, 3), stride=(1, 1, 1), padding=(1, 1, 1), groups=72, bias=False)\n",
      "            (norm_b): Sequential(\n",
      "              (0): BatchNorm3d(72, eps=1e-05, momentum=0.1, affine=True, track_running_stats=True)\n",
      "              (1): SqueezeExcitation(\n",
      "                (block): Sequential(\n",
      "                  (0): Conv3d(72, 8, kernel_size=(1, 1, 1), stride=(1, 1, 1))\n",
      "                  (1): ReLU()\n",
      "                  (2): Conv3d(8, 72, kernel_size=(1, 1, 1), stride=(1, 1, 1))\n",
      "                  (3): Sigmoid()\n",
      "                )\n",
      "              )\n",
      "            )\n",
      "            (act_b): Swish()\n",
      "            (conv_c): Conv3d(72, 32, kernel_size=(1, 1, 1), stride=(1, 1, 1), bias=False)\n",
      "            (norm_c): BatchNorm3d(32, eps=1e-05, momentum=0.1, affine=True, track_running_stats=True)\n",
      "          )\n",
      "          (activation): ReLU()\n",
      "        )\n",
      "      )\n",
      "    )\n",
      "    (2): ResStage(\n",
      "      (res_blocks): ModuleList(\n",
      "        (0): ResBlock(\n",
      "          (branch1_conv): Conv3d(32, 56, kernel_size=(1, 1, 1), stride=(1, 2, 2), bias=False)\n",
      "          (branch1_norm): BatchNorm3d(56, eps=1e-05, momentum=0.1, affine=True, track_running_stats=True)\n",
      "          (branch2): BottleneckBlock(\n",
      "            (conv_a): Conv3d(32, 126, kernel_size=(1, 1, 1), stride=(1, 1, 1), bias=False)\n",
      "            (norm_a): BatchNorm3d(126, eps=1e-05, momentum=0.1, affine=True, track_running_stats=True)\n",
      "            (act_a): ReLU()\n",
      "            (conv_b): Conv3d(126, 126, kernel_size=(3, 3, 3), stride=(1, 2, 2), padding=(1, 1, 1), groups=126, bias=False)\n",
      "            (norm_b): Sequential(\n",
      "              (0): BatchNorm3d(126, eps=1e-05, momentum=0.1, affine=True, track_running_stats=True)\n",
      "              (1): SqueezeExcitation(\n",
      "                (block): Sequential(\n",
      "                  (0): Conv3d(126, 8, kernel_size=(1, 1, 1), stride=(1, 1, 1))\n",
      "                  (1): ReLU()\n",
      "                  (2): Conv3d(8, 126, kernel_size=(1, 1, 1), stride=(1, 1, 1))\n",
      "                  (3): Sigmoid()\n",
      "                )\n",
      "              )\n",
      "            )\n",
      "            (act_b): Swish()\n",
      "            (conv_c): Conv3d(126, 56, kernel_size=(1, 1, 1), stride=(1, 1, 1), bias=False)\n",
      "            (norm_c): BatchNorm3d(56, eps=1e-05, momentum=0.1, affine=True, track_running_stats=True)\n",
      "          )\n",
      "          (activation): ReLU()\n",
      "        )\n",
      "        (1): ResBlock(\n",
      "          (branch2): BottleneckBlock(\n",
      "            (conv_a): Conv3d(56, 126, kernel_size=(1, 1, 1), stride=(1, 1, 1), bias=False)\n",
      "            (norm_a): BatchNorm3d(126, eps=1e-05, momentum=0.1, affine=True, track_running_stats=True)\n",
      "            (act_a): ReLU()\n",
      "            (conv_b): Conv3d(126, 126, kernel_size=(3, 3, 3), stride=(1, 1, 1), padding=(1, 1, 1), groups=126, bias=False)\n",
      "            (norm_b): Sequential(\n",
      "              (0): BatchNorm3d(126, eps=1e-05, momentum=0.1, affine=True, track_running_stats=True)\n",
      "              (1): Identity()\n",
      "            )\n",
      "            (act_b): Swish()\n",
      "            (conv_c): Conv3d(126, 56, kernel_size=(1, 1, 1), stride=(1, 1, 1), bias=False)\n",
      "            (norm_c): BatchNorm3d(56, eps=1e-05, momentum=0.1, affine=True, track_running_stats=True)\n",
      "          )\n",
      "          (activation): ReLU()\n",
      "        )\n",
      "        (2): ResBlock(\n",
      "          (branch2): BottleneckBlock(\n",
      "            (conv_a): Conv3d(56, 126, kernel_size=(1, 1, 1), stride=(1, 1, 1), bias=False)\n",
      "            (norm_a): BatchNorm3d(126, eps=1e-05, momentum=0.1, affine=True, track_running_stats=True)\n",
      "            (act_a): ReLU()\n",
      "            (conv_b): Conv3d(126, 126, kernel_size=(3, 3, 3), stride=(1, 1, 1), padding=(1, 1, 1), groups=126, bias=False)\n",
      "            (norm_b): Sequential(\n",
      "              (0): BatchNorm3d(126, eps=1e-05, momentum=0.1, affine=True, track_running_stats=True)\n",
      "              (1): SqueezeExcitation(\n",
      "                (block): Sequential(\n",
      "                  (0): Conv3d(126, 8, kernel_size=(1, 1, 1), stride=(1, 1, 1))\n",
      "                  (1): ReLU()\n",
      "                  (2): Conv3d(8, 126, kernel_size=(1, 1, 1), stride=(1, 1, 1))\n",
      "                  (3): Sigmoid()\n",
      "                )\n",
      "              )\n",
      "            )\n",
      "            (act_b): Swish()\n",
      "            (conv_c): Conv3d(126, 56, kernel_size=(1, 1, 1), stride=(1, 1, 1), bias=False)\n",
      "            (norm_c): BatchNorm3d(56, eps=1e-05, momentum=0.1, affine=True, track_running_stats=True)\n",
      "          )\n",
      "          (activation): ReLU()\n",
      "        )\n",
      "        (3): ResBlock(\n",
      "          (branch2): BottleneckBlock(\n",
      "            (conv_a): Conv3d(56, 126, kernel_size=(1, 1, 1), stride=(1, 1, 1), bias=False)\n",
      "            (norm_a): BatchNorm3d(126, eps=1e-05, momentum=0.1, affine=True, track_running_stats=True)\n",
      "            (act_a): ReLU()\n",
      "            (conv_b): Conv3d(126, 126, kernel_size=(3, 3, 3), stride=(1, 1, 1), padding=(1, 1, 1), groups=126, bias=False)\n",
      "            (norm_b): Sequential(\n",
      "              (0): BatchNorm3d(126, eps=1e-05, momentum=0.1, affine=True, track_running_stats=True)\n",
      "              (1): Identity()\n",
      "            )\n",
      "            (act_b): Swish()\n",
      "            (conv_c): Conv3d(126, 56, kernel_size=(1, 1, 1), stride=(1, 1, 1), bias=False)\n",
      "            (norm_c): BatchNorm3d(56, eps=1e-05, momentum=0.1, affine=True, track_running_stats=True)\n",
      "          )\n",
      "          (activation): ReLU()\n",
      "        )\n",
      "        (4): ResBlock(\n",
      "          (branch2): BottleneckBlock(\n",
      "            (conv_a): Conv3d(56, 126, kernel_size=(1, 1, 1), stride=(1, 1, 1), bias=False)\n",
      "            (norm_a): BatchNorm3d(126, eps=1e-05, momentum=0.1, affine=True, track_running_stats=True)\n",
      "            (act_a): ReLU()\n",
      "            (conv_b): Conv3d(126, 126, kernel_size=(3, 3, 3), stride=(1, 1, 1), padding=(1, 1, 1), groups=126, bias=False)\n",
      "            (norm_b): Sequential(\n",
      "              (0): BatchNorm3d(126, eps=1e-05, momentum=0.1, affine=True, track_running_stats=True)\n",
      "              (1): SqueezeExcitation(\n",
      "                (block): Sequential(\n",
      "                  (0): Conv3d(126, 8, kernel_size=(1, 1, 1), stride=(1, 1, 1))\n",
      "                  (1): ReLU()\n",
      "                  (2): Conv3d(8, 126, kernel_size=(1, 1, 1), stride=(1, 1, 1))\n",
      "                  (3): Sigmoid()\n",
      "                )\n",
      "              )\n",
      "            )\n",
      "            (act_b): Swish()\n",
      "            (conv_c): Conv3d(126, 56, kernel_size=(1, 1, 1), stride=(1, 1, 1), bias=False)\n",
      "            (norm_c): BatchNorm3d(56, eps=1e-05, momentum=0.1, affine=True, track_running_stats=True)\n",
      "          )\n",
      "          (activation): ReLU()\n",
      "        )\n",
      "      )\n",
      "    )\n",
      "    (3): ResStage(\n",
      "      (res_blocks): ModuleList(\n",
      "        (0): ResBlock(\n",
      "          (branch1_conv): Conv3d(56, 112, kernel_size=(1, 1, 1), stride=(1, 2, 2), bias=False)\n",
      "          (branch1_norm): BatchNorm3d(112, eps=1e-05, momentum=0.1, affine=True, track_running_stats=True)\n",
      "          (branch2): BottleneckBlock(\n",
      "            (conv_a): Conv3d(56, 252, kernel_size=(1, 1, 1), stride=(1, 1, 1), bias=False)\n",
      "            (norm_a): BatchNorm3d(252, eps=1e-05, momentum=0.1, affine=True, track_running_stats=True)\n",
      "            (act_a): ReLU()\n",
      "            (conv_b): Conv3d(252, 252, kernel_size=(3, 3, 3), stride=(1, 2, 2), padding=(1, 1, 1), groups=252, bias=False)\n",
      "            (norm_b): Sequential(\n",
      "              (0): BatchNorm3d(252, eps=1e-05, momentum=0.1, affine=True, track_running_stats=True)\n",
      "              (1): SqueezeExcitation(\n",
      "                (block): Sequential(\n",
      "                  (0): Conv3d(252, 16, kernel_size=(1, 1, 1), stride=(1, 1, 1))\n",
      "                  (1): ReLU()\n",
      "                  (2): Conv3d(16, 252, kernel_size=(1, 1, 1), stride=(1, 1, 1))\n",
      "                  (3): Sigmoid()\n",
      "                )\n",
      "              )\n",
      "            )\n",
      "            (act_b): Swish()\n",
      "            (conv_c): Conv3d(252, 112, kernel_size=(1, 1, 1), stride=(1, 1, 1), bias=False)\n",
      "            (norm_c): BatchNorm3d(112, eps=1e-05, momentum=0.1, affine=True, track_running_stats=True)\n",
      "          )\n",
      "          (activation): ReLU()\n",
      "        )\n",
      "        (1): ResBlock(\n",
      "          (branch2): BottleneckBlock(\n",
      "            (conv_a): Conv3d(112, 252, kernel_size=(1, 1, 1), stride=(1, 1, 1), bias=False)\n",
      "            (norm_a): BatchNorm3d(252, eps=1e-05, momentum=0.1, affine=True, track_running_stats=True)\n",
      "            (act_a): ReLU()\n",
      "            (conv_b): Conv3d(252, 252, kernel_size=(3, 3, 3), stride=(1, 1, 1), padding=(1, 1, 1), groups=252, bias=False)\n",
      "            (norm_b): Sequential(\n",
      "              (0): BatchNorm3d(252, eps=1e-05, momentum=0.1, affine=True, track_running_stats=True)\n",
      "              (1): Identity()\n",
      "            )\n",
      "            (act_b): Swish()\n",
      "            (conv_c): Conv3d(252, 112, kernel_size=(1, 1, 1), stride=(1, 1, 1), bias=False)\n",
      "            (norm_c): BatchNorm3d(112, eps=1e-05, momentum=0.1, affine=True, track_running_stats=True)\n",
      "          )\n",
      "          (activation): ReLU()\n",
      "        )\n",
      "        (2): ResBlock(\n",
      "          (branch2): BottleneckBlock(\n",
      "            (conv_a): Conv3d(112, 252, kernel_size=(1, 1, 1), stride=(1, 1, 1), bias=False)\n",
      "            (norm_a): BatchNorm3d(252, eps=1e-05, momentum=0.1, affine=True, track_running_stats=True)\n",
      "            (act_a): ReLU()\n",
      "            (conv_b): Conv3d(252, 252, kernel_size=(3, 3, 3), stride=(1, 1, 1), padding=(1, 1, 1), groups=252, bias=False)\n",
      "            (norm_b): Sequential(\n",
      "              (0): BatchNorm3d(252, eps=1e-05, momentum=0.1, affine=True, track_running_stats=True)\n",
      "              (1): SqueezeExcitation(\n",
      "                (block): Sequential(\n",
      "                  (0): Conv3d(252, 16, kernel_size=(1, 1, 1), stride=(1, 1, 1))\n",
      "                  (1): ReLU()\n",
      "                  (2): Conv3d(16, 252, kernel_size=(1, 1, 1), stride=(1, 1, 1))\n",
      "                  (3): Sigmoid()\n",
      "                )\n",
      "              )\n",
      "            )\n",
      "            (act_b): Swish()\n",
      "            (conv_c): Conv3d(252, 112, kernel_size=(1, 1, 1), stride=(1, 1, 1), bias=False)\n",
      "            (norm_c): BatchNorm3d(112, eps=1e-05, momentum=0.1, affine=True, track_running_stats=True)\n",
      "          )\n",
      "          (activation): ReLU()\n",
      "        )\n",
      "        (3): ResBlock(\n",
      "          (branch2): BottleneckBlock(\n",
      "            (conv_a): Conv3d(112, 252, kernel_size=(1, 1, 1), stride=(1, 1, 1), bias=False)\n",
      "            (norm_a): BatchNorm3d(252, eps=1e-05, momentum=0.1, affine=True, track_running_stats=True)\n",
      "            (act_a): ReLU()\n",
      "            (conv_b): Conv3d(252, 252, kernel_size=(3, 3, 3), stride=(1, 1, 1), padding=(1, 1, 1), groups=252, bias=False)\n",
      "            (norm_b): Sequential(\n",
      "              (0): BatchNorm3d(252, eps=1e-05, momentum=0.1, affine=True, track_running_stats=True)\n",
      "              (1): Identity()\n",
      "            )\n",
      "            (act_b): Swish()\n",
      "            (conv_c): Conv3d(252, 112, kernel_size=(1, 1, 1), stride=(1, 1, 1), bias=False)\n",
      "            (norm_c): BatchNorm3d(112, eps=1e-05, momentum=0.1, affine=True, track_running_stats=True)\n",
      "          )\n",
      "          (activation): ReLU()\n",
      "        )\n",
      "        (4): ResBlock(\n",
      "          (branch2): BottleneckBlock(\n",
      "            (conv_a): Conv3d(112, 252, kernel_size=(1, 1, 1), stride=(1, 1, 1), bias=False)\n",
      "            (norm_a): BatchNorm3d(252, eps=1e-05, momentum=0.1, affine=True, track_running_stats=True)\n",
      "            (act_a): ReLU()\n",
      "            (conv_b): Conv3d(252, 252, kernel_size=(3, 3, 3), stride=(1, 1, 1), padding=(1, 1, 1), groups=252, bias=False)\n",
      "            (norm_b): Sequential(\n",
      "              (0): BatchNorm3d(252, eps=1e-05, momentum=0.1, affine=True, track_running_stats=True)\n",
      "              (1): SqueezeExcitation(\n",
      "                (block): Sequential(\n",
      "                  (0): Conv3d(252, 16, kernel_size=(1, 1, 1), stride=(1, 1, 1))\n",
      "                  (1): ReLU()\n",
      "                  (2): Conv3d(16, 252, kernel_size=(1, 1, 1), stride=(1, 1, 1))\n",
      "                  (3): Sigmoid()\n",
      "                )\n",
      "              )\n",
      "            )\n",
      "            (act_b): Swish()\n",
      "            (conv_c): Conv3d(252, 112, kernel_size=(1, 1, 1), stride=(1, 1, 1), bias=False)\n",
      "            (norm_c): BatchNorm3d(112, eps=1e-05, momentum=0.1, affine=True, track_running_stats=True)\n",
      "          )\n",
      "          (activation): ReLU()\n",
      "        )\n",
      "        (5): ResBlock(\n",
      "          (branch2): BottleneckBlock(\n",
      "            (conv_a): Conv3d(112, 252, kernel_size=(1, 1, 1), stride=(1, 1, 1), bias=False)\n",
      "            (norm_a): BatchNorm3d(252, eps=1e-05, momentum=0.1, affine=True, track_running_stats=True)\n",
      "            (act_a): ReLU()\n",
      "            (conv_b): Conv3d(252, 252, kernel_size=(3, 3, 3), stride=(1, 1, 1), padding=(1, 1, 1), groups=252, bias=False)\n",
      "            (norm_b): Sequential(\n",
      "              (0): BatchNorm3d(252, eps=1e-05, momentum=0.1, affine=True, track_running_stats=True)\n",
      "              (1): Identity()\n",
      "            )\n",
      "            (act_b): Swish()\n",
      "            (conv_c): Conv3d(252, 112, kernel_size=(1, 1, 1), stride=(1, 1, 1), bias=False)\n",
      "            (norm_c): BatchNorm3d(112, eps=1e-05, momentum=0.1, affine=True, track_running_stats=True)\n",
      "          )\n",
      "          (activation): ReLU()\n",
      "        )\n",
      "        (6): ResBlock(\n",
      "          (branch2): BottleneckBlock(\n",
      "            (conv_a): Conv3d(112, 252, kernel_size=(1, 1, 1), stride=(1, 1, 1), bias=False)\n",
      "            (norm_a): BatchNorm3d(252, eps=1e-05, momentum=0.1, affine=True, track_running_stats=True)\n",
      "            (act_a): ReLU()\n",
      "            (conv_b): Conv3d(252, 252, kernel_size=(3, 3, 3), stride=(1, 1, 1), padding=(1, 1, 1), groups=252, bias=False)\n",
      "            (norm_b): Sequential(\n",
      "              (0): BatchNorm3d(252, eps=1e-05, momentum=0.1, affine=True, track_running_stats=True)\n",
      "              (1): SqueezeExcitation(\n",
      "                (block): Sequential(\n",
      "                  (0): Conv3d(252, 16, kernel_size=(1, 1, 1), stride=(1, 1, 1))\n",
      "                  (1): ReLU()\n",
      "                  (2): Conv3d(16, 252, kernel_size=(1, 1, 1), stride=(1, 1, 1))\n",
      "                  (3): Sigmoid()\n",
      "                )\n",
      "              )\n",
      "            )\n",
      "            (act_b): Swish()\n",
      "            (conv_c): Conv3d(252, 112, kernel_size=(1, 1, 1), stride=(1, 1, 1), bias=False)\n",
      "            (norm_c): BatchNorm3d(112, eps=1e-05, momentum=0.1, affine=True, track_running_stats=True)\n",
      "          )\n",
      "          (activation): ReLU()\n",
      "        )\n",
      "        (7): ResBlock(\n",
      "          (branch2): BottleneckBlock(\n",
      "            (conv_a): Conv3d(112, 252, kernel_size=(1, 1, 1), stride=(1, 1, 1), bias=False)\n",
      "            (norm_a): BatchNorm3d(252, eps=1e-05, momentum=0.1, affine=True, track_running_stats=True)\n",
      "            (act_a): ReLU()\n",
      "            (conv_b): Conv3d(252, 252, kernel_size=(3, 3, 3), stride=(1, 1, 1), padding=(1, 1, 1), groups=252, bias=False)\n",
      "            (norm_b): Sequential(\n",
      "              (0): BatchNorm3d(252, eps=1e-05, momentum=0.1, affine=True, track_running_stats=True)\n",
      "              (1): Identity()\n",
      "            )\n",
      "            (act_b): Swish()\n",
      "            (conv_c): Conv3d(252, 112, kernel_size=(1, 1, 1), stride=(1, 1, 1), bias=False)\n",
      "            (norm_c): BatchNorm3d(112, eps=1e-05, momentum=0.1, affine=True, track_running_stats=True)\n",
      "          )\n",
      "          (activation): ReLU()\n",
      "        )\n",
      "        (8): ResBlock(\n",
      "          (branch2): BottleneckBlock(\n",
      "            (conv_a): Conv3d(112, 252, kernel_size=(1, 1, 1), stride=(1, 1, 1), bias=False)\n",
      "            (norm_a): BatchNorm3d(252, eps=1e-05, momentum=0.1, affine=True, track_running_stats=True)\n",
      "            (act_a): ReLU()\n",
      "            (conv_b): Conv3d(252, 252, kernel_size=(3, 3, 3), stride=(1, 1, 1), padding=(1, 1, 1), groups=252, bias=False)\n",
      "            (norm_b): Sequential(\n",
      "              (0): BatchNorm3d(252, eps=1e-05, momentum=0.1, affine=True, track_running_stats=True)\n",
      "              (1): SqueezeExcitation(\n",
      "                (block): Sequential(\n",
      "                  (0): Conv3d(252, 16, kernel_size=(1, 1, 1), stride=(1, 1, 1))\n",
      "                  (1): ReLU()\n",
      "                  (2): Conv3d(16, 252, kernel_size=(1, 1, 1), stride=(1, 1, 1))\n",
      "                  (3): Sigmoid()\n",
      "                )\n",
      "              )\n",
      "            )\n",
      "            (act_b): Swish()\n",
      "            (conv_c): Conv3d(252, 112, kernel_size=(1, 1, 1), stride=(1, 1, 1), bias=False)\n",
      "            (norm_c): BatchNorm3d(112, eps=1e-05, momentum=0.1, affine=True, track_running_stats=True)\n",
      "          )\n",
      "          (activation): ReLU()\n",
      "        )\n",
      "        (9): ResBlock(\n",
      "          (branch2): BottleneckBlock(\n",
      "            (conv_a): Conv3d(112, 252, kernel_size=(1, 1, 1), stride=(1, 1, 1), bias=False)\n",
      "            (norm_a): BatchNorm3d(252, eps=1e-05, momentum=0.1, affine=True, track_running_stats=True)\n",
      "            (act_a): ReLU()\n",
      "            (conv_b): Conv3d(252, 252, kernel_size=(3, 3, 3), stride=(1, 1, 1), padding=(1, 1, 1), groups=252, bias=False)\n",
      "            (norm_b): Sequential(\n",
      "              (0): BatchNorm3d(252, eps=1e-05, momentum=0.1, affine=True, track_running_stats=True)\n",
      "              (1): Identity()\n",
      "            )\n",
      "            (act_b): Swish()\n",
      "            (conv_c): Conv3d(252, 112, kernel_size=(1, 1, 1), stride=(1, 1, 1), bias=False)\n",
      "            (norm_c): BatchNorm3d(112, eps=1e-05, momentum=0.1, affine=True, track_running_stats=True)\n",
      "          )\n",
      "          (activation): ReLU()\n",
      "        )\n",
      "        (10): ResBlock(\n",
      "          (branch2): BottleneckBlock(\n",
      "            (conv_a): Conv3d(112, 252, kernel_size=(1, 1, 1), stride=(1, 1, 1), bias=False)\n",
      "            (norm_a): BatchNorm3d(252, eps=1e-05, momentum=0.1, affine=True, track_running_stats=True)\n",
      "            (act_a): ReLU()\n",
      "            (conv_b): Conv3d(252, 252, kernel_size=(3, 3, 3), stride=(1, 1, 1), padding=(1, 1, 1), groups=252, bias=False)\n",
      "            (norm_b): Sequential(\n",
      "              (0): BatchNorm3d(252, eps=1e-05, momentum=0.1, affine=True, track_running_stats=True)\n",
      "              (1): SqueezeExcitation(\n",
      "                (block): Sequential(\n",
      "                  (0): Conv3d(252, 16, kernel_size=(1, 1, 1), stride=(1, 1, 1))\n",
      "                  (1): ReLU()\n",
      "                  (2): Conv3d(16, 252, kernel_size=(1, 1, 1), stride=(1, 1, 1))\n",
      "                  (3): Sigmoid()\n",
      "                )\n",
      "              )\n",
      "            )\n",
      "            (act_b): Swish()\n",
      "            (conv_c): Conv3d(252, 112, kernel_size=(1, 1, 1), stride=(1, 1, 1), bias=False)\n",
      "            (norm_c): BatchNorm3d(112, eps=1e-05, momentum=0.1, affine=True, track_running_stats=True)\n",
      "          )\n",
      "          (activation): ReLU()\n",
      "        )\n",
      "      )\n",
      "    )\n",
      "    (4): ResStage(\n",
      "      (res_blocks): ModuleList(\n",
      "        (0): ResBlock(\n",
      "          (branch1_conv): Conv3d(112, 232, kernel_size=(1, 1, 1), stride=(1, 2, 2), bias=False)\n",
      "          (branch1_norm): BatchNorm3d(232, eps=1e-05, momentum=0.1, affine=True, track_running_stats=True)\n",
      "          (branch2): BottleneckBlock(\n",
      "            (conv_a): Conv3d(112, 522, kernel_size=(1, 1, 1), stride=(1, 1, 1), bias=False)\n",
      "            (norm_a): BatchNorm3d(522, eps=1e-05, momentum=0.1, affine=True, track_running_stats=True)\n",
      "            (act_a): ReLU()\n",
      "            (conv_b): Conv3d(522, 522, kernel_size=(3, 3, 3), stride=(1, 2, 2), padding=(1, 1, 1), groups=522, bias=False)\n",
      "            (norm_b): Sequential(\n",
      "              (0): BatchNorm3d(522, eps=1e-05, momentum=0.1, affine=True, track_running_stats=True)\n",
      "              (1): SqueezeExcitation(\n",
      "                (block): Sequential(\n",
      "                  (0): Conv3d(522, 32, kernel_size=(1, 1, 1), stride=(1, 1, 1))\n",
      "                  (1): ReLU()\n",
      "                  (2): Conv3d(32, 522, kernel_size=(1, 1, 1), stride=(1, 1, 1))\n",
      "                  (3): Sigmoid()\n",
      "                )\n",
      "              )\n",
      "            )\n",
      "            (act_b): Swish()\n",
      "            (conv_c): Conv3d(522, 232, kernel_size=(1, 1, 1), stride=(1, 1, 1), bias=False)\n",
      "            (norm_c): BatchNorm3d(232, eps=1e-05, momentum=0.1, affine=True, track_running_stats=True)\n",
      "          )\n",
      "          (activation): ReLU()\n",
      "        )\n",
      "        (1): ResBlock(\n",
      "          (branch2): BottleneckBlock(\n",
      "            (conv_a): Conv3d(232, 522, kernel_size=(1, 1, 1), stride=(1, 1, 1), bias=False)\n",
      "            (norm_a): BatchNorm3d(522, eps=1e-05, momentum=0.1, affine=True, track_running_stats=True)\n",
      "            (act_a): ReLU()\n",
      "            (conv_b): Conv3d(522, 522, kernel_size=(3, 3, 3), stride=(1, 1, 1), padding=(1, 1, 1), groups=522, bias=False)\n",
      "            (norm_b): Sequential(\n",
      "              (0): BatchNorm3d(522, eps=1e-05, momentum=0.1, affine=True, track_running_stats=True)\n",
      "              (1): Identity()\n",
      "            )\n",
      "            (act_b): Swish()\n",
      "            (conv_c): Conv3d(522, 232, kernel_size=(1, 1, 1), stride=(1, 1, 1), bias=False)\n",
      "            (norm_c): BatchNorm3d(232, eps=1e-05, momentum=0.1, affine=True, track_running_stats=True)\n",
      "          )\n",
      "          (activation): ReLU()\n",
      "        )\n",
      "        (2): ResBlock(\n",
      "          (branch2): BottleneckBlock(\n",
      "            (conv_a): Conv3d(232, 522, kernel_size=(1, 1, 1), stride=(1, 1, 1), bias=False)\n",
      "            (norm_a): BatchNorm3d(522, eps=1e-05, momentum=0.1, affine=True, track_running_stats=True)\n",
      "            (act_a): ReLU()\n",
      "            (conv_b): Conv3d(522, 522, kernel_size=(3, 3, 3), stride=(1, 1, 1), padding=(1, 1, 1), groups=522, bias=False)\n",
      "            (norm_b): Sequential(\n",
      "              (0): BatchNorm3d(522, eps=1e-05, momentum=0.1, affine=True, track_running_stats=True)\n",
      "              (1): SqueezeExcitation(\n",
      "                (block): Sequential(\n",
      "                  (0): Conv3d(522, 32, kernel_size=(1, 1, 1), stride=(1, 1, 1))\n",
      "                  (1): ReLU()\n",
      "                  (2): Conv3d(32, 522, kernel_size=(1, 1, 1), stride=(1, 1, 1))\n",
      "                  (3): Sigmoid()\n",
      "                )\n",
      "              )\n",
      "            )\n",
      "            (act_b): Swish()\n",
      "            (conv_c): Conv3d(522, 232, kernel_size=(1, 1, 1), stride=(1, 1, 1), bias=False)\n",
      "            (norm_c): BatchNorm3d(232, eps=1e-05, momentum=0.1, affine=True, track_running_stats=True)\n",
      "          )\n",
      "          (activation): ReLU()\n",
      "        )\n",
      "        (3): ResBlock(\n",
      "          (branch2): BottleneckBlock(\n",
      "            (conv_a): Conv3d(232, 522, kernel_size=(1, 1, 1), stride=(1, 1, 1), bias=False)\n",
      "            (norm_a): BatchNorm3d(522, eps=1e-05, momentum=0.1, affine=True, track_running_stats=True)\n",
      "            (act_a): ReLU()\n",
      "            (conv_b): Conv3d(522, 522, kernel_size=(3, 3, 3), stride=(1, 1, 1), padding=(1, 1, 1), groups=522, bias=False)\n",
      "            (norm_b): Sequential(\n",
      "              (0): BatchNorm3d(522, eps=1e-05, momentum=0.1, affine=True, track_running_stats=True)\n",
      "              (1): Identity()\n",
      "            )\n",
      "            (act_b): Swish()\n",
      "            (conv_c): Conv3d(522, 232, kernel_size=(1, 1, 1), stride=(1, 1, 1), bias=False)\n",
      "            (norm_c): BatchNorm3d(232, eps=1e-05, momentum=0.1, affine=True, track_running_stats=True)\n",
      "          )\n",
      "          (activation): ReLU()\n",
      "        )\n",
      "        (4): ResBlock(\n",
      "          (branch2): BottleneckBlock(\n",
      "            (conv_a): Conv3d(232, 522, kernel_size=(1, 1, 1), stride=(1, 1, 1), bias=False)\n",
      "            (norm_a): BatchNorm3d(522, eps=1e-05, momentum=0.1, affine=True, track_running_stats=True)\n",
      "            (act_a): ReLU()\n",
      "            (conv_b): Conv3d(522, 522, kernel_size=(3, 3, 3), stride=(1, 1, 1), padding=(1, 1, 1), groups=522, bias=False)\n",
      "            (norm_b): Sequential(\n",
      "              (0): BatchNorm3d(522, eps=1e-05, momentum=0.1, affine=True, track_running_stats=True)\n",
      "              (1): SqueezeExcitation(\n",
      "                (block): Sequential(\n",
      "                  (0): Conv3d(522, 32, kernel_size=(1, 1, 1), stride=(1, 1, 1))\n",
      "                  (1): ReLU()\n",
      "                  (2): Conv3d(32, 522, kernel_size=(1, 1, 1), stride=(1, 1, 1))\n",
      "                  (3): Sigmoid()\n",
      "                )\n",
      "              )\n",
      "            )\n",
      "            (act_b): Swish()\n",
      "            (conv_c): Conv3d(522, 232, kernel_size=(1, 1, 1), stride=(1, 1, 1), bias=False)\n",
      "            (norm_c): BatchNorm3d(232, eps=1e-05, momentum=0.1, affine=True, track_running_stats=True)\n",
      "          )\n",
      "          (activation): ReLU()\n",
      "        )\n",
      "        (5): ResBlock(\n",
      "          (branch2): BottleneckBlock(\n",
      "            (conv_a): Conv3d(232, 522, kernel_size=(1, 1, 1), stride=(1, 1, 1), bias=False)\n",
      "            (norm_a): BatchNorm3d(522, eps=1e-05, momentum=0.1, affine=True, track_running_stats=True)\n",
      "            (act_a): ReLU()\n",
      "            (conv_b): Conv3d(522, 522, kernel_size=(3, 3, 3), stride=(1, 1, 1), padding=(1, 1, 1), groups=522, bias=False)\n",
      "            (norm_b): Sequential(\n",
      "              (0): BatchNorm3d(522, eps=1e-05, momentum=0.1, affine=True, track_running_stats=True)\n",
      "              (1): Identity()\n",
      "            )\n",
      "            (act_b): Swish()\n",
      "            (conv_c): Conv3d(522, 232, kernel_size=(1, 1, 1), stride=(1, 1, 1), bias=False)\n",
      "            (norm_c): BatchNorm3d(232, eps=1e-05, momentum=0.1, affine=True, track_running_stats=True)\n",
      "          )\n",
      "          (activation): ReLU()\n",
      "        )\n",
      "        (6): ResBlock(\n",
      "          (branch2): BottleneckBlock(\n",
      "            (conv_a): Conv3d(232, 522, kernel_size=(1, 1, 1), stride=(1, 1, 1), bias=False)\n",
      "            (norm_a): BatchNorm3d(522, eps=1e-05, momentum=0.1, affine=True, track_running_stats=True)\n",
      "            (act_a): ReLU()\n",
      "            (conv_b): Conv3d(522, 522, kernel_size=(3, 3, 3), stride=(1, 1, 1), padding=(1, 1, 1), groups=522, bias=False)\n",
      "            (norm_b): Sequential(\n",
      "              (0): BatchNorm3d(522, eps=1e-05, momentum=0.1, affine=True, track_running_stats=True)\n",
      "              (1): SqueezeExcitation(\n",
      "                (block): Sequential(\n",
      "                  (0): Conv3d(522, 32, kernel_size=(1, 1, 1), stride=(1, 1, 1))\n",
      "                  (1): ReLU()\n",
      "                  (2): Conv3d(32, 522, kernel_size=(1, 1, 1), stride=(1, 1, 1))\n",
      "                  (3): Sigmoid()\n",
      "                )\n",
      "              )\n",
      "            )\n",
      "            (act_b): Swish()\n",
      "            (conv_c): Conv3d(522, 232, kernel_size=(1, 1, 1), stride=(1, 1, 1), bias=False)\n",
      "            (norm_c): BatchNorm3d(232, eps=1e-05, momentum=0.1, affine=True, track_running_stats=True)\n",
      "          )\n",
      "          (activation): ReLU()\n",
      "        )\n",
      "      )\n",
      "    )\n",
      "    (5): ResNetBasicHead(\n",
      "      (pool): ProjectedPool(\n",
      "        (pre_conv): Conv3d(232, 522, kernel_size=(1, 1, 1), stride=(1, 1, 1), bias=False)\n",
      "        (pre_norm): BatchNorm3d(522, eps=1e-05, momentum=0.1, affine=True, track_running_stats=True)\n",
      "        (pre_act): ReLU()\n",
      "        (pool): AvgPool3d(kernel_size=(13, 7, 7), stride=1, padding=0)\n",
      "        (post_conv): Conv3d(522, 2048, kernel_size=(1, 1, 1), stride=(1, 1, 1), bias=False)\n",
      "        (post_act): ReLU()\n",
      "      )\n",
      "      (dropout): Dropout(p=0.5, inplace=False)\n",
      "      (proj): Linear(in_features=2048, out_features=5, bias=True)\n",
      "      (output_pool): AdaptiveAvgPool3d(output_size=1)\n",
      "    )\n",
      "  )\n",
      ")\n"
     ]
    }
   ],
   "source": [
    "print(make_kinetics_x3d()) # Review the structure of the model"
   ]
  },
  {
   "cell_type": "code",
   "execution_count": 22,
   "metadata": {},
   "outputs": [],
   "source": [
    "class VideoClassificationLightningModule(pytorch_lightning.LightningModule):\n",
    "    def __init__(self):\n",
    "        super().__init__()\n",
    "        self.model = make_kinetics_x3d()\n",
    "        self.mca = torchmetrics.Accuracy(task='multiclass', num_classes=len(categories))\n",
    "        \n",
    "        self.test_preds = []\n",
    "        self.test_targets = []\n",
    "\n",
    "    def forward(self, x):\n",
    "        return self.model(x)\n",
    "    \n",
    "    def on_train_epoch_start(self):\n",
    "        epoch = self.trainer.current_epoch\n",
    "\n",
    "    def training_step(self, batch, batch_idx):\n",
    "        y_hat = self.model(batch[\"video\"])\n",
    "        loss = torch.nn.functional.cross_entropy(y_hat, batch[\"label\"])\n",
    "        acc = self.mca(torch.nn.functional.softmax(y_hat, dim=-1), batch[\"label\"])\n",
    "        self.log(\"train_loss\", loss.item())\n",
    "        self.log(\"train_acc\", acc, on_step=True, on_epoch=True, prog_bar=True, sync_dist=True)\n",
    "        return loss\n",
    "\n",
    "    def validation_step(self, batch, batch_idx):\n",
    "        y_hat = self.model(batch[\"video\"])\n",
    "        loss = torch.nn.functional.cross_entropy(y_hat, batch[\"label\"])\n",
    "        acc = self.mca(torch.nn.functional.softmax(y_hat, dim=-1), batch[\"label\"])\n",
    "        self.log(\"val_loss\", loss)\n",
    "        self.log(\"val_acc\", acc, on_step=True, on_epoch=True, prog_bar=True, sync_dist=True)\n",
    "        return loss\n",
    "\n",
    "    def test_step(self, batch, batch_idx):\n",
    "        y_hat = self.model(batch[\"video\"])\n",
    "        loss = torch.nn.functional.cross_entropy(y_hat, batch[\"label\"])\n",
    "        acc = self.mca(torch.nn.functional.softmax(y_hat, dim=-1), batch[\"label\"])\n",
    "        \n",
    "        preds = torch.argmax(y_hat, dim=1)\n",
    "        self.test_preds.append(preds.detach())\n",
    "        self.test_targets.append(batch[\"label\"].detach())\n",
    "        self.log(\"test_loss\", loss)\n",
    "        self.log(\n",
    "            \"test_acc\", acc, on_step=True, on_epoch=True, prog_bar=True, sync_dist=True\n",
    "        )\n",
    "        return loss\n",
    "\n",
    "    def on_test_epoch_end(self):\n",
    "        all_preds = torch.cat(self.test_preds).cpu().numpy()\n",
    "        all_targets = torch.cat(self.test_targets).cpu().numpy()\n",
    "\n",
    "        report = classification_report(all_targets, all_preds, target_names=categories)\n",
    "        print(\"Classification Report:\\n\", report) # Add a classification Report\n",
    "\n",
    "    def configure_optimizers(self):\n",
    "        optimizer = torch.optim.AdamW(self.parameters(),\n",
    "                                      lr=1e-3,\n",
    "                                      #weight_decay=1e-4\n",
    "                                    )\n",
    "        scheduler = torch.optim.lr_scheduler.CosineAnnealingLR(optimizer, T_max=60, eta_min=1e-6, last_epoch=-1)\n",
    "        return [optimizer], [scheduler]\n"
   ]
  },
  {
   "cell_type": "code",
   "execution_count": 23,
   "metadata": {},
   "outputs": [],
   "source": [
    "import pytorch_lightning.callbacks\n",
    "\n",
    "checkpoints_callback = pytorch_lightning.callbacks.ModelCheckpoint(\n",
    "    monitor='val_loss',\n",
    "    dirpath='checkpoints',\n",
    "    filename='model',\n",
    "    mode='min',\n",
    "    save_last=True)\n",
    "\n",
    "lr_monitor = pytorch_lightning.callbacks.LearningRateMonitor(logging_interval='epoch')"
   ]
  },
  {
   "cell_type": "code",
   "execution_count": 24,
   "metadata": {},
   "outputs": [
    {
     "name": "stderr",
     "output_type": "stream",
     "text": [
      "Seed set to 0\n",
      "Using 16bit Automatic Mixed Precision (AMP)\n",
      "GPU available: True (cuda), used: True\n",
      "TPU available: False, using: 0 TPU cores\n",
      "HPU available: False, using: 0 HPUs\n"
     ]
    }
   ],
   "source": [
    "classification_module = VideoClassificationLightningModule()\n",
    "\n",
    "pytorch_lightning.seed_everything(0)\n",
    "\n",
    "data_module = KineticsDataModule()\n",
    "trainer = pytorch_lightning.Trainer(\n",
    "    max_epochs=epoch,\n",
    "    accelerator='gpu',\n",
    "    devices=-1,\n",
    "    accumulate_grad_batches=3,\n",
    "    enable_model_summary=True,\n",
    "    #enable_progress_bar=True,\n",
    "    num_sanity_val_steps=0,\n",
    "    gradient_clip_val=2.0,\n",
    "    precision='16-mixed',\n",
    "    callbacks=[lr_monitor, checkpoints_callback],\n",
    ") "
   ]
  },
  {
   "cell_type": "code",
   "execution_count": 25,
   "metadata": {},
   "outputs": [
    {
     "name": "stderr",
     "output_type": "stream",
     "text": [
      "You are using a CUDA device ('NVIDIA GeForce RTX 3070') that has Tensor Cores. To properly utilize them, you should set `torch.set_float32_matmul_precision('medium' | 'high')` which will trade-off precision for performance. For more details, read https://pytorch.org/docs/stable/generated/torch.set_float32_matmul_precision.html#torch.set_float32_matmul_precision\n",
      "LOCAL_RANK: 0 - CUDA_VISIBLE_DEVICES: [0]\n",
      "\n",
      "  | Name  | Type               | Params | Mode \n",
      "-----------------------------------------------------\n",
      "0 | model | Net                | 4.0 M  | train\n",
      "1 | mca   | MulticlassAccuracy | 0      | train\n",
      "-----------------------------------------------------\n",
      "4.0 M     Trainable params\n",
      "0         Non-trainable params\n",
      "4.0 M     Total params\n",
      "15.944    Total estimated model params size (MB)\n",
      "448       Modules in train mode\n",
      "0         Modules in eval mode\n"
     ]
    },
    {
     "data": {
      "application/vnd.jupyter.widget-view+json": {
       "model_id": "5ac7c6a46f974c9fac23d4b1caceb67d",
       "version_major": 2,
       "version_minor": 0
      },
      "text/plain": [
       "Training: |          | 0/? [00:00<?, ?it/s]"
      ]
     },
     "metadata": {},
     "output_type": "display_data"
    },
    {
     "name": "stderr",
     "output_type": "stream",
     "text": [
      "/home/joker/Documents/devProjects/myenv/lib/python3.12/site-packages/pytorch_lightning/utilities/data.py:79: Trying to infer the `batch_size` from an ambiguous collection. The batch size we found is 6. To avoid any miscalculations, use `self.log(..., batch_size=batch_size)`.\n",
      "/home/joker/Documents/devProjects/myenv/lib/python3.12/site-packages/pytorch_lightning/utilities/data.py:79: Trying to infer the `batch_size` from an ambiguous collection. The batch size we found is 3. To avoid any miscalculations, use `self.log(..., batch_size=batch_size)`.\n",
      "/home/joker/Documents/devProjects/myenv/lib/python3.12/site-packages/pytorch_lightning/utilities/data.py:79: Trying to infer the `batch_size` from an ambiguous collection. The batch size we found is 2. To avoid any miscalculations, use `self.log(..., batch_size=batch_size)`.\n"
     ]
    },
    {
     "data": {
      "application/vnd.jupyter.widget-view+json": {
       "model_id": "f744e2cb2bfe4f9e91b4e4162dcd96c9",
       "version_major": 2,
       "version_minor": 0
      },
      "text/plain": [
       "Validation: |          | 0/? [00:00<?, ?it/s]"
      ]
     },
     "metadata": {},
     "output_type": "display_data"
    },
    {
     "name": "stderr",
     "output_type": "stream",
     "text": [
      "/home/joker/Documents/devProjects/myenv/lib/python3.12/site-packages/pytorch_lightning/utilities/data.py:79: Trying to infer the `batch_size` from an ambiguous collection. The batch size we found is 4. To avoid any miscalculations, use `self.log(..., batch_size=batch_size)`.\n",
      "/home/joker/Documents/devProjects/myenv/lib/python3.12/site-packages/pytorch_lightning/utilities/data.py:79: Trying to infer the `batch_size` from an ambiguous collection. The batch size we found is 5. To avoid any miscalculations, use `self.log(..., batch_size=batch_size)`.\n"
     ]
    },
    {
     "data": {
      "application/vnd.jupyter.widget-view+json": {
       "model_id": "4cd51589ff704e719f0f7bc0c5f3a2c0",
       "version_major": 2,
       "version_minor": 0
      },
      "text/plain": [
       "Validation: |          | 0/? [00:00<?, ?it/s]"
      ]
     },
     "metadata": {},
     "output_type": "display_data"
    },
    {
     "data": {
      "application/vnd.jupyter.widget-view+json": {
       "model_id": "e02767bc7f1b4062aa1ed058b697308f",
       "version_major": 2,
       "version_minor": 0
      },
      "text/plain": [
       "Validation: |          | 0/? [00:00<?, ?it/s]"
      ]
     },
     "metadata": {},
     "output_type": "display_data"
    },
    {
     "name": "stderr",
     "output_type": "stream",
     "text": [
      "/home/joker/Documents/devProjects/myenv/lib/python3.12/site-packages/pytorch_lightning/utilities/data.py:79: Trying to infer the `batch_size` from an ambiguous collection. The batch size we found is 1. To avoid any miscalculations, use `self.log(..., batch_size=batch_size)`.\n"
     ]
    },
    {
     "data": {
      "application/vnd.jupyter.widget-view+json": {
       "model_id": "c6f5b00df2e540a7bf0f98e0a7817a1c",
       "version_major": 2,
       "version_minor": 0
      },
      "text/plain": [
       "Validation: |          | 0/? [00:00<?, ?it/s]"
      ]
     },
     "metadata": {},
     "output_type": "display_data"
    },
    {
     "data": {
      "application/vnd.jupyter.widget-view+json": {
       "model_id": "2674a290cdad4ff5810b01f230baa108",
       "version_major": 2,
       "version_minor": 0
      },
      "text/plain": [
       "Validation: |          | 0/? [00:00<?, ?it/s]"
      ]
     },
     "metadata": {},
     "output_type": "display_data"
    },
    {
     "data": {
      "application/vnd.jupyter.widget-view+json": {
       "model_id": "f350e0910f434c1b9f50f0e0535ead9d",
       "version_major": 2,
       "version_minor": 0
      },
      "text/plain": [
       "Validation: |          | 0/? [00:00<?, ?it/s]"
      ]
     },
     "metadata": {},
     "output_type": "display_data"
    },
    {
     "data": {
      "application/vnd.jupyter.widget-view+json": {
       "model_id": "749c894dd5ff46cbada01d380d37d518",
       "version_major": 2,
       "version_minor": 0
      },
      "text/plain": [
       "Validation: |          | 0/? [00:00<?, ?it/s]"
      ]
     },
     "metadata": {},
     "output_type": "display_data"
    },
    {
     "data": {
      "application/vnd.jupyter.widget-view+json": {
       "model_id": "e341bf9546cd4ad9b8ff06a7bab9c968",
       "version_major": 2,
       "version_minor": 0
      },
      "text/plain": [
       "Validation: |          | 0/? [00:00<?, ?it/s]"
      ]
     },
     "metadata": {},
     "output_type": "display_data"
    },
    {
     "data": {
      "application/vnd.jupyter.widget-view+json": {
       "model_id": "85c83eb6e1dc46e6b54a2514d151bee5",
       "version_major": 2,
       "version_minor": 0
      },
      "text/plain": [
       "Validation: |          | 0/? [00:00<?, ?it/s]"
      ]
     },
     "metadata": {},
     "output_type": "display_data"
    },
    {
     "data": {
      "application/vnd.jupyter.widget-view+json": {
       "model_id": "247b5f27bd604ac3a0debf5f8bb9d364",
       "version_major": 2,
       "version_minor": 0
      },
      "text/plain": [
       "Validation: |          | 0/? [00:00<?, ?it/s]"
      ]
     },
     "metadata": {},
     "output_type": "display_data"
    },
    {
     "data": {
      "application/vnd.jupyter.widget-view+json": {
       "model_id": "8a312d0173384b83927661dd6eb4e41d",
       "version_major": 2,
       "version_minor": 0
      },
      "text/plain": [
       "Validation: |          | 0/? [00:00<?, ?it/s]"
      ]
     },
     "metadata": {},
     "output_type": "display_data"
    },
    {
     "data": {
      "application/vnd.jupyter.widget-view+json": {
       "model_id": "87583a87282847cfb84bdeafee9ad714",
       "version_major": 2,
       "version_minor": 0
      },
      "text/plain": [
       "Validation: |          | 0/? [00:00<?, ?it/s]"
      ]
     },
     "metadata": {},
     "output_type": "display_data"
    },
    {
     "data": {
      "application/vnd.jupyter.widget-view+json": {
       "model_id": "ff66ec958df54794943a42d086280560",
       "version_major": 2,
       "version_minor": 0
      },
      "text/plain": [
       "Validation: |          | 0/? [00:00<?, ?it/s]"
      ]
     },
     "metadata": {},
     "output_type": "display_data"
    },
    {
     "data": {
      "application/vnd.jupyter.widget-view+json": {
       "model_id": "4f51d20a97d3480d93731e9f58928e2f",
       "version_major": 2,
       "version_minor": 0
      },
      "text/plain": [
       "Validation: |          | 0/? [00:00<?, ?it/s]"
      ]
     },
     "metadata": {},
     "output_type": "display_data"
    },
    {
     "data": {
      "application/vnd.jupyter.widget-view+json": {
       "model_id": "68bbee8557074cf2a0340987ecf5f4db",
       "version_major": 2,
       "version_minor": 0
      },
      "text/plain": [
       "Validation: |          | 0/? [00:00<?, ?it/s]"
      ]
     },
     "metadata": {},
     "output_type": "display_data"
    },
    {
     "data": {
      "application/vnd.jupyter.widget-view+json": {
       "model_id": "24b7b60df29d4964a1b7bdea70be8008",
       "version_major": 2,
       "version_minor": 0
      },
      "text/plain": [
       "Validation: |          | 0/? [00:00<?, ?it/s]"
      ]
     },
     "metadata": {},
     "output_type": "display_data"
    },
    {
     "data": {
      "application/vnd.jupyter.widget-view+json": {
       "model_id": "3ef2738a4dfc473e825b78e8b8694ade",
       "version_major": 2,
       "version_minor": 0
      },
      "text/plain": [
       "Validation: |          | 0/? [00:00<?, ?it/s]"
      ]
     },
     "metadata": {},
     "output_type": "display_data"
    },
    {
     "data": {
      "application/vnd.jupyter.widget-view+json": {
       "model_id": "50c3192a7f5b4cc09b097529e74b5338",
       "version_major": 2,
       "version_minor": 0
      },
      "text/plain": [
       "Validation: |          | 0/? [00:00<?, ?it/s]"
      ]
     },
     "metadata": {},
     "output_type": "display_data"
    },
    {
     "data": {
      "application/vnd.jupyter.widget-view+json": {
       "model_id": "4f0eaf94b7294236ba7c24456bfdddb9",
       "version_major": 2,
       "version_minor": 0
      },
      "text/plain": [
       "Validation: |          | 0/? [00:00<?, ?it/s]"
      ]
     },
     "metadata": {},
     "output_type": "display_data"
    },
    {
     "data": {
      "application/vnd.jupyter.widget-view+json": {
       "model_id": "64b2b68a5aa8421f94420e4d66bd0e50",
       "version_major": 2,
       "version_minor": 0
      },
      "text/plain": [
       "Validation: |          | 0/? [00:00<?, ?it/s]"
      ]
     },
     "metadata": {},
     "output_type": "display_data"
    },
    {
     "data": {
      "application/vnd.jupyter.widget-view+json": {
       "model_id": "1a5a77ae49f84a12aca6e1c05b84f904",
       "version_major": 2,
       "version_minor": 0
      },
      "text/plain": [
       "Validation: |          | 0/? [00:00<?, ?it/s]"
      ]
     },
     "metadata": {},
     "output_type": "display_data"
    },
    {
     "data": {
      "application/vnd.jupyter.widget-view+json": {
       "model_id": "78d96b93f5a944998556886a892217ba",
       "version_major": 2,
       "version_minor": 0
      },
      "text/plain": [
       "Validation: |          | 0/? [00:00<?, ?it/s]"
      ]
     },
     "metadata": {},
     "output_type": "display_data"
    },
    {
     "data": {
      "application/vnd.jupyter.widget-view+json": {
       "model_id": "9b69729af591451282fef50b7edd4414",
       "version_major": 2,
       "version_minor": 0
      },
      "text/plain": [
       "Validation: |          | 0/? [00:00<?, ?it/s]"
      ]
     },
     "metadata": {},
     "output_type": "display_data"
    },
    {
     "data": {
      "application/vnd.jupyter.widget-view+json": {
       "model_id": "ea2450c20aa149f6a5c3d620912650f4",
       "version_major": 2,
       "version_minor": 0
      },
      "text/plain": [
       "Validation: |          | 0/? [00:00<?, ?it/s]"
      ]
     },
     "metadata": {},
     "output_type": "display_data"
    },
    {
     "data": {
      "application/vnd.jupyter.widget-view+json": {
       "model_id": "1cfd426997ab4698948e6e7ed1e48d6b",
       "version_major": 2,
       "version_minor": 0
      },
      "text/plain": [
       "Validation: |          | 0/? [00:00<?, ?it/s]"
      ]
     },
     "metadata": {},
     "output_type": "display_data"
    },
    {
     "data": {
      "application/vnd.jupyter.widget-view+json": {
       "model_id": "528a5d1f310f44838286b647ae40c5fe",
       "version_major": 2,
       "version_minor": 0
      },
      "text/plain": [
       "Validation: |          | 0/? [00:00<?, ?it/s]"
      ]
     },
     "metadata": {},
     "output_type": "display_data"
    },
    {
     "data": {
      "application/vnd.jupyter.widget-view+json": {
       "model_id": "b1727192d8b84a528c85c9b0de7ac584",
       "version_major": 2,
       "version_minor": 0
      },
      "text/plain": [
       "Validation: |          | 0/? [00:00<?, ?it/s]"
      ]
     },
     "metadata": {},
     "output_type": "display_data"
    },
    {
     "data": {
      "application/vnd.jupyter.widget-view+json": {
       "model_id": "dc693d6d34f34b9e888885fad80eeec4",
       "version_major": 2,
       "version_minor": 0
      },
      "text/plain": [
       "Validation: |          | 0/? [00:00<?, ?it/s]"
      ]
     },
     "metadata": {},
     "output_type": "display_data"
    },
    {
     "data": {
      "application/vnd.jupyter.widget-view+json": {
       "model_id": "bef7a6f643b542b3aa306dc60d956b86",
       "version_major": 2,
       "version_minor": 0
      },
      "text/plain": [
       "Validation: |          | 0/? [00:00<?, ?it/s]"
      ]
     },
     "metadata": {},
     "output_type": "display_data"
    },
    {
     "data": {
      "application/vnd.jupyter.widget-view+json": {
       "model_id": "a9c8c8f756ed4606b17babfc12a07577",
       "version_major": 2,
       "version_minor": 0
      },
      "text/plain": [
       "Validation: |          | 0/? [00:00<?, ?it/s]"
      ]
     },
     "metadata": {},
     "output_type": "display_data"
    },
    {
     "data": {
      "application/vnd.jupyter.widget-view+json": {
       "model_id": "665f3a5879b845299a2beb257b886098",
       "version_major": 2,
       "version_minor": 0
      },
      "text/plain": [
       "Validation: |          | 0/? [00:00<?, ?it/s]"
      ]
     },
     "metadata": {},
     "output_type": "display_data"
    },
    {
     "data": {
      "application/vnd.jupyter.widget-view+json": {
       "model_id": "b6ccec268c524d49b10ea7d1bb68e215",
       "version_major": 2,
       "version_minor": 0
      },
      "text/plain": [
       "Validation: |          | 0/? [00:00<?, ?it/s]"
      ]
     },
     "metadata": {},
     "output_type": "display_data"
    },
    {
     "data": {
      "application/vnd.jupyter.widget-view+json": {
       "model_id": "58b323b727284307ac917bd07203926f",
       "version_major": 2,
       "version_minor": 0
      },
      "text/plain": [
       "Validation: |          | 0/? [00:00<?, ?it/s]"
      ]
     },
     "metadata": {},
     "output_type": "display_data"
    },
    {
     "data": {
      "application/vnd.jupyter.widget-view+json": {
       "model_id": "a623242c34e042a5b4e7ca4c4c50d811",
       "version_major": 2,
       "version_minor": 0
      },
      "text/plain": [
       "Validation: |          | 0/? [00:00<?, ?it/s]"
      ]
     },
     "metadata": {},
     "output_type": "display_data"
    },
    {
     "data": {
      "application/vnd.jupyter.widget-view+json": {
       "model_id": "14cc42aeb7d245e0a5703286bd436420",
       "version_major": 2,
       "version_minor": 0
      },
      "text/plain": [
       "Validation: |          | 0/? [00:00<?, ?it/s]"
      ]
     },
     "metadata": {},
     "output_type": "display_data"
    },
    {
     "data": {
      "application/vnd.jupyter.widget-view+json": {
       "model_id": "5da91a7acfd1498595b761ba17df721b",
       "version_major": 2,
       "version_minor": 0
      },
      "text/plain": [
       "Validation: |          | 0/? [00:00<?, ?it/s]"
      ]
     },
     "metadata": {},
     "output_type": "display_data"
    },
    {
     "data": {
      "application/vnd.jupyter.widget-view+json": {
       "model_id": "e3c796e54a8a404a86910504b5d8bc28",
       "version_major": 2,
       "version_minor": 0
      },
      "text/plain": [
       "Validation: |          | 0/? [00:00<?, ?it/s]"
      ]
     },
     "metadata": {},
     "output_type": "display_data"
    },
    {
     "data": {
      "application/vnd.jupyter.widget-view+json": {
       "model_id": "be234267b36242cfae74830ae9e60c3e",
       "version_major": 2,
       "version_minor": 0
      },
      "text/plain": [
       "Validation: |          | 0/? [00:00<?, ?it/s]"
      ]
     },
     "metadata": {},
     "output_type": "display_data"
    },
    {
     "data": {
      "application/vnd.jupyter.widget-view+json": {
       "model_id": "c250d024450344768bc70c154836b942",
       "version_major": 2,
       "version_minor": 0
      },
      "text/plain": [
       "Validation: |          | 0/? [00:00<?, ?it/s]"
      ]
     },
     "metadata": {},
     "output_type": "display_data"
    },
    {
     "data": {
      "application/vnd.jupyter.widget-view+json": {
       "model_id": "24bb127bb0dc4f6dbd2bbaf22ef10a3a",
       "version_major": 2,
       "version_minor": 0
      },
      "text/plain": [
       "Validation: |          | 0/? [00:00<?, ?it/s]"
      ]
     },
     "metadata": {},
     "output_type": "display_data"
    },
    {
     "data": {
      "application/vnd.jupyter.widget-view+json": {
       "model_id": "b68fed038ba8429b9f7814f7801dc33b",
       "version_major": 2,
       "version_minor": 0
      },
      "text/plain": [
       "Validation: |          | 0/? [00:00<?, ?it/s]"
      ]
     },
     "metadata": {},
     "output_type": "display_data"
    },
    {
     "data": {
      "application/vnd.jupyter.widget-view+json": {
       "model_id": "2409eb590fb5441ca4cb67cd016a4cca",
       "version_major": 2,
       "version_minor": 0
      },
      "text/plain": [
       "Validation: |          | 0/? [00:00<?, ?it/s]"
      ]
     },
     "metadata": {},
     "output_type": "display_data"
    },
    {
     "data": {
      "application/vnd.jupyter.widget-view+json": {
       "model_id": "f13e7cd2d9364a76b4e550e0b4df76d5",
       "version_major": 2,
       "version_minor": 0
      },
      "text/plain": [
       "Validation: |          | 0/? [00:00<?, ?it/s]"
      ]
     },
     "metadata": {},
     "output_type": "display_data"
    },
    {
     "data": {
      "application/vnd.jupyter.widget-view+json": {
       "model_id": "13d20f9922ef4f5390e3157d62ecc9ae",
       "version_major": 2,
       "version_minor": 0
      },
      "text/plain": [
       "Validation: |          | 0/? [00:00<?, ?it/s]"
      ]
     },
     "metadata": {},
     "output_type": "display_data"
    },
    {
     "data": {
      "application/vnd.jupyter.widget-view+json": {
       "model_id": "317df65c40664605a2d675df13ea80b3",
       "version_major": 2,
       "version_minor": 0
      },
      "text/plain": [
       "Validation: |          | 0/? [00:00<?, ?it/s]"
      ]
     },
     "metadata": {},
     "output_type": "display_data"
    },
    {
     "data": {
      "application/vnd.jupyter.widget-view+json": {
       "model_id": "858536a475714779b226dcdb1c160938",
       "version_major": 2,
       "version_minor": 0
      },
      "text/plain": [
       "Validation: |          | 0/? [00:00<?, ?it/s]"
      ]
     },
     "metadata": {},
     "output_type": "display_data"
    },
    {
     "data": {
      "application/vnd.jupyter.widget-view+json": {
       "model_id": "79f7a4485c4b4a0a9918045108bca14e",
       "version_major": 2,
       "version_minor": 0
      },
      "text/plain": [
       "Validation: |          | 0/? [00:00<?, ?it/s]"
      ]
     },
     "metadata": {},
     "output_type": "display_data"
    },
    {
     "data": {
      "application/vnd.jupyter.widget-view+json": {
       "model_id": "519a9a0f84e146e1b9c560169ae8be0e",
       "version_major": 2,
       "version_minor": 0
      },
      "text/plain": [
       "Validation: |          | 0/? [00:00<?, ?it/s]"
      ]
     },
     "metadata": {},
     "output_type": "display_data"
    },
    {
     "data": {
      "application/vnd.jupyter.widget-view+json": {
       "model_id": "757babcac9a842bebb719bb5d26b83b1",
       "version_major": 2,
       "version_minor": 0
      },
      "text/plain": [
       "Validation: |          | 0/? [00:00<?, ?it/s]"
      ]
     },
     "metadata": {},
     "output_type": "display_data"
    },
    {
     "data": {
      "application/vnd.jupyter.widget-view+json": {
       "model_id": "c403f09455c7428b9e2fe9008693a963",
       "version_major": 2,
       "version_minor": 0
      },
      "text/plain": [
       "Validation: |          | 0/? [00:00<?, ?it/s]"
      ]
     },
     "metadata": {},
     "output_type": "display_data"
    },
    {
     "data": {
      "application/vnd.jupyter.widget-view+json": {
       "model_id": "b7ece2b58eb84f0a9aac37693229d7d1",
       "version_major": 2,
       "version_minor": 0
      },
      "text/plain": [
       "Validation: |          | 0/? [00:00<?, ?it/s]"
      ]
     },
     "metadata": {},
     "output_type": "display_data"
    },
    {
     "data": {
      "application/vnd.jupyter.widget-view+json": {
       "model_id": "374a53ca38db40bdb0de83bb612ec93c",
       "version_major": 2,
       "version_minor": 0
      },
      "text/plain": [
       "Validation: |          | 0/? [00:00<?, ?it/s]"
      ]
     },
     "metadata": {},
     "output_type": "display_data"
    },
    {
     "data": {
      "application/vnd.jupyter.widget-view+json": {
       "model_id": "16dfadb0ccfb458b93e1046329f277ab",
       "version_major": 2,
       "version_minor": 0
      },
      "text/plain": [
       "Validation: |          | 0/? [00:00<?, ?it/s]"
      ]
     },
     "metadata": {},
     "output_type": "display_data"
    },
    {
     "data": {
      "application/vnd.jupyter.widget-view+json": {
       "model_id": "6f252bac13ad4604ad05800fa0af5c6f",
       "version_major": 2,
       "version_minor": 0
      },
      "text/plain": [
       "Validation: |          | 0/? [00:00<?, ?it/s]"
      ]
     },
     "metadata": {},
     "output_type": "display_data"
    },
    {
     "data": {
      "application/vnd.jupyter.widget-view+json": {
       "model_id": "eff31b992308407ab840177a62d46b51",
       "version_major": 2,
       "version_minor": 0
      },
      "text/plain": [
       "Validation: |          | 0/? [00:00<?, ?it/s]"
      ]
     },
     "metadata": {},
     "output_type": "display_data"
    },
    {
     "data": {
      "application/vnd.jupyter.widget-view+json": {
       "model_id": "d685ce5a30ed4c02aae8b28bf659e84b",
       "version_major": 2,
       "version_minor": 0
      },
      "text/plain": [
       "Validation: |          | 0/? [00:00<?, ?it/s]"
      ]
     },
     "metadata": {},
     "output_type": "display_data"
    },
    {
     "data": {
      "application/vnd.jupyter.widget-view+json": {
       "model_id": "b6b84ee06b3d41c586bd25d5fae1f901",
       "version_major": 2,
       "version_minor": 0
      },
      "text/plain": [
       "Validation: |          | 0/? [00:00<?, ?it/s]"
      ]
     },
     "metadata": {},
     "output_type": "display_data"
    },
    {
     "data": {
      "application/vnd.jupyter.widget-view+json": {
       "model_id": "5f4bf0cc133a43e8aaae75dd895104ee",
       "version_major": 2,
       "version_minor": 0
      },
      "text/plain": [
       "Validation: |          | 0/? [00:00<?, ?it/s]"
      ]
     },
     "metadata": {},
     "output_type": "display_data"
    },
    {
     "data": {
      "application/vnd.jupyter.widget-view+json": {
       "model_id": "6b44b93c590c4ea6bf6b96cd294da61d",
       "version_major": 2,
       "version_minor": 0
      },
      "text/plain": [
       "Validation: |          | 0/? [00:00<?, ?it/s]"
      ]
     },
     "metadata": {},
     "output_type": "display_data"
    },
    {
     "data": {
      "application/vnd.jupyter.widget-view+json": {
       "model_id": "e712cfe81a074d92b486775e16e4af8b",
       "version_major": 2,
       "version_minor": 0
      },
      "text/plain": [
       "Validation: |          | 0/? [00:00<?, ?it/s]"
      ]
     },
     "metadata": {},
     "output_type": "display_data"
    },
    {
     "data": {
      "application/vnd.jupyter.widget-view+json": {
       "model_id": "6106e230870e4d23b8adc380e5ed034c",
       "version_major": 2,
       "version_minor": 0
      },
      "text/plain": [
       "Validation: |          | 0/? [00:00<?, ?it/s]"
      ]
     },
     "metadata": {},
     "output_type": "display_data"
    },
    {
     "data": {
      "application/vnd.jupyter.widget-view+json": {
       "model_id": "a5dbbc18182b483d9904e8074d02df30",
       "version_major": 2,
       "version_minor": 0
      },
      "text/plain": [
       "Validation: |          | 0/? [00:00<?, ?it/s]"
      ]
     },
     "metadata": {},
     "output_type": "display_data"
    },
    {
     "data": {
      "application/vnd.jupyter.widget-view+json": {
       "model_id": "9623737be0ec42ad997c5654291c8ab5",
       "version_major": 2,
       "version_minor": 0
      },
      "text/plain": [
       "Validation: |          | 0/? [00:00<?, ?it/s]"
      ]
     },
     "metadata": {},
     "output_type": "display_data"
    },
    {
     "data": {
      "application/vnd.jupyter.widget-view+json": {
       "model_id": "4374867065be40388b861f777471d137",
       "version_major": 2,
       "version_minor": 0
      },
      "text/plain": [
       "Validation: |          | 0/? [00:00<?, ?it/s]"
      ]
     },
     "metadata": {},
     "output_type": "display_data"
    },
    {
     "data": {
      "application/vnd.jupyter.widget-view+json": {
       "model_id": "a7c50c9474e543bfbf236162540e4e58",
       "version_major": 2,
       "version_minor": 0
      },
      "text/plain": [
       "Validation: |          | 0/? [00:00<?, ?it/s]"
      ]
     },
     "metadata": {},
     "output_type": "display_data"
    },
    {
     "data": {
      "application/vnd.jupyter.widget-view+json": {
       "model_id": "e71e45f4277d4b29918c42c33e04387c",
       "version_major": 2,
       "version_minor": 0
      },
      "text/plain": [
       "Validation: |          | 0/? [00:00<?, ?it/s]"
      ]
     },
     "metadata": {},
     "output_type": "display_data"
    },
    {
     "data": {
      "application/vnd.jupyter.widget-view+json": {
       "model_id": "6eb4b8e270954c23a5e7b75a5a3f963f",
       "version_major": 2,
       "version_minor": 0
      },
      "text/plain": [
       "Validation: |          | 0/? [00:00<?, ?it/s]"
      ]
     },
     "metadata": {},
     "output_type": "display_data"
    },
    {
     "data": {
      "application/vnd.jupyter.widget-view+json": {
       "model_id": "6ea429a77ac549d18b950e676b218973",
       "version_major": 2,
       "version_minor": 0
      },
      "text/plain": [
       "Validation: |          | 0/? [00:00<?, ?it/s]"
      ]
     },
     "metadata": {},
     "output_type": "display_data"
    },
    {
     "data": {
      "application/vnd.jupyter.widget-view+json": {
       "model_id": "115acc978d6e46b6a3044a2eac8e6c4d",
       "version_major": 2,
       "version_minor": 0
      },
      "text/plain": [
       "Validation: |          | 0/? [00:00<?, ?it/s]"
      ]
     },
     "metadata": {},
     "output_type": "display_data"
    },
    {
     "data": {
      "application/vnd.jupyter.widget-view+json": {
       "model_id": "74c8873b3f564b6e81da9031cb57a268",
       "version_major": 2,
       "version_minor": 0
      },
      "text/plain": [
       "Validation: |          | 0/? [00:00<?, ?it/s]"
      ]
     },
     "metadata": {},
     "output_type": "display_data"
    },
    {
     "data": {
      "application/vnd.jupyter.widget-view+json": {
       "model_id": "5ca1277f4ef24046ae8af6d483baeecf",
       "version_major": 2,
       "version_minor": 0
      },
      "text/plain": [
       "Validation: |          | 0/? [00:00<?, ?it/s]"
      ]
     },
     "metadata": {},
     "output_type": "display_data"
    },
    {
     "data": {
      "application/vnd.jupyter.widget-view+json": {
       "model_id": "e4b16ce2816b497e8c56f1c2515f525a",
       "version_major": 2,
       "version_minor": 0
      },
      "text/plain": [
       "Validation: |          | 0/? [00:00<?, ?it/s]"
      ]
     },
     "metadata": {},
     "output_type": "display_data"
    },
    {
     "data": {
      "application/vnd.jupyter.widget-view+json": {
       "model_id": "30eb3c903cc046c28f39211576c66c4d",
       "version_major": 2,
       "version_minor": 0
      },
      "text/plain": [
       "Validation: |          | 0/? [00:00<?, ?it/s]"
      ]
     },
     "metadata": {},
     "output_type": "display_data"
    },
    {
     "data": {
      "application/vnd.jupyter.widget-view+json": {
       "model_id": "e21dcd6c453d49b4996e1e202b9eadda",
       "version_major": 2,
       "version_minor": 0
      },
      "text/plain": [
       "Validation: |          | 0/? [00:00<?, ?it/s]"
      ]
     },
     "metadata": {},
     "output_type": "display_data"
    },
    {
     "data": {
      "application/vnd.jupyter.widget-view+json": {
       "model_id": "80f3a16b22c94650bfe8c1f961f55056",
       "version_major": 2,
       "version_minor": 0
      },
      "text/plain": [
       "Validation: |          | 0/? [00:00<?, ?it/s]"
      ]
     },
     "metadata": {},
     "output_type": "display_data"
    },
    {
     "data": {
      "application/vnd.jupyter.widget-view+json": {
       "model_id": "294cef542a3349ba979f4000a6cbc204",
       "version_major": 2,
       "version_minor": 0
      },
      "text/plain": [
       "Validation: |          | 0/? [00:00<?, ?it/s]"
      ]
     },
     "metadata": {},
     "output_type": "display_data"
    },
    {
     "data": {
      "application/vnd.jupyter.widget-view+json": {
       "model_id": "4dd0354b4cef4418b731d739449a9961",
       "version_major": 2,
       "version_minor": 0
      },
      "text/plain": [
       "Validation: |          | 0/? [00:00<?, ?it/s]"
      ]
     },
     "metadata": {},
     "output_type": "display_data"
    },
    {
     "data": {
      "application/vnd.jupyter.widget-view+json": {
       "model_id": "fe15355f59f44b09a5f5380af8dfd83f",
       "version_major": 2,
       "version_minor": 0
      },
      "text/plain": [
       "Validation: |          | 0/? [00:00<?, ?it/s]"
      ]
     },
     "metadata": {},
     "output_type": "display_data"
    },
    {
     "data": {
      "application/vnd.jupyter.widget-view+json": {
       "model_id": "0819e8dc72bf45daa221e90e28a40e64",
       "version_major": 2,
       "version_minor": 0
      },
      "text/plain": [
       "Validation: |          | 0/? [00:00<?, ?it/s]"
      ]
     },
     "metadata": {},
     "output_type": "display_data"
    },
    {
     "data": {
      "application/vnd.jupyter.widget-view+json": {
       "model_id": "e2b6afe345c440819814d6f89e0988bd",
       "version_major": 2,
       "version_minor": 0
      },
      "text/plain": [
       "Validation: |          | 0/? [00:00<?, ?it/s]"
      ]
     },
     "metadata": {},
     "output_type": "display_data"
    },
    {
     "name": "stderr",
     "output_type": "stream",
     "text": [
      "`Trainer.fit` stopped: `max_epochs=80` reached.\n"
     ]
    }
   ],
   "source": [
    "trainer.fit(classification_module, data_module) # Train the model"
   ]
  },
  {
   "cell_type": "code",
   "execution_count": 26,
   "metadata": {},
   "outputs": [
    {
     "name": "stderr",
     "output_type": "stream",
     "text": [
      "Restoring states from the checkpoint path at /home/joker/Documents/devProjects/Python/checkpoints/model.ckpt\n",
      "LOCAL_RANK: 0 - CUDA_VISIBLE_DEVICES: [0]\n",
      "Loaded model weights from the checkpoint at /home/joker/Documents/devProjects/Python/checkpoints/model.ckpt\n"
     ]
    },
    {
     "data": {
      "application/vnd.jupyter.widget-view+json": {
       "model_id": "f9c11e580151451ca074d3e67feb20af",
       "version_major": 2,
       "version_minor": 0
      },
      "text/plain": [
       "Validation: |          | 0/? [00:00<?, ?it/s]"
      ]
     },
     "metadata": {},
     "output_type": "display_data"
    },
    {
     "name": "stdout",
     "output_type": "stream",
     "text": [
      "────────────────────────────────────────────────────────────────────────────────────────────────────────────────────────\n",
      "     Validate metric           DataLoader 0\n",
      "────────────────────────────────────────────────────────────────────────────────────────────────────────────────────────\n",
      "      val_acc_epoch         0.8677248954772949\n",
      "        val_loss            0.4785805642604828\n",
      "────────────────────────────────────────────────────────────────────────────────────────────────────────────────────────\n"
     ]
    },
    {
     "data": {
      "text/plain": [
       "[{'val_loss': 0.4785805642604828, 'val_acc_epoch': 0.8677248954772949}]"
      ]
     },
     "execution_count": 26,
     "metadata": {},
     "output_type": "execute_result"
    }
   ],
   "source": [
    "trainer.validate(ckpt_path=\"best\", datamodule=data_module) # try to validate the model"
   ]
  },
  {
   "cell_type": "code",
   "execution_count": 27,
   "metadata": {},
   "outputs": [
    {
     "name": "stderr",
     "output_type": "stream",
     "text": [
      "Restoring states from the checkpoint path at /home/joker/Documents/devProjects/Python/checkpoints/model.ckpt\n",
      "LOCAL_RANK: 0 - CUDA_VISIBLE_DEVICES: [0]\n",
      "Loaded model weights from the checkpoint at /home/joker/Documents/devProjects/Python/checkpoints/model.ckpt\n"
     ]
    },
    {
     "data": {
      "application/vnd.jupyter.widget-view+json": {
       "model_id": "8d0743a1f460489784441c761acd4ffa",
       "version_major": 2,
       "version_minor": 0
      },
      "text/plain": [
       "Testing: |          | 0/? [00:00<?, ?it/s]"
      ]
     },
     "metadata": {},
     "output_type": "display_data"
    },
    {
     "name": "stdout",
     "output_type": "stream",
     "text": [
      "Classification Report:\n",
      "                precision    recall  f1-score   support\n",
      "\n",
      "  BarbellCurl       0.83      0.71      0.77         7\n",
      "     Deadlift       0.77      1.00      0.87        10\n",
      "LateralRaises       1.00      0.86      0.92         7\n",
      "OverheadPress       1.00      0.75      0.86         8\n",
      "        Squat       0.80      1.00      0.89         4\n",
      "\n",
      "     accuracy                           0.86        36\n",
      "    macro avg       0.88      0.86      0.86        36\n",
      " weighted avg       0.88      0.86      0.86        36\n",
      "\n",
      "────────────────────────────────────────────────────────────────────────────────────────────────────────────────────────\n",
      "       Test metric             DataLoader 0\n",
      "────────────────────────────────────────────────────────────────────────────────────────────────────────────────────────\n",
      "     test_acc_epoch         0.8611111044883728\n",
      "        test_loss           0.38164690136909485\n",
      "────────────────────────────────────────────────────────────────────────────────────────────────────────────────────────\n"
     ]
    },
    {
     "data": {
      "text/plain": [
       "[{'test_loss': 0.38164690136909485, 'test_acc_epoch': 0.8611111044883728}]"
      ]
     },
     "execution_count": 27,
     "metadata": {},
     "output_type": "execute_result"
    }
   ],
   "source": [
    "trainer.test(ckpt_path=\"best\", datamodule=data_module) # Test the model"
   ]
  },
  {
   "cell_type": "code",
   "execution_count": 28,
   "metadata": {},
   "outputs": [],
   "source": [
    "torch.cuda.empty_cache() # Free mo naman si memory ;)"
   ]
  },
  {
   "cell_type": "markdown",
   "metadata": {},
   "source": [
    "#### Test Model on unknown data"
   ]
  },
  {
   "cell_type": "code",
   "execution_count": 29,
   "metadata": {},
   "outputs": [],
   "source": [
    "model = VideoClassificationLightningModule.load_from_checkpoint(\"./checkpoints/model.ckpt\")\n",
    "model = model.eval()\n",
    "\n",
    "device = \"cpu\" #if not torch.cuda.is_available() else \"cuda\" # Use cpu kasi anlakas ng kain sa gpu awit\n",
    "model = model.to(device)"
   ]
  },
  {
   "cell_type": "code",
   "execution_count": 30,
   "metadata": {},
   "outputs": [],
   "source": [
    "video_transform = Compose(\n",
    "            [\n",
    "            ApplyTransformToKey(\n",
    "              key=\"video\",\n",
    "              transform=Compose(\n",
    "                  [\n",
    "                    UniformTemporalSubsample(sub_clip_duration),\n",
    "                    Lambda(lambda x: x / 255.0),\n",
    "                    Normalize((0.45, 0.45, 0.45), (0.225, 0.225, 0.225)),\n",
    "                    ShortSideScale(248),\n",
    "                    CenterCrop(crop_size)\n",
    "                  ]\n",
    "                ),\n",
    "              ),\n",
    "            ]\n",
    "        )"
   ]
  },
  {
   "cell_type": "code",
   "execution_count": 31,
   "metadata": {},
   "outputs": [
    {
     "data": {
      "text/plain": [
       "{0: 'BarbellCurl',\n",
       " 1: 'Deadlift',\n",
       " 2: 'LateralRaises',\n",
       " 3: 'OverheadPress',\n",
       " 4: 'Squat'}"
      ]
     },
     "execution_count": 31,
     "metadata": {},
     "output_type": "execute_result"
    }
   ],
   "source": [
    "id_to_classnames = {}\n",
    "for i, k in enumerate(categories):\n",
    "    id_to_classnames[i] = str(k)\n",
    "\n",
    "id_to_classnames # Get the prediction labels"
   ]
  },
  {
   "cell_type": "code",
   "execution_count": 34,
   "metadata": {},
   "outputs": [],
   "source": [
    "from pytorchvideo.data.encoded_video import EncodedVideo\n",
    "\n",
    "\n",
    "#video_path = \"./test_case/Deadlift1.mp4\"\n",
    "video_path = \"./test_case/Lateral Raise Front.mov\"\n",
    "\n",
    "start_sec = 0\n",
    "end_sec = start_sec + (clip_duration*sub_clip_duration)/30\n",
    "\n",
    "test_video = EncodedVideo.from_path(video_path)\n",
    "\n",
    "video_data = test_video.get_clip(start_sec=start_sec, end_sec=end_sec)\n",
    "\n",
    "video_data = video_transform(video_data)\n",
    "\n",
    "inputs = video_data['video']\n",
    "inputs = inputs.to(device)"
   ]
  },
  {
   "cell_type": "code",
   "execution_count": 35,
   "metadata": {},
   "outputs": [
    {
     "name": "stdout",
     "output_type": "stream",
     "text": [
      "Top 3 predicted labels: LateralRaises, BarbellCurl, Squat\n"
     ]
    }
   ],
   "source": [
    "preds = model(inputs[None, ...])\n",
    "\n",
    "num = 3\n",
    "post_act = torch.nn.Softmax(dim=1)\n",
    "preds = post_act(preds)\n",
    "pred_classes = preds.topk(k=num).indices[0]\n",
    "\n",
    "predicted_class = [id_to_classnames[int(i)] for i in pred_classes]\n",
    "print(f\"Top {num} predicted labels: %s\" % \", \".join(predicted_class))"
   ]
  },
  {
   "cell_type": "markdown",
   "metadata": {},
   "source": [
    "The first index has the highest probability of prediction"
   ]
  }
 ],
 "metadata": {
  "kernelspec": {
   "display_name": "myenv",
   "language": "python",
   "name": "python3"
  },
  "language_info": {
   "codemirror_mode": {
    "name": "ipython",
    "version": 3
   },
   "file_extension": ".py",
   "mimetype": "text/x-python",
   "name": "python",
   "nbconvert_exporter": "python",
   "pygments_lexer": "ipython3",
   "version": "3.12.9"
  }
 },
 "nbformat": 4,
 "nbformat_minor": 2
}
