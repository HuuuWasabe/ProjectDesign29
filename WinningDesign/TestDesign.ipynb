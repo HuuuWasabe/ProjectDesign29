{
 "cells": [
  {
   "cell_type": "markdown",
   "metadata": {},
   "source": [
    "# X3D (eXpanded 3D) Implementation - Design Alternative 1"
   ]
  },
  {
   "cell_type": "markdown",
   "metadata": {},
   "source": [
    "`Warning:` Do not run all the code, read the notes first before running them as they may reduce your device's memory when not careful, leading to a kernel crash or Out-Of-Memory (OOM) Error, sige ka magla-lag yang pc mo"
   ]
  },
  {
   "cell_type": "markdown",
   "metadata": {},
   "source": [
    "`Note`: Isipin mo alternate universe na training toh"
   ]
  },
  {
   "cell_type": "markdown",
   "metadata": {},
   "source": [
    "**Local System Specifications used to train the model:** <br>\n",
    "| Component  | Device   |\n",
    "| :------------- | :--------------- | \n",
    "| CPU   | AMD Ryzen 5 5600x     | \n",
    "| GPU   | Nvidia GeForce RTX 3070  8GB   | \n",
    "| RAM   | 32 GB     | \n"
   ]
  },
  {
   "cell_type": "markdown",
   "metadata": {},
   "source": [
    "`Note`: This notebook's codes will come from [PytorchVideo](https://pytorchvideo.org/docs/tutorial_overview) and from this Talha Anwar's [YouTube Playlist](https://www.youtube.com/playlist?list=PLtGXgNsNHqPRAscIi6dMUuPCfDQ1Vho2U)"
   ]
  },
  {
   "cell_type": "markdown",
   "metadata": {},
   "source": [
    "#### Import Libraries"
   ]
  },
  {
   "cell_type": "code",
   "execution_count": null,
   "metadata": {},
   "outputs": [],
   "source": [
    "import sys\n",
    "sys.path.append('pytorchvideo')\n",
    "import torchvision.transforms.functional as F_t\n",
    "\n",
    "sys.modules[\"torchvision.transforms.functional_tensor\"] = F_t\n",
    "import pytorchvideo\n",
    "from pytorchvideo.data import *\n",
    "import pytorch_lightning\n",
    "import torchmetrics\n",
    "import torch\n",
    "\n",
    "import pandas as pd\n",
    "import pathlib\n",
    "import seaborn as sns\n",
    "import numpy as np\n",
    "import matplotlib.pyplot as plt"
   ]
  },
  {
   "cell_type": "code",
   "execution_count": 2,
   "metadata": {},
   "outputs": [],
   "source": [
    "pathlib.PosixPath = pathlib.WindowsPath # For windows only"
   ]
  },
  {
   "cell_type": "markdown",
   "metadata": {},
   "source": [
    "#### Prepare the dataset"
   ]
  },
  {
   "cell_type": "code",
   "execution_count": 3,
   "metadata": {},
   "outputs": [],
   "source": [
    "dataset_dir = pathlib.Path(r\"./PD_Dataset\")"
   ]
  },
  {
   "cell_type": "code",
   "execution_count": 4,
   "metadata": {},
   "outputs": [],
   "source": [
    "def renameFile():\n",
    "    for file_path in dataset_dir.rglob(\"*.avi\"):\n",
    "        # Get the parent directory name and clean it up\n",
    "        dir_name_clean = file_path.parent.name.replace(\" \", \"_\")\n",
    "        # Clean the file name by replacing spaces with underscores\n",
    "        file_clean = file_path.name.replace(\" \", \"_\")\n",
    "        \n",
    "        # Create the new file name\n",
    "        new_name = f\"{dir_name_clean}_{file_clean}\"\n",
    "        new_path = file_path.parent / new_name\n",
    "        \n",
    "        print(f\"Renaming: {file_path} -> {new_path}\")\n",
    "        file_path.rename(new_path)"
   ]
  },
  {
   "cell_type": "code",
   "execution_count": 5,
   "metadata": {},
   "outputs": [],
   "source": [
    "#renameFile() #run once..."
   ]
  },
  {
   "cell_type": "code",
   "execution_count": 6,
   "metadata": {},
   "outputs": [
    {
     "name": "stdout",
     "output_type": "stream",
     "text": [
      "[0, 0, 0, 0, 0, 0, 0, 0, 0, 0, 0, 0, 0, 0, 0, 0, 0, 0, 0, 0, 0, 0, 0, 0, 0, 0, 0, 0, 0, 0, 0, 0, 0, 0, 0, 0, 0, 0, 0, 0, 0, 0, 0, 0, 0, 0, 0, 0, 0, 0, 0, 0, 0, 0, 0, 0, 0, 0, 0, 0, 0, 0, 0, 0, 0, 0, 0, 0, 0, 0, 0, 0, 0, 0, 0, 0, 0, 0, 0, 0, 0, 0, 0, 0, 0, 0, 0, 0, 0, 0, 0, 0, 0, 0, 0, 0, 0, 0, 0, 0, 0, 0, 0, 0, 0, 0, 0, 0, 0, 0, 0, 0, 0, 0, 0, 0, 0, 0, 0, 0, 0, 0, 0, 1, 1, 1, 1, 1, 1, 1, 1, 1, 1, 1, 1, 1, 1, 1, 1, 1, 1, 1, 1, 1, 1, 1, 1, 1, 1, 1, 1, 1, 1, 1, 1, 1, 1, 1, 1, 1, 1, 1, 1, 1, 1, 1, 1, 1, 1, 1, 1, 1, 1, 1, 1, 1, 1, 1, 1, 1, 1, 1, 1, 1, 1, 1, 1, 1, 1, 1, 1, 1, 1, 1, 1, 1, 1, 1, 1, 1, 1, 1, 1, 1, 1, 1, 1, 1, 1, 1, 1, 1, 1, 1, 1, 1, 1, 1, 1, 1, 1, 1, 1, 1, 1, 1, 1, 1, 1, 1, 1, 1, 1, 1, 1, 1, 1, 1, 1, 1, 1, 1, 1, 1, 1, 1, 1, 2, 2, 2, 2, 2, 2, 2, 2, 2, 2, 2, 2, 2, 2, 2, 2, 2, 2, 2, 2, 2, 2, 2, 2, 2, 2, 2, 2, 2, 2, 2, 2, 2, 2, 2, 2, 2, 2, 2, 2, 2, 2, 2, 2, 2, 2, 2, 2, 2, 2, 2, 2, 2, 2, 2, 2, 2, 2, 2, 2, 2, 2, 2, 2, 2, 2, 2, 2, 2, 2, 2, 2, 2, 2, 2, 2, 2, 2, 2, 2, 2, 2, 2, 2, 2, 2, 2, 2, 2, 2, 2, 2, 2, 2, 2, 2, 2, 2, 2, 2, 2, 2, 2, 2, 2, 2, 2, 2, 2, 2, 2, 2, 2, 2, 2, 2, 2, 2, 2, 2, 2, 2, 2, 2, 2, 3, 3, 3, 3, 3, 3, 3, 3, 3, 3, 3, 3, 3, 3, 3, 3, 3, 3, 3, 3, 3, 3, 3, 3, 3, 3, 3, 3, 3, 3, 3, 3, 3, 3, 3, 3, 3, 3, 3, 3, 3, 3, 3, 3, 3, 3, 3, 3, 3, 3, 3, 3, 3, 3, 3, 3, 3, 3, 3, 3, 3, 3, 3, 3, 3, 3, 3, 3, 3, 3, 3, 3, 3, 3, 3, 3, 3, 3, 3, 3, 3, 3, 3, 3, 3, 3, 3, 3, 3, 3, 3, 3, 3, 3, 3, 3, 3, 3, 3, 3, 3, 3, 3, 3, 3, 3, 3, 3, 3, 3, 3, 3, 3, 3, 3, 3, 3, 3, 3, 3, 3, 3, 3, 3, 3, 3, 3, 3, 3, 3, 3, 3, 3, 3, 3, 3, 3, 3, 3, 3, 3, 3, 3, 3, 3, 3, 3, 3, 3, 3, 3, 3, 3, 3, 3, 3, 3, 4, 4, 4, 4, 4, 4, 4, 4, 4, 4, 4, 4, 4, 4, 4, 4, 4, 4, 4, 4, 4, 4, 4, 4, 4, 4, 4, 4, 4, 4, 4, 4, 4, 4, 4, 4, 4, 4, 4, 4, 4, 4, 4, 4, 4, 4, 4, 4, 4, 4, 4, 4, 4, 4, 4, 4, 4, 4, 4, 4, 4, 4, 4, 4, 4, 4, 4, 4, 4, 4, 4, 4, 4, 4, 4, 4, 4, 4, 4, 4, 4, 4, 4, 4, 4, 4, 4, 4, 4, 4, 4, 4, 4, 4, 4, 4, 4, 4, 4, 4, 4, 4, 4, 4, 4, 4, 4, 4, 4, 4, 4, 4, 4, 4, 4, 4, 4, 4, 4, 4, 4, 4, 4, 4, 4, 4, 4, 4, 4, 4, 4, 4]\n",
      "[WindowsPath('PD_Dataset/BarbellCurl/BarbellCurl_barbell_curls_(1).avi'), WindowsPath('PD_Dataset/BarbellCurl/BarbellCurl_barbell_curls_(10).avi'), WindowsPath('PD_Dataset/BarbellCurl/BarbellCurl_barbell_curls_(100).avi'), WindowsPath('PD_Dataset/BarbellCurl/BarbellCurl_barbell_curls_(101).avi'), WindowsPath('PD_Dataset/BarbellCurl/BarbellCurl_barbell_curls_(102).avi'), WindowsPath('PD_Dataset/BarbellCurl/BarbellCurl_barbell_curls_(103).avi'), WindowsPath('PD_Dataset/BarbellCurl/BarbellCurl_barbell_curls_(11).avi'), WindowsPath('PD_Dataset/BarbellCurl/BarbellCurl_barbell_curls_(12).avi'), WindowsPath('PD_Dataset/BarbellCurl/BarbellCurl_barbell_curls_(13).avi'), WindowsPath('PD_Dataset/BarbellCurl/BarbellCurl_barbell_curls_(14).avi'), WindowsPath('PD_Dataset/BarbellCurl/BarbellCurl_barbell_curls_(15).avi'), WindowsPath('PD_Dataset/BarbellCurl/BarbellCurl_barbell_curls_(16).avi'), WindowsPath('PD_Dataset/BarbellCurl/BarbellCurl_barbell_curls_(17).avi'), WindowsPath('PD_Dataset/BarbellCurl/BarbellCurl_barbell_curls_(18).avi'), WindowsPath('PD_Dataset/BarbellCurl/BarbellCurl_barbell_curls_(19).avi'), WindowsPath('PD_Dataset/BarbellCurl/BarbellCurl_barbell_curls_(2).avi'), WindowsPath('PD_Dataset/BarbellCurl/BarbellCurl_barbell_curls_(20).avi'), WindowsPath('PD_Dataset/BarbellCurl/BarbellCurl_barbell_curls_(21).avi'), WindowsPath('PD_Dataset/BarbellCurl/BarbellCurl_barbell_curls_(22).avi'), WindowsPath('PD_Dataset/BarbellCurl/BarbellCurl_barbell_curls_(23).avi'), WindowsPath('PD_Dataset/BarbellCurl/BarbellCurl_barbell_curls_(24).avi'), WindowsPath('PD_Dataset/BarbellCurl/BarbellCurl_barbell_curls_(25).avi'), WindowsPath('PD_Dataset/BarbellCurl/BarbellCurl_barbell_curls_(26).avi'), WindowsPath('PD_Dataset/BarbellCurl/BarbellCurl_barbell_curls_(27).avi'), WindowsPath('PD_Dataset/BarbellCurl/BarbellCurl_barbell_curls_(28).avi'), WindowsPath('PD_Dataset/BarbellCurl/BarbellCurl_barbell_curls_(29).avi'), WindowsPath('PD_Dataset/BarbellCurl/BarbellCurl_barbell_curls_(3).avi'), WindowsPath('PD_Dataset/BarbellCurl/BarbellCurl_barbell_curls_(30).avi'), WindowsPath('PD_Dataset/BarbellCurl/BarbellCurl_barbell_curls_(31).avi'), WindowsPath('PD_Dataset/BarbellCurl/BarbellCurl_barbell_curls_(32).avi'), WindowsPath('PD_Dataset/BarbellCurl/BarbellCurl_barbell_curls_(33).avi'), WindowsPath('PD_Dataset/BarbellCurl/BarbellCurl_barbell_curls_(34).avi'), WindowsPath('PD_Dataset/BarbellCurl/BarbellCurl_barbell_curls_(35).avi'), WindowsPath('PD_Dataset/BarbellCurl/BarbellCurl_barbell_curls_(36).avi'), WindowsPath('PD_Dataset/BarbellCurl/BarbellCurl_barbell_curls_(37).avi'), WindowsPath('PD_Dataset/BarbellCurl/BarbellCurl_barbell_curls_(38).avi'), WindowsPath('PD_Dataset/BarbellCurl/BarbellCurl_barbell_curls_(39).avi'), WindowsPath('PD_Dataset/BarbellCurl/BarbellCurl_barbell_curls_(4).avi'), WindowsPath('PD_Dataset/BarbellCurl/BarbellCurl_barbell_curls_(40).avi'), WindowsPath('PD_Dataset/BarbellCurl/BarbellCurl_barbell_curls_(41).avi'), WindowsPath('PD_Dataset/BarbellCurl/BarbellCurl_barbell_curls_(42).avi'), WindowsPath('PD_Dataset/BarbellCurl/BarbellCurl_barbell_curls_(43).avi'), WindowsPath('PD_Dataset/BarbellCurl/BarbellCurl_barbell_curls_(44).avi'), WindowsPath('PD_Dataset/BarbellCurl/BarbellCurl_barbell_curls_(45).avi'), WindowsPath('PD_Dataset/BarbellCurl/BarbellCurl_barbell_curls_(46).avi'), WindowsPath('PD_Dataset/BarbellCurl/BarbellCurl_barbell_curls_(47).avi'), WindowsPath('PD_Dataset/BarbellCurl/BarbellCurl_barbell_curls_(48).avi'), WindowsPath('PD_Dataset/BarbellCurl/BarbellCurl_barbell_curls_(49).avi'), WindowsPath('PD_Dataset/BarbellCurl/BarbellCurl_barbell_curls_(5).avi'), WindowsPath('PD_Dataset/BarbellCurl/BarbellCurl_barbell_curls_(50).avi'), WindowsPath('PD_Dataset/BarbellCurl/BarbellCurl_barbell_curls_(51).avi'), WindowsPath('PD_Dataset/BarbellCurl/BarbellCurl_barbell_curls_(52).avi'), WindowsPath('PD_Dataset/BarbellCurl/BarbellCurl_barbell_curls_(53).avi'), WindowsPath('PD_Dataset/BarbellCurl/BarbellCurl_barbell_curls_(54).avi'), WindowsPath('PD_Dataset/BarbellCurl/BarbellCurl_barbell_curls_(55).avi'), WindowsPath('PD_Dataset/BarbellCurl/BarbellCurl_barbell_curls_(56).avi'), WindowsPath('PD_Dataset/BarbellCurl/BarbellCurl_barbell_curls_(57).avi'), WindowsPath('PD_Dataset/BarbellCurl/BarbellCurl_barbell_curls_(58).avi'), WindowsPath('PD_Dataset/BarbellCurl/BarbellCurl_barbell_curls_(59).avi'), WindowsPath('PD_Dataset/BarbellCurl/BarbellCurl_barbell_curls_(6).avi'), WindowsPath('PD_Dataset/BarbellCurl/BarbellCurl_barbell_curls_(60).avi'), WindowsPath('PD_Dataset/BarbellCurl/BarbellCurl_barbell_curls_(61).avi'), WindowsPath('PD_Dataset/BarbellCurl/BarbellCurl_barbell_curls_(62).avi'), WindowsPath('PD_Dataset/BarbellCurl/BarbellCurl_barbell_curls_(63).avi'), WindowsPath('PD_Dataset/BarbellCurl/BarbellCurl_barbell_curls_(64).avi'), WindowsPath('PD_Dataset/BarbellCurl/BarbellCurl_barbell_curls_(65).avi'), WindowsPath('PD_Dataset/BarbellCurl/BarbellCurl_barbell_curls_(66).avi'), WindowsPath('PD_Dataset/BarbellCurl/BarbellCurl_barbell_curls_(67).avi'), WindowsPath('PD_Dataset/BarbellCurl/BarbellCurl_barbell_curls_(68).avi'), WindowsPath('PD_Dataset/BarbellCurl/BarbellCurl_barbell_curls_(69).avi'), WindowsPath('PD_Dataset/BarbellCurl/BarbellCurl_barbell_curls_(7).avi'), WindowsPath('PD_Dataset/BarbellCurl/BarbellCurl_barbell_curls_(70).avi'), WindowsPath('PD_Dataset/BarbellCurl/BarbellCurl_barbell_curls_(71).avi'), WindowsPath('PD_Dataset/BarbellCurl/BarbellCurl_barbell_curls_(72).avi'), WindowsPath('PD_Dataset/BarbellCurl/BarbellCurl_barbell_curls_(73).avi'), WindowsPath('PD_Dataset/BarbellCurl/BarbellCurl_barbell_curls_(74).avi'), WindowsPath('PD_Dataset/BarbellCurl/BarbellCurl_barbell_curls_(75).avi'), WindowsPath('PD_Dataset/BarbellCurl/BarbellCurl_barbell_curls_(76).avi'), WindowsPath('PD_Dataset/BarbellCurl/BarbellCurl_barbell_curls_(77).avi'), WindowsPath('PD_Dataset/BarbellCurl/BarbellCurl_barbell_curls_(78).avi'), WindowsPath('PD_Dataset/BarbellCurl/BarbellCurl_barbell_curls_(79).avi'), WindowsPath('PD_Dataset/BarbellCurl/BarbellCurl_barbell_curls_(8).avi'), WindowsPath('PD_Dataset/BarbellCurl/BarbellCurl_barbell_curls_(80).avi'), WindowsPath('PD_Dataset/BarbellCurl/BarbellCurl_barbell_curls_(81).avi'), WindowsPath('PD_Dataset/BarbellCurl/BarbellCurl_barbell_curls_(82).avi'), WindowsPath('PD_Dataset/BarbellCurl/BarbellCurl_barbell_curls_(83).avi'), WindowsPath('PD_Dataset/BarbellCurl/BarbellCurl_barbell_curls_(84).avi'), WindowsPath('PD_Dataset/BarbellCurl/BarbellCurl_barbell_curls_(85).avi'), WindowsPath('PD_Dataset/BarbellCurl/BarbellCurl_barbell_curls_(86).avi'), WindowsPath('PD_Dataset/BarbellCurl/BarbellCurl_barbell_curls_(87).avi'), WindowsPath('PD_Dataset/BarbellCurl/BarbellCurl_barbell_curls_(88).avi'), WindowsPath('PD_Dataset/BarbellCurl/BarbellCurl_barbell_curls_(89).avi'), WindowsPath('PD_Dataset/BarbellCurl/BarbellCurl_barbell_curls_(9).avi'), WindowsPath('PD_Dataset/BarbellCurl/BarbellCurl_barbell_curls_(90).avi'), WindowsPath('PD_Dataset/BarbellCurl/BarbellCurl_barbell_curls_(91).avi'), WindowsPath('PD_Dataset/BarbellCurl/BarbellCurl_barbell_curls_(92).avi'), WindowsPath('PD_Dataset/BarbellCurl/BarbellCurl_barbell_curls_(93).avi'), WindowsPath('PD_Dataset/BarbellCurl/BarbellCurl_barbell_curls_(94).avi'), WindowsPath('PD_Dataset/BarbellCurl/BarbellCurl_barbell_curls_(95).avi'), WindowsPath('PD_Dataset/BarbellCurl/BarbellCurl_barbell_curls_(96).avi'), WindowsPath('PD_Dataset/BarbellCurl/BarbellCurl_barbell_curls_(97).avi'), WindowsPath('PD_Dataset/BarbellCurl/BarbellCurl_barbell_curls_(98).avi'), WindowsPath('PD_Dataset/BarbellCurl/BarbellCurl_barbell_curls_(99).avi'), WindowsPath('PD_Dataset/BarbellCurl/BarbellCurl_[SHANA]BarbellCurls_1.avi'), WindowsPath('PD_Dataset/BarbellCurl/BarbellCurl_[SHANA]BarbellCurls_10.avi'), WindowsPath('PD_Dataset/BarbellCurl/BarbellCurl_[SHANA]BarbellCurls_11.avi'), WindowsPath('PD_Dataset/BarbellCurl/BarbellCurl_[SHANA]BarbellCurls_12.avi'), WindowsPath('PD_Dataset/BarbellCurl/BarbellCurl_[SHANA]BarbellCurls_13.avi'), WindowsPath('PD_Dataset/BarbellCurl/BarbellCurl_[SHANA]BarbellCurls_14.avi'), WindowsPath('PD_Dataset/BarbellCurl/BarbellCurl_[SHANA]BarbellCurls_15.avi'), WindowsPath('PD_Dataset/BarbellCurl/BarbellCurl_[SHANA]BarbellCurls_16.avi'), WindowsPath('PD_Dataset/BarbellCurl/BarbellCurl_[SHANA]BarbellCurls_17.avi'), WindowsPath('PD_Dataset/BarbellCurl/BarbellCurl_[SHANA]BarbellCurls_18.avi'), WindowsPath('PD_Dataset/BarbellCurl/BarbellCurl_[SHANA]BarbellCurls_2.avi'), WindowsPath('PD_Dataset/BarbellCurl/BarbellCurl_[SHANA]BarbellCurls_20.avi'), WindowsPath('PD_Dataset/BarbellCurl/BarbellCurl_[SHANA]BarbellCurls_3.avi'), WindowsPath('PD_Dataset/BarbellCurl/BarbellCurl_[SHANA]BarbellCurls_4.avi'), WindowsPath('PD_Dataset/BarbellCurl/BarbellCurl_[SHANA]BarbellCurls_5.avi'), WindowsPath('PD_Dataset/BarbellCurl/BarbellCurl_[SHANA]BarbellCurls_6.avi'), WindowsPath('PD_Dataset/BarbellCurl/BarbellCurl_[SHANA]BarbellCurls_7.avi'), WindowsPath('PD_Dataset/BarbellCurl/BarbellCurl_[SHANA]BarbellCurls_8.avi'), WindowsPath('PD_Dataset/BarbellCurl/BarbellCurl_[SHANA]BarbellCurls_9.avi'), WindowsPath('PD_Dataset/BarbellCurl/BarbellCurl_[SHANA]barbell_curls_(1).avi'), WindowsPath('PD_Dataset/Deadlift/Deadlift_deadlift_10.avi'), WindowsPath('PD_Dataset/Deadlift/Deadlift_deadlift_100.avi'), WindowsPath('PD_Dataset/Deadlift/Deadlift_deadlift_101.avi'), WindowsPath('PD_Dataset/Deadlift/Deadlift_deadlift_102.avi'), WindowsPath('PD_Dataset/Deadlift/Deadlift_deadlift_103.avi'), WindowsPath('PD_Dataset/Deadlift/Deadlift_deadlift_104.avi'), WindowsPath('PD_Dataset/Deadlift/Deadlift_deadlift_105.avi'), WindowsPath('PD_Dataset/Deadlift/Deadlift_deadlift_106.avi'), WindowsPath('PD_Dataset/Deadlift/Deadlift_deadlift_107.avi'), WindowsPath('PD_Dataset/Deadlift/Deadlift_deadlift_109.avi'), WindowsPath('PD_Dataset/Deadlift/Deadlift_deadlift_11.avi'), WindowsPath('PD_Dataset/Deadlift/Deadlift_deadlift_110.avi'), WindowsPath('PD_Dataset/Deadlift/Deadlift_deadlift_112.avi'), WindowsPath('PD_Dataset/Deadlift/Deadlift_deadlift_114.avi'), WindowsPath('PD_Dataset/Deadlift/Deadlift_deadlift_116.avi'), WindowsPath('PD_Dataset/Deadlift/Deadlift_deadlift_12.avi'), WindowsPath('PD_Dataset/Deadlift/Deadlift_deadlift_13.avi'), WindowsPath('PD_Dataset/Deadlift/Deadlift_deadlift_14.avi'), WindowsPath('PD_Dataset/Deadlift/Deadlift_deadlift_15.avi'), WindowsPath('PD_Dataset/Deadlift/Deadlift_deadlift_16.avi'), WindowsPath('PD_Dataset/Deadlift/Deadlift_deadlift_17.avi'), WindowsPath('PD_Dataset/Deadlift/Deadlift_deadlift_18.avi'), WindowsPath('PD_Dataset/Deadlift/Deadlift_deadlift_19.avi'), WindowsPath('PD_Dataset/Deadlift/Deadlift_deadlift_2.avi'), WindowsPath('PD_Dataset/Deadlift/Deadlift_deadlift_20.avi'), WindowsPath('PD_Dataset/Deadlift/Deadlift_deadlift_21.avi'), WindowsPath('PD_Dataset/Deadlift/Deadlift_deadlift_22.avi'), WindowsPath('PD_Dataset/Deadlift/Deadlift_deadlift_23.avi'), WindowsPath('PD_Dataset/Deadlift/Deadlift_deadlift_24.avi'), WindowsPath('PD_Dataset/Deadlift/Deadlift_deadlift_25.avi'), WindowsPath('PD_Dataset/Deadlift/Deadlift_deadlift_26.avi'), WindowsPath('PD_Dataset/Deadlift/Deadlift_deadlift_27.avi'), WindowsPath('PD_Dataset/Deadlift/Deadlift_deadlift_28.avi'), WindowsPath('PD_Dataset/Deadlift/Deadlift_deadlift_29.avi'), WindowsPath('PD_Dataset/Deadlift/Deadlift_deadlift_3.avi'), WindowsPath('PD_Dataset/Deadlift/Deadlift_deadlift_30.avi'), WindowsPath('PD_Dataset/Deadlift/Deadlift_deadlift_31.avi'), WindowsPath('PD_Dataset/Deadlift/Deadlift_deadlift_32.avi'), WindowsPath('PD_Dataset/Deadlift/Deadlift_deadlift_33.avi'), WindowsPath('PD_Dataset/Deadlift/Deadlift_deadlift_34.avi'), WindowsPath('PD_Dataset/Deadlift/Deadlift_deadlift_35.avi'), WindowsPath('PD_Dataset/Deadlift/Deadlift_deadlift_36.avi'), WindowsPath('PD_Dataset/Deadlift/Deadlift_deadlift_37.avi'), WindowsPath('PD_Dataset/Deadlift/Deadlift_deadlift_38.avi'), WindowsPath('PD_Dataset/Deadlift/Deadlift_deadlift_39.avi'), WindowsPath('PD_Dataset/Deadlift/Deadlift_deadlift_4.avi'), WindowsPath('PD_Dataset/Deadlift/Deadlift_deadlift_40.avi'), WindowsPath('PD_Dataset/Deadlift/Deadlift_deadlift_41.avi'), WindowsPath('PD_Dataset/Deadlift/Deadlift_deadlift_42.avi'), WindowsPath('PD_Dataset/Deadlift/Deadlift_deadlift_43.avi'), WindowsPath('PD_Dataset/Deadlift/Deadlift_deadlift_44.avi'), WindowsPath('PD_Dataset/Deadlift/Deadlift_deadlift_45.avi'), WindowsPath('PD_Dataset/Deadlift/Deadlift_deadlift_46.avi'), WindowsPath('PD_Dataset/Deadlift/Deadlift_deadlift_47.avi'), WindowsPath('PD_Dataset/Deadlift/Deadlift_deadlift_48.avi'), WindowsPath('PD_Dataset/Deadlift/Deadlift_deadlift_5.avi'), WindowsPath('PD_Dataset/Deadlift/Deadlift_deadlift_50.avi'), WindowsPath('PD_Dataset/Deadlift/Deadlift_deadlift_51.avi'), WindowsPath('PD_Dataset/Deadlift/Deadlift_deadlift_53.avi'), WindowsPath('PD_Dataset/Deadlift/Deadlift_deadlift_54.avi'), WindowsPath('PD_Dataset/Deadlift/Deadlift_deadlift_55.avi'), WindowsPath('PD_Dataset/Deadlift/Deadlift_deadlift_57.avi'), WindowsPath('PD_Dataset/Deadlift/Deadlift_deadlift_58.avi'), WindowsPath('PD_Dataset/Deadlift/Deadlift_deadlift_59.avi'), WindowsPath('PD_Dataset/Deadlift/Deadlift_deadlift_6.avi'), WindowsPath('PD_Dataset/Deadlift/Deadlift_deadlift_60.avi'), WindowsPath('PD_Dataset/Deadlift/Deadlift_deadlift_61.avi'), WindowsPath('PD_Dataset/Deadlift/Deadlift_deadlift_62.avi'), WindowsPath('PD_Dataset/Deadlift/Deadlift_deadlift_63.avi'), WindowsPath('PD_Dataset/Deadlift/Deadlift_deadlift_64.avi'), WindowsPath('PD_Dataset/Deadlift/Deadlift_deadlift_65.avi'), WindowsPath('PD_Dataset/Deadlift/Deadlift_deadlift_66.avi'), WindowsPath('PD_Dataset/Deadlift/Deadlift_deadlift_67.avi'), WindowsPath('PD_Dataset/Deadlift/Deadlift_deadlift_68.avi'), WindowsPath('PD_Dataset/Deadlift/Deadlift_deadlift_69.avi'), WindowsPath('PD_Dataset/Deadlift/Deadlift_deadlift_7.avi'), WindowsPath('PD_Dataset/Deadlift/Deadlift_deadlift_70.avi'), WindowsPath('PD_Dataset/Deadlift/Deadlift_deadlift_71.avi'), WindowsPath('PD_Dataset/Deadlift/Deadlift_deadlift_72.avi'), WindowsPath('PD_Dataset/Deadlift/Deadlift_deadlift_73.avi'), WindowsPath('PD_Dataset/Deadlift/Deadlift_deadlift_74.avi'), WindowsPath('PD_Dataset/Deadlift/Deadlift_deadlift_75.avi'), WindowsPath('PD_Dataset/Deadlift/Deadlift_deadlift_76.avi'), WindowsPath('PD_Dataset/Deadlift/Deadlift_deadlift_77.avi'), WindowsPath('PD_Dataset/Deadlift/Deadlift_deadlift_78.avi'), WindowsPath('PD_Dataset/Deadlift/Deadlift_deadlift_79.avi'), WindowsPath('PD_Dataset/Deadlift/Deadlift_deadlift_8.avi'), WindowsPath('PD_Dataset/Deadlift/Deadlift_deadlift_80.avi'), WindowsPath('PD_Dataset/Deadlift/Deadlift_deadlift_81.avi'), WindowsPath('PD_Dataset/Deadlift/Deadlift_deadlift_82.avi'), WindowsPath('PD_Dataset/Deadlift/Deadlift_deadlift_83.avi'), WindowsPath('PD_Dataset/Deadlift/Deadlift_deadlift_84.avi'), WindowsPath('PD_Dataset/Deadlift/Deadlift_deadlift_85.avi'), WindowsPath('PD_Dataset/Deadlift/Deadlift_deadlift_86.avi'), WindowsPath('PD_Dataset/Deadlift/Deadlift_deadlift_87.avi'), WindowsPath('PD_Dataset/Deadlift/Deadlift_deadlift_88.avi'), WindowsPath('PD_Dataset/Deadlift/Deadlift_deadlift_89.avi'), WindowsPath('PD_Dataset/Deadlift/Deadlift_deadlift_9.avi'), WindowsPath('PD_Dataset/Deadlift/Deadlift_deadlift_90.avi'), WindowsPath('PD_Dataset/Deadlift/Deadlift_deadlift_91.avi'), WindowsPath('PD_Dataset/Deadlift/Deadlift_deadlift_92.avi'), WindowsPath('PD_Dataset/Deadlift/Deadlift_deadlift_93.avi'), WindowsPath('PD_Dataset/Deadlift/Deadlift_deadlift_94.avi'), WindowsPath('PD_Dataset/Deadlift/Deadlift_deadlift_95.avi'), WindowsPath('PD_Dataset/Deadlift/Deadlift_deadlift_96.avi'), WindowsPath('PD_Dataset/Deadlift/Deadlift_deadlift_97.avi'), WindowsPath('PD_Dataset/Deadlift/Deadlift_deadlift_98.avi'), WindowsPath('PD_Dataset/Deadlift/Deadlift_deadlift_99.avi'), WindowsPath('PD_Dataset/Deadlift/Deadlift_[SHANA]Deadlift_1.avi'), WindowsPath('PD_Dataset/Deadlift/Deadlift_[SHANA]Deadlift_10.avi'), WindowsPath('PD_Dataset/Deadlift/Deadlift_[SHANA]Deadlift_11.avi'), WindowsPath('PD_Dataset/Deadlift/Deadlift_[SHANA]Deadlift_12.avi'), WindowsPath('PD_Dataset/Deadlift/Deadlift_[SHANA]Deadlift_13.avi'), WindowsPath('PD_Dataset/Deadlift/Deadlift_[SHANA]Deadlift_14.avi'), WindowsPath('PD_Dataset/Deadlift/Deadlift_[SHANA]Deadlift_15.avi'), WindowsPath('PD_Dataset/Deadlift/Deadlift_[SHANA]Deadlift_16.avi'), WindowsPath('PD_Dataset/Deadlift/Deadlift_[SHANA]Deadlift_2.avi'), WindowsPath('PD_Dataset/Deadlift/Deadlift_[SHANA]Deadlift_3.avi'), WindowsPath('PD_Dataset/Deadlift/Deadlift_[SHANA]Deadlift_4.avi'), WindowsPath('PD_Dataset/Deadlift/Deadlift_[SHANA]Deadlift_5.avi'), WindowsPath('PD_Dataset/Deadlift/Deadlift_[SHANA]Deadlift_6.avi'), WindowsPath('PD_Dataset/Deadlift/Deadlift_[SHANA]Deadlift_7.avi'), WindowsPath('PD_Dataset/Deadlift/Deadlift_[SHANA]Deadlift_8.avi'), WindowsPath('PD_Dataset/Deadlift/Deadlift_[SHANA]Deadlift_9.avi'), WindowsPath('PD_Dataset/LateralRaises/LateralRaises_lateral_raise_100.avi'), WindowsPath('PD_Dataset/LateralRaises/LateralRaises_lateral_raise_101.avi'), WindowsPath('PD_Dataset/LateralRaises/LateralRaises_lateral_raise_102.avi'), WindowsPath('PD_Dataset/LateralRaises/LateralRaises_lateral_raise_103.avi'), WindowsPath('PD_Dataset/LateralRaises/LateralRaises_lateral_raise_104.avi'), WindowsPath('PD_Dataset/LateralRaises/LateralRaises_lateral_raise_105.avi'), WindowsPath('PD_Dataset/LateralRaises/LateralRaises_lateral_raise_106.avi'), WindowsPath('PD_Dataset/LateralRaises/LateralRaises_lateral_raise_107.avi'), WindowsPath('PD_Dataset/LateralRaises/LateralRaises_lateral_raise_108.avi'), WindowsPath('PD_Dataset/LateralRaises/LateralRaises_lateral_raise_109.avi'), WindowsPath('PD_Dataset/LateralRaises/LateralRaises_lateral_raise_110.avi'), WindowsPath('PD_Dataset/LateralRaises/LateralRaises_lateral_raise_111.avi'), WindowsPath('PD_Dataset/LateralRaises/LateralRaises_lateral_raise_12.avi'), WindowsPath('PD_Dataset/LateralRaises/LateralRaises_lateral_raise_16.avi'), WindowsPath('PD_Dataset/LateralRaises/LateralRaises_lateral_raise_17.avi'), WindowsPath('PD_Dataset/LateralRaises/LateralRaises_lateral_raise_2.avi'), WindowsPath('PD_Dataset/LateralRaises/LateralRaises_lateral_raise_20.avi'), WindowsPath('PD_Dataset/LateralRaises/LateralRaises_lateral_raise_24.avi'), WindowsPath('PD_Dataset/LateralRaises/LateralRaises_lateral_raise_26.avi'), WindowsPath('PD_Dataset/LateralRaises/LateralRaises_lateral_raise_28.avi'), WindowsPath('PD_Dataset/LateralRaises/LateralRaises_lateral_raise_29.avi'), WindowsPath('PD_Dataset/LateralRaises/LateralRaises_lateral_raise_3.avi'), WindowsPath('PD_Dataset/LateralRaises/LateralRaises_lateral_raise_31.avi'), WindowsPath('PD_Dataset/LateralRaises/LateralRaises_lateral_raise_32.avi'), WindowsPath('PD_Dataset/LateralRaises/LateralRaises_lateral_raise_33.avi'), WindowsPath('PD_Dataset/LateralRaises/LateralRaises_lateral_raise_34.avi'), WindowsPath('PD_Dataset/LateralRaises/LateralRaises_lateral_raise_35.avi'), WindowsPath('PD_Dataset/LateralRaises/LateralRaises_lateral_raise_39.avi'), WindowsPath('PD_Dataset/LateralRaises/LateralRaises_lateral_raise_4.avi'), WindowsPath('PD_Dataset/LateralRaises/LateralRaises_lateral_raise_40.avi'), WindowsPath('PD_Dataset/LateralRaises/LateralRaises_lateral_raise_41.avi'), WindowsPath('PD_Dataset/LateralRaises/LateralRaises_lateral_raise_42.avi'), WindowsPath('PD_Dataset/LateralRaises/LateralRaises_lateral_raise_43.avi'), WindowsPath('PD_Dataset/LateralRaises/LateralRaises_lateral_raise_44.avi'), WindowsPath('PD_Dataset/LateralRaises/LateralRaises_lateral_raise_45.avi'), WindowsPath('PD_Dataset/LateralRaises/LateralRaises_lateral_raise_47.avi'), WindowsPath('PD_Dataset/LateralRaises/LateralRaises_lateral_raise_49.avi'), WindowsPath('PD_Dataset/LateralRaises/LateralRaises_lateral_raise_5.avi'), WindowsPath('PD_Dataset/LateralRaises/LateralRaises_lateral_raise_50.avi'), WindowsPath('PD_Dataset/LateralRaises/LateralRaises_lateral_raise_51.avi'), WindowsPath('PD_Dataset/LateralRaises/LateralRaises_lateral_raise_52.avi'), WindowsPath('PD_Dataset/LateralRaises/LateralRaises_lateral_raise_53.avi'), WindowsPath('PD_Dataset/LateralRaises/LateralRaises_lateral_raise_54.avi'), WindowsPath('PD_Dataset/LateralRaises/LateralRaises_lateral_raise_55.avi'), WindowsPath('PD_Dataset/LateralRaises/LateralRaises_lateral_raise_56.avi'), WindowsPath('PD_Dataset/LateralRaises/LateralRaises_lateral_raise_57.avi'), WindowsPath('PD_Dataset/LateralRaises/LateralRaises_lateral_raise_58.avi'), WindowsPath('PD_Dataset/LateralRaises/LateralRaises_lateral_raise_59.avi'), WindowsPath('PD_Dataset/LateralRaises/LateralRaises_lateral_raise_6.avi'), WindowsPath('PD_Dataset/LateralRaises/LateralRaises_lateral_raise_60.avi'), WindowsPath('PD_Dataset/LateralRaises/LateralRaises_lateral_raise_61.avi'), WindowsPath('PD_Dataset/LateralRaises/LateralRaises_lateral_raise_62.avi'), WindowsPath('PD_Dataset/LateralRaises/LateralRaises_lateral_raise_63.avi'), WindowsPath('PD_Dataset/LateralRaises/LateralRaises_lateral_raise_64.avi'), WindowsPath('PD_Dataset/LateralRaises/LateralRaises_lateral_raise_65.avi'), WindowsPath('PD_Dataset/LateralRaises/LateralRaises_lateral_raise_66.avi'), WindowsPath('PD_Dataset/LateralRaises/LateralRaises_lateral_raise_67.avi'), WindowsPath('PD_Dataset/LateralRaises/LateralRaises_lateral_raise_68.avi'), WindowsPath('PD_Dataset/LateralRaises/LateralRaises_lateral_raise_69.avi'), WindowsPath('PD_Dataset/LateralRaises/LateralRaises_lateral_raise_70.avi'), WindowsPath('PD_Dataset/LateralRaises/LateralRaises_lateral_raise_71.avi'), WindowsPath('PD_Dataset/LateralRaises/LateralRaises_lateral_raise_72.avi'), WindowsPath('PD_Dataset/LateralRaises/LateralRaises_lateral_raise_73.avi'), WindowsPath('PD_Dataset/LateralRaises/LateralRaises_lateral_raise_74.avi'), WindowsPath('PD_Dataset/LateralRaises/LateralRaises_lateral_raise_75.avi'), WindowsPath('PD_Dataset/LateralRaises/LateralRaises_lateral_raise_76.avi'), WindowsPath('PD_Dataset/LateralRaises/LateralRaises_lateral_raise_77.avi'), WindowsPath('PD_Dataset/LateralRaises/LateralRaises_lateral_raise_78.avi'), WindowsPath('PD_Dataset/LateralRaises/LateralRaises_lateral_raise_79.avi'), WindowsPath('PD_Dataset/LateralRaises/LateralRaises_lateral_raise_80.avi'), WindowsPath('PD_Dataset/LateralRaises/LateralRaises_lateral_raise_81.avi'), WindowsPath('PD_Dataset/LateralRaises/LateralRaises_lateral_raise_82.avi'), WindowsPath('PD_Dataset/LateralRaises/LateralRaises_lateral_raise_83.avi'), WindowsPath('PD_Dataset/LateralRaises/LateralRaises_lateral_raise_84.avi'), WindowsPath('PD_Dataset/LateralRaises/LateralRaises_lateral_raise_85.avi'), WindowsPath('PD_Dataset/LateralRaises/LateralRaises_lateral_raise_86.avi'), WindowsPath('PD_Dataset/LateralRaises/LateralRaises_lateral_raise_87.avi'), WindowsPath('PD_Dataset/LateralRaises/LateralRaises_lateral_raise_88.avi'), WindowsPath('PD_Dataset/LateralRaises/LateralRaises_lateral_raise_89.avi'), WindowsPath('PD_Dataset/LateralRaises/LateralRaises_lateral_raise_90.avi'), WindowsPath('PD_Dataset/LateralRaises/LateralRaises_lateral_raise_91.avi'), WindowsPath('PD_Dataset/LateralRaises/LateralRaises_lateral_raise_92.avi'), WindowsPath('PD_Dataset/LateralRaises/LateralRaises_lateral_raise_93.avi'), WindowsPath('PD_Dataset/LateralRaises/LateralRaises_lateral_raise_94.avi'), WindowsPath('PD_Dataset/LateralRaises/LateralRaises_lateral_raise_95.avi'), WindowsPath('PD_Dataset/LateralRaises/LateralRaises_lateral_raise_97.avi'), WindowsPath('PD_Dataset/LateralRaises/LateralRaises_lateral_raise_98.avi'), WindowsPath('PD_Dataset/LateralRaises/LateralRaises_[SHANA]LateralRaises_1.avi'), WindowsPath('PD_Dataset/LateralRaises/LateralRaises_[SHANA]LateralRaises_10.avi'), WindowsPath('PD_Dataset/LateralRaises/LateralRaises_[SHANA]LateralRaises_11.avi'), WindowsPath('PD_Dataset/LateralRaises/LateralRaises_[SHANA]LateralRaises_12.avi'), WindowsPath('PD_Dataset/LateralRaises/LateralRaises_[SHANA]LateralRaises_13.avi'), WindowsPath('PD_Dataset/LateralRaises/LateralRaises_[SHANA]LateralRaises_14.avi'), WindowsPath('PD_Dataset/LateralRaises/LateralRaises_[SHANA]LateralRaises_15.avi'), WindowsPath('PD_Dataset/LateralRaises/LateralRaises_[SHANA]LateralRaises_16.avi'), WindowsPath('PD_Dataset/LateralRaises/LateralRaises_[SHANA]LateralRaises_17.avi'), WindowsPath('PD_Dataset/LateralRaises/LateralRaises_[SHANA]LateralRaises_18.avi'), WindowsPath('PD_Dataset/LateralRaises/LateralRaises_[SHANA]LateralRaises_19.avi'), WindowsPath('PD_Dataset/LateralRaises/LateralRaises_[SHANA]LateralRaises_2.avi'), WindowsPath('PD_Dataset/LateralRaises/LateralRaises_[SHANA]LateralRaises_20.avi'), WindowsPath('PD_Dataset/LateralRaises/LateralRaises_[SHANA]LateralRaises_21.avi'), WindowsPath('PD_Dataset/LateralRaises/LateralRaises_[SHANA]LateralRaises_22.avi'), WindowsPath('PD_Dataset/LateralRaises/LateralRaises_[SHANA]LateralRaises_23.avi'), WindowsPath('PD_Dataset/LateralRaises/LateralRaises_[SHANA]LateralRaises_24.avi'), WindowsPath('PD_Dataset/LateralRaises/LateralRaises_[SHANA]LateralRaises_25.avi'), WindowsPath('PD_Dataset/LateralRaises/LateralRaises_[SHANA]LateralRaises_26.avi'), WindowsPath('PD_Dataset/LateralRaises/LateralRaises_[SHANA]LateralRaises_27.avi'), WindowsPath('PD_Dataset/LateralRaises/LateralRaises_[SHANA]LateralRaises_28.avi'), WindowsPath('PD_Dataset/LateralRaises/LateralRaises_[SHANA]LateralRaises_29.avi'), WindowsPath('PD_Dataset/LateralRaises/LateralRaises_[SHANA]LateralRaises_3.avi'), WindowsPath('PD_Dataset/LateralRaises/LateralRaises_[SHANA]LateralRaises_30.avi'), WindowsPath('PD_Dataset/LateralRaises/LateralRaises_[SHANA]LateralRaises_31.avi'), WindowsPath('PD_Dataset/LateralRaises/LateralRaises_[SHANA]LateralRaises_32.avi'), WindowsPath('PD_Dataset/LateralRaises/LateralRaises_[SHANA]LateralRaises_33.avi'), WindowsPath('PD_Dataset/LateralRaises/LateralRaises_[SHANA]LateralRaises_34.avi'), WindowsPath('PD_Dataset/LateralRaises/LateralRaises_[SHANA]LateralRaises_35.avi'), WindowsPath('PD_Dataset/LateralRaises/LateralRaises_[SHANA]LateralRaises_36.avi'), WindowsPath('PD_Dataset/LateralRaises/LateralRaises_[SHANA]LateralRaises_37.avi'), WindowsPath('PD_Dataset/LateralRaises/LateralRaises_[SHANA]LateralRaises_38.avi'), WindowsPath('PD_Dataset/LateralRaises/LateralRaises_[SHANA]LateralRaises_4.avi'), WindowsPath('PD_Dataset/LateralRaises/LateralRaises_[SHANA]LateralRaises_5.avi'), WindowsPath('PD_Dataset/LateralRaises/LateralRaises_[SHANA]LateralRaises_6.avi'), WindowsPath('PD_Dataset/LateralRaises/LateralRaises_[SHANA]LateralRaises_7.avi'), WindowsPath('PD_Dataset/LateralRaises/LateralRaises_[SHANA]LateralRaises_8.avi'), WindowsPath('PD_Dataset/LateralRaises/LateralRaises_[SHANA]LateralRaises_9.avi'), WindowsPath('PD_Dataset/OverheadPress/OverheadPress_overhead_press_1.avi'), WindowsPath('PD_Dataset/OverheadPress/OverheadPress_overhead_press_10.avi'), WindowsPath('PD_Dataset/OverheadPress/OverheadPress_overhead_press_100.avi'), WindowsPath('PD_Dataset/OverheadPress/OverheadPress_overhead_press_101.avi'), WindowsPath('PD_Dataset/OverheadPress/OverheadPress_overhead_press_102.avi'), WindowsPath('PD_Dataset/OverheadPress/OverheadPress_overhead_press_103.avi'), WindowsPath('PD_Dataset/OverheadPress/OverheadPress_overhead_press_104.avi'), WindowsPath('PD_Dataset/OverheadPress/OverheadPress_overhead_press_105.avi'), WindowsPath('PD_Dataset/OverheadPress/OverheadPress_overhead_press_106.avi'), WindowsPath('PD_Dataset/OverheadPress/OverheadPress_overhead_press_107.avi'), WindowsPath('PD_Dataset/OverheadPress/OverheadPress_overhead_press_108.avi'), WindowsPath('PD_Dataset/OverheadPress/OverheadPress_overhead_press_109.avi'), WindowsPath('PD_Dataset/OverheadPress/OverheadPress_overhead_press_11.avi'), WindowsPath('PD_Dataset/OverheadPress/OverheadPress_overhead_press_110.avi'), WindowsPath('PD_Dataset/OverheadPress/OverheadPress_overhead_press_111.avi'), WindowsPath('PD_Dataset/OverheadPress/OverheadPress_overhead_press_112.avi'), WindowsPath('PD_Dataset/OverheadPress/OverheadPress_overhead_press_113.avi'), WindowsPath('PD_Dataset/OverheadPress/OverheadPress_overhead_press_114.avi'), WindowsPath('PD_Dataset/OverheadPress/OverheadPress_overhead_press_115.avi'), WindowsPath('PD_Dataset/OverheadPress/OverheadPress_overhead_press_12.avi'), WindowsPath('PD_Dataset/OverheadPress/OverheadPress_overhead_press_13.avi'), WindowsPath('PD_Dataset/OverheadPress/OverheadPress_overhead_press_14.avi'), WindowsPath('PD_Dataset/OverheadPress/OverheadPress_overhead_press_15.avi'), WindowsPath('PD_Dataset/OverheadPress/OverheadPress_overhead_press_16.avi'), WindowsPath('PD_Dataset/OverheadPress/OverheadPress_overhead_press_17.avi'), WindowsPath('PD_Dataset/OverheadPress/OverheadPress_overhead_press_18.avi'), WindowsPath('PD_Dataset/OverheadPress/OverheadPress_overhead_press_19.avi'), WindowsPath('PD_Dataset/OverheadPress/OverheadPress_overhead_press_2.avi'), WindowsPath('PD_Dataset/OverheadPress/OverheadPress_overhead_press_20.avi'), WindowsPath('PD_Dataset/OverheadPress/OverheadPress_overhead_press_21.avi'), WindowsPath('PD_Dataset/OverheadPress/OverheadPress_overhead_press_22.avi'), WindowsPath('PD_Dataset/OverheadPress/OverheadPress_overhead_press_23.avi'), WindowsPath('PD_Dataset/OverheadPress/OverheadPress_overhead_press_24.avi'), WindowsPath('PD_Dataset/OverheadPress/OverheadPress_overhead_press_25.avi'), WindowsPath('PD_Dataset/OverheadPress/OverheadPress_overhead_press_26.avi'), WindowsPath('PD_Dataset/OverheadPress/OverheadPress_overhead_press_27.avi'), WindowsPath('PD_Dataset/OverheadPress/OverheadPress_overhead_press_28.avi'), WindowsPath('PD_Dataset/OverheadPress/OverheadPress_overhead_press_29.avi'), WindowsPath('PD_Dataset/OverheadPress/OverheadPress_overhead_press_3.avi'), WindowsPath('PD_Dataset/OverheadPress/OverheadPress_overhead_press_30.avi'), WindowsPath('PD_Dataset/OverheadPress/OverheadPress_overhead_press_31.avi'), WindowsPath('PD_Dataset/OverheadPress/OverheadPress_overhead_press_32.avi'), WindowsPath('PD_Dataset/OverheadPress/OverheadPress_overhead_press_33.avi'), WindowsPath('PD_Dataset/OverheadPress/OverheadPress_overhead_press_34.avi'), WindowsPath('PD_Dataset/OverheadPress/OverheadPress_overhead_press_35.avi'), WindowsPath('PD_Dataset/OverheadPress/OverheadPress_overhead_press_36.avi'), WindowsPath('PD_Dataset/OverheadPress/OverheadPress_overhead_press_37.avi'), WindowsPath('PD_Dataset/OverheadPress/OverheadPress_overhead_press_38.avi'), WindowsPath('PD_Dataset/OverheadPress/OverheadPress_overhead_press_39.avi'), WindowsPath('PD_Dataset/OverheadPress/OverheadPress_overhead_press_4.avi'), WindowsPath('PD_Dataset/OverheadPress/OverheadPress_overhead_press_40.avi'), WindowsPath('PD_Dataset/OverheadPress/OverheadPress_overhead_press_41.avi'), WindowsPath('PD_Dataset/OverheadPress/OverheadPress_overhead_press_42.avi'), WindowsPath('PD_Dataset/OverheadPress/OverheadPress_overhead_press_43.avi'), WindowsPath('PD_Dataset/OverheadPress/OverheadPress_overhead_press_44.avi'), WindowsPath('PD_Dataset/OverheadPress/OverheadPress_overhead_press_45.avi'), WindowsPath('PD_Dataset/OverheadPress/OverheadPress_overhead_press_46.avi'), WindowsPath('PD_Dataset/OverheadPress/OverheadPress_overhead_press_47.avi'), WindowsPath('PD_Dataset/OverheadPress/OverheadPress_overhead_press_48.avi'), WindowsPath('PD_Dataset/OverheadPress/OverheadPress_overhead_press_49.avi'), WindowsPath('PD_Dataset/OverheadPress/OverheadPress_overhead_press_5.avi'), WindowsPath('PD_Dataset/OverheadPress/OverheadPress_overhead_press_50.avi'), WindowsPath('PD_Dataset/OverheadPress/OverheadPress_overhead_press_51.avi'), WindowsPath('PD_Dataset/OverheadPress/OverheadPress_overhead_press_52.avi'), WindowsPath('PD_Dataset/OverheadPress/OverheadPress_overhead_press_53.avi'), WindowsPath('PD_Dataset/OverheadPress/OverheadPress_overhead_press_54.avi'), WindowsPath('PD_Dataset/OverheadPress/OverheadPress_overhead_press_55.avi'), WindowsPath('PD_Dataset/OverheadPress/OverheadPress_overhead_press_56.avi'), WindowsPath('PD_Dataset/OverheadPress/OverheadPress_overhead_press_57.avi'), WindowsPath('PD_Dataset/OverheadPress/OverheadPress_overhead_press_58.avi'), WindowsPath('PD_Dataset/OverheadPress/OverheadPress_overhead_press_59.avi'), WindowsPath('PD_Dataset/OverheadPress/OverheadPress_overhead_press_6.avi'), WindowsPath('PD_Dataset/OverheadPress/OverheadPress_overhead_press_60.avi'), WindowsPath('PD_Dataset/OverheadPress/OverheadPress_overhead_press_61.avi'), WindowsPath('PD_Dataset/OverheadPress/OverheadPress_overhead_press_62.avi'), WindowsPath('PD_Dataset/OverheadPress/OverheadPress_overhead_press_63.avi'), WindowsPath('PD_Dataset/OverheadPress/OverheadPress_overhead_press_64.avi'), WindowsPath('PD_Dataset/OverheadPress/OverheadPress_overhead_press_65.avi'), WindowsPath('PD_Dataset/OverheadPress/OverheadPress_overhead_press_66.avi'), WindowsPath('PD_Dataset/OverheadPress/OverheadPress_overhead_press_67.avi'), WindowsPath('PD_Dataset/OverheadPress/OverheadPress_overhead_press_68.avi'), WindowsPath('PD_Dataset/OverheadPress/OverheadPress_overhead_press_69.avi'), WindowsPath('PD_Dataset/OverheadPress/OverheadPress_overhead_press_7.avi'), WindowsPath('PD_Dataset/OverheadPress/OverheadPress_overhead_press_70.avi'), WindowsPath('PD_Dataset/OverheadPress/OverheadPress_overhead_press_71.avi'), WindowsPath('PD_Dataset/OverheadPress/OverheadPress_overhead_press_72.avi'), WindowsPath('PD_Dataset/OverheadPress/OverheadPress_overhead_press_73.avi'), WindowsPath('PD_Dataset/OverheadPress/OverheadPress_overhead_press_74.avi'), WindowsPath('PD_Dataset/OverheadPress/OverheadPress_overhead_press_75.avi'), WindowsPath('PD_Dataset/OverheadPress/OverheadPress_overhead_press_76.avi'), WindowsPath('PD_Dataset/OverheadPress/OverheadPress_overhead_press_77.avi'), WindowsPath('PD_Dataset/OverheadPress/OverheadPress_overhead_press_78.avi'), WindowsPath('PD_Dataset/OverheadPress/OverheadPress_overhead_press_79.avi'), WindowsPath('PD_Dataset/OverheadPress/OverheadPress_overhead_press_8.avi'), WindowsPath('PD_Dataset/OverheadPress/OverheadPress_overhead_press_80.avi'), WindowsPath('PD_Dataset/OverheadPress/OverheadPress_overhead_press_81.avi'), WindowsPath('PD_Dataset/OverheadPress/OverheadPress_overhead_press_82.avi'), WindowsPath('PD_Dataset/OverheadPress/OverheadPress_overhead_press_83.avi'), WindowsPath('PD_Dataset/OverheadPress/OverheadPress_overhead_press_84.avi'), WindowsPath('PD_Dataset/OverheadPress/OverheadPress_overhead_press_85.avi'), WindowsPath('PD_Dataset/OverheadPress/OverheadPress_overhead_press_86.avi'), WindowsPath('PD_Dataset/OverheadPress/OverheadPress_overhead_press_87.avi'), WindowsPath('PD_Dataset/OverheadPress/OverheadPress_overhead_press_88.avi'), WindowsPath('PD_Dataset/OverheadPress/OverheadPress_overhead_press_89.avi'), WindowsPath('PD_Dataset/OverheadPress/OverheadPress_overhead_press_9.avi'), WindowsPath('PD_Dataset/OverheadPress/OverheadPress_overhead_press_90.avi'), WindowsPath('PD_Dataset/OverheadPress/OverheadPress_overhead_press_91.avi'), WindowsPath('PD_Dataset/OverheadPress/OverheadPress_overhead_press_92.avi'), WindowsPath('PD_Dataset/OverheadPress/OverheadPress_overhead_press_93.avi'), WindowsPath('PD_Dataset/OverheadPress/OverheadPress_overhead_press_94.avi'), WindowsPath('PD_Dataset/OverheadPress/OverheadPress_overhead_press_95.avi'), WindowsPath('PD_Dataset/OverheadPress/OverheadPress_overhead_press_96.avi'), WindowsPath('PD_Dataset/OverheadPress/OverheadPress_overhead_press_97.avi'), WindowsPath('PD_Dataset/OverheadPress/OverheadPress_overhead_press_98.avi'), WindowsPath('PD_Dataset/OverheadPress/OverheadPress_overhead_press_99.avi'), WindowsPath('PD_Dataset/OverheadPress/OverheadPress_[SHANA]OverheadPress_1.avi'), WindowsPath('PD_Dataset/OverheadPress/OverheadPress_[SHANA]OverheadPress_10.avi'), WindowsPath('PD_Dataset/OverheadPress/OverheadPress_[SHANA]OverheadPress_11.avi'), WindowsPath('PD_Dataset/OverheadPress/OverheadPress_[SHANA]OverheadPress_12.avi'), WindowsPath('PD_Dataset/OverheadPress/OverheadPress_[SHANA]OverheadPress_13.avi'), WindowsPath('PD_Dataset/OverheadPress/OverheadPress_[SHANA]OverheadPress_14.avi'), WindowsPath('PD_Dataset/OverheadPress/OverheadPress_[SHANA]OverheadPress_15.avi'), WindowsPath('PD_Dataset/OverheadPress/OverheadPress_[SHANA]OverheadPress_16.avi'), WindowsPath('PD_Dataset/OverheadPress/OverheadPress_[SHANA]OverheadPress_17.avi'), WindowsPath('PD_Dataset/OverheadPress/OverheadPress_[SHANA]OverheadPress_18.avi'), WindowsPath('PD_Dataset/OverheadPress/OverheadPress_[SHANA]OverheadPress_19.avi'), WindowsPath('PD_Dataset/OverheadPress/OverheadPress_[SHANA]OverheadPress_2.avi'), WindowsPath('PD_Dataset/OverheadPress/OverheadPress_[SHANA]OverheadPress_20.avi'), WindowsPath('PD_Dataset/OverheadPress/OverheadPress_[SHANA]OverheadPress_21.avi'), WindowsPath('PD_Dataset/OverheadPress/OverheadPress_[SHANA]OverheadPress_22.avi'), WindowsPath('PD_Dataset/OverheadPress/OverheadPress_[SHANA]OverheadPress_23.avi'), WindowsPath('PD_Dataset/OverheadPress/OverheadPress_[SHANA]OverheadPress_24.avi'), WindowsPath('PD_Dataset/OverheadPress/OverheadPress_[SHANA]OverheadPress_25.avi'), WindowsPath('PD_Dataset/OverheadPress/OverheadPress_[SHANA]OverheadPress_26.avi'), WindowsPath('PD_Dataset/OverheadPress/OverheadPress_[SHANA]OverheadPress_27.avi'), WindowsPath('PD_Dataset/OverheadPress/OverheadPress_[SHANA]OverheadPress_28.avi'), WindowsPath('PD_Dataset/OverheadPress/OverheadPress_[SHANA]OverheadPress_29.avi'), WindowsPath('PD_Dataset/OverheadPress/OverheadPress_[SHANA]OverheadPress_3.avi'), WindowsPath('PD_Dataset/OverheadPress/OverheadPress_[SHANA]OverheadPress_30.avi'), WindowsPath('PD_Dataset/OverheadPress/OverheadPress_[SHANA]OverheadPress_31.avi'), WindowsPath('PD_Dataset/OverheadPress/OverheadPress_[SHANA]OverheadPress_32.avi'), WindowsPath('PD_Dataset/OverheadPress/OverheadPress_[SHANA]OverheadPress_33.avi'), WindowsPath('PD_Dataset/OverheadPress/OverheadPress_[SHANA]OverheadPress_34.avi'), WindowsPath('PD_Dataset/OverheadPress/OverheadPress_[SHANA]OverheadPress_35.avi'), WindowsPath('PD_Dataset/OverheadPress/OverheadPress_[SHANA]OverheadPress_36.avi'), WindowsPath('PD_Dataset/OverheadPress/OverheadPress_[SHANA]OverheadPress_37.avi'), WindowsPath('PD_Dataset/OverheadPress/OverheadPress_[SHANA]OverheadPress_38.avi'), WindowsPath('PD_Dataset/OverheadPress/OverheadPress_[SHANA]OverheadPress_39.avi'), WindowsPath('PD_Dataset/OverheadPress/OverheadPress_[SHANA]OverheadPress_4.avi'), WindowsPath('PD_Dataset/OverheadPress/OverheadPress_[SHANA]OverheadPress_40.avi'), WindowsPath('PD_Dataset/OverheadPress/OverheadPress_[SHANA]OverheadPress_41.avi'), WindowsPath('PD_Dataset/OverheadPress/OverheadPress_[SHANA]OverheadPress_42.avi'), WindowsPath('PD_Dataset/OverheadPress/OverheadPress_[SHANA]OverheadPress_5.avi'), WindowsPath('PD_Dataset/OverheadPress/OverheadPress_[SHANA]OverheadPress_6.avi'), WindowsPath('PD_Dataset/OverheadPress/OverheadPress_[SHANA]OverheadPress_7.avi'), WindowsPath('PD_Dataset/OverheadPress/OverheadPress_[SHANA]OverheadPress_8.avi'), WindowsPath('PD_Dataset/OverheadPress/OverheadPress_[SHANA]OverheadPress_9.avi'), WindowsPath('PD_Dataset/Squat/Squat_squat_1.avi'), WindowsPath('PD_Dataset/Squat/Squat_squat_10.avi'), WindowsPath('PD_Dataset/Squat/Squat_squat_100.avi'), WindowsPath('PD_Dataset/Squat/Squat_squat_101.avi'), WindowsPath('PD_Dataset/Squat/Squat_squat_102.avi'), WindowsPath('PD_Dataset/Squat/Squat_squat_103.avi'), WindowsPath('PD_Dataset/Squat/Squat_squat_104.avi'), WindowsPath('PD_Dataset/Squat/Squat_squat_105.avi'), WindowsPath('PD_Dataset/Squat/Squat_squat_106.avi'), WindowsPath('PD_Dataset/Squat/Squat_squat_107.avi'), WindowsPath('PD_Dataset/Squat/Squat_squat_108.avi'), WindowsPath('PD_Dataset/Squat/Squat_squat_109.avi'), WindowsPath('PD_Dataset/Squat/Squat_squat_11.avi'), WindowsPath('PD_Dataset/Squat/Squat_squat_110.avi'), WindowsPath('PD_Dataset/Squat/Squat_squat_111.avi'), WindowsPath('PD_Dataset/Squat/Squat_squat_112.avi'), WindowsPath('PD_Dataset/Squat/Squat_squat_113.avi'), WindowsPath('PD_Dataset/Squat/Squat_squat_114.avi'), WindowsPath('PD_Dataset/Squat/Squat_squat_115.avi'), WindowsPath('PD_Dataset/Squat/Squat_squat_116.avi'), WindowsPath('PD_Dataset/Squat/Squat_squat_117.avi'), WindowsPath('PD_Dataset/Squat/Squat_squat_118.avi'), WindowsPath('PD_Dataset/Squat/Squat_squat_12.avi'), WindowsPath('PD_Dataset/Squat/Squat_squat_13.avi'), WindowsPath('PD_Dataset/Squat/Squat_squat_14.avi'), WindowsPath('PD_Dataset/Squat/Squat_squat_15.avi'), WindowsPath('PD_Dataset/Squat/Squat_squat_16.avi'), WindowsPath('PD_Dataset/Squat/Squat_squat_17.avi'), WindowsPath('PD_Dataset/Squat/Squat_squat_18.avi'), WindowsPath('PD_Dataset/Squat/Squat_squat_19.avi'), WindowsPath('PD_Dataset/Squat/Squat_squat_2.avi'), WindowsPath('PD_Dataset/Squat/Squat_squat_20.avi'), WindowsPath('PD_Dataset/Squat/Squat_squat_21.avi'), WindowsPath('PD_Dataset/Squat/Squat_squat_22.avi'), WindowsPath('PD_Dataset/Squat/Squat_squat_23.avi'), WindowsPath('PD_Dataset/Squat/Squat_squat_24.avi'), WindowsPath('PD_Dataset/Squat/Squat_squat_25.avi'), WindowsPath('PD_Dataset/Squat/Squat_squat_26.avi'), WindowsPath('PD_Dataset/Squat/Squat_squat_27.avi'), WindowsPath('PD_Dataset/Squat/Squat_squat_28.avi'), WindowsPath('PD_Dataset/Squat/Squat_squat_29.avi'), WindowsPath('PD_Dataset/Squat/Squat_squat_3.avi'), WindowsPath('PD_Dataset/Squat/Squat_squat_30.avi'), WindowsPath('PD_Dataset/Squat/Squat_squat_31.avi'), WindowsPath('PD_Dataset/Squat/Squat_squat_32.avi'), WindowsPath('PD_Dataset/Squat/Squat_squat_33.avi'), WindowsPath('PD_Dataset/Squat/Squat_squat_34.avi'), WindowsPath('PD_Dataset/Squat/Squat_squat_35.avi'), WindowsPath('PD_Dataset/Squat/Squat_squat_36.avi'), WindowsPath('PD_Dataset/Squat/Squat_squat_37.avi'), WindowsPath('PD_Dataset/Squat/Squat_squat_38.avi'), WindowsPath('PD_Dataset/Squat/Squat_squat_39.avi'), WindowsPath('PD_Dataset/Squat/Squat_squat_4.avi'), WindowsPath('PD_Dataset/Squat/Squat_squat_40.avi'), WindowsPath('PD_Dataset/Squat/Squat_squat_41.avi'), WindowsPath('PD_Dataset/Squat/Squat_squat_42.avi'), WindowsPath('PD_Dataset/Squat/Squat_squat_43.avi'), WindowsPath('PD_Dataset/Squat/Squat_squat_44.avi'), WindowsPath('PD_Dataset/Squat/Squat_squat_45.avi'), WindowsPath('PD_Dataset/Squat/Squat_squat_46.avi'), WindowsPath('PD_Dataset/Squat/Squat_squat_47.avi'), WindowsPath('PD_Dataset/Squat/Squat_squat_48.avi'), WindowsPath('PD_Dataset/Squat/Squat_squat_49.avi'), WindowsPath('PD_Dataset/Squat/Squat_squat_5.avi'), WindowsPath('PD_Dataset/Squat/Squat_squat_50.avi'), WindowsPath('PD_Dataset/Squat/Squat_squat_51.avi'), WindowsPath('PD_Dataset/Squat/Squat_squat_52.avi'), WindowsPath('PD_Dataset/Squat/Squat_squat_53.avi'), WindowsPath('PD_Dataset/Squat/Squat_squat_54.avi'), WindowsPath('PD_Dataset/Squat/Squat_squat_55.avi'), WindowsPath('PD_Dataset/Squat/Squat_squat_56.avi'), WindowsPath('PD_Dataset/Squat/Squat_squat_57.avi'), WindowsPath('PD_Dataset/Squat/Squat_squat_58.avi'), WindowsPath('PD_Dataset/Squat/Squat_squat_59.avi'), WindowsPath('PD_Dataset/Squat/Squat_squat_6.avi'), WindowsPath('PD_Dataset/Squat/Squat_squat_60.avi'), WindowsPath('PD_Dataset/Squat/Squat_squat_61.avi'), WindowsPath('PD_Dataset/Squat/Squat_squat_62.avi'), WindowsPath('PD_Dataset/Squat/Squat_squat_63.avi'), WindowsPath('PD_Dataset/Squat/Squat_squat_64.avi'), WindowsPath('PD_Dataset/Squat/Squat_squat_65.avi'), WindowsPath('PD_Dataset/Squat/Squat_squat_66.avi'), WindowsPath('PD_Dataset/Squat/Squat_squat_67.avi'), WindowsPath('PD_Dataset/Squat/Squat_squat_68.avi'), WindowsPath('PD_Dataset/Squat/Squat_squat_69.avi'), WindowsPath('PD_Dataset/Squat/Squat_squat_7.avi'), WindowsPath('PD_Dataset/Squat/Squat_squat_70.avi'), WindowsPath('PD_Dataset/Squat/Squat_squat_71.avi'), WindowsPath('PD_Dataset/Squat/Squat_squat_72.avi'), WindowsPath('PD_Dataset/Squat/Squat_squat_73.avi'), WindowsPath('PD_Dataset/Squat/Squat_squat_74.avi'), WindowsPath('PD_Dataset/Squat/Squat_squat_75.avi'), WindowsPath('PD_Dataset/Squat/Squat_squat_76.avi'), WindowsPath('PD_Dataset/Squat/Squat_squat_77.avi'), WindowsPath('PD_Dataset/Squat/Squat_squat_78.avi'), WindowsPath('PD_Dataset/Squat/Squat_squat_79.avi'), WindowsPath('PD_Dataset/Squat/Squat_squat_8.avi'), WindowsPath('PD_Dataset/Squat/Squat_squat_80.avi'), WindowsPath('PD_Dataset/Squat/Squat_squat_81.avi'), WindowsPath('PD_Dataset/Squat/Squat_squat_82.avi'), WindowsPath('PD_Dataset/Squat/Squat_squat_83.avi'), WindowsPath('PD_Dataset/Squat/Squat_squat_84.avi'), WindowsPath('PD_Dataset/Squat/Squat_squat_85.avi'), WindowsPath('PD_Dataset/Squat/Squat_squat_86.avi'), WindowsPath('PD_Dataset/Squat/Squat_squat_87.avi'), WindowsPath('PD_Dataset/Squat/Squat_squat_88.avi'), WindowsPath('PD_Dataset/Squat/Squat_squat_89.avi'), WindowsPath('PD_Dataset/Squat/Squat_squat_9.avi'), WindowsPath('PD_Dataset/Squat/Squat_squat_90.avi'), WindowsPath('PD_Dataset/Squat/Squat_squat_91.avi'), WindowsPath('PD_Dataset/Squat/Squat_squat_92.avi'), WindowsPath('PD_Dataset/Squat/Squat_squat_93.avi'), WindowsPath('PD_Dataset/Squat/Squat_squat_94.avi'), WindowsPath('PD_Dataset/Squat/Squat_squat_95.avi'), WindowsPath('PD_Dataset/Squat/Squat_squat_96.avi'), WindowsPath('PD_Dataset/Squat/Squat_squat_97.avi'), WindowsPath('PD_Dataset/Squat/Squat_squat_98.avi'), WindowsPath('PD_Dataset/Squat/Squat_squat_99.avi'), WindowsPath('PD_Dataset/Squat/Squat_[SHANA]Squat_1.avi'), WindowsPath('PD_Dataset/Squat/Squat_[SHANA]Squat_10.avi'), WindowsPath('PD_Dataset/Squat/Squat_[SHANA]Squat_11.avi'), WindowsPath('PD_Dataset/Squat/Squat_[SHANA]Squat_12.avi'), WindowsPath('PD_Dataset/Squat/Squat_[SHANA]Squat_13.avi'), WindowsPath('PD_Dataset/Squat/Squat_[SHANA]Squat_14.avi'), WindowsPath('PD_Dataset/Squat/Squat_[SHANA]Squat_2.avi'), WindowsPath('PD_Dataset/Squat/Squat_[SHANA]Squat_3.avi'), WindowsPath('PD_Dataset/Squat/Squat_[SHANA]Squat_4.avi'), WindowsPath('PD_Dataset/Squat/Squat_[SHANA]Squat_5.avi'), WindowsPath('PD_Dataset/Squat/Squat_[SHANA]Squat_6.avi'), WindowsPath('PD_Dataset/Squat/Squat_[SHANA]Squat_7.avi'), WindowsPath('PD_Dataset/Squat/Squat_[SHANA]Squat_8.avi'), WindowsPath('PD_Dataset/Squat/Squat_[SHANA]Squat_9.avi')]\n"
     ]
    }
   ],
   "source": [
    "categories = [\"BarbellCurl\", \"Deadlift\", \"LateralRaises\", \"OverheadPress\", \"Squat\"]\n",
    "\n",
    "video_labels = [\n",
    "    [video for video in (dataset_dir / category).iterdir() if video.is_file()]\n",
    "    for category in categories\n",
    "]\n",
    "\n",
    "# Flatten and create labels\n",
    "label = [i for i, videos in enumerate(video_labels) for _ in videos]\n",
    "combined = [video for sublist in video_labels for video in sublist]\n",
    "\n",
    "print(label)\n",
    "print(combined)"
   ]
  },
  {
   "cell_type": "code",
   "execution_count": 7,
   "metadata": {},
   "outputs": [
    {
     "data": {
      "text/html": [
       "<div>\n",
       "<style scoped>\n",
       "    .dataframe tbody tr th:only-of-type {\n",
       "        vertical-align: middle;\n",
       "    }\n",
       "\n",
       "    .dataframe tbody tr th {\n",
       "        vertical-align: top;\n",
       "    }\n",
       "\n",
       "    .dataframe thead th {\n",
       "        text-align: right;\n",
       "    }\n",
       "</style>\n",
       "<table border=\"1\" class=\"dataframe\">\n",
       "  <thead>\n",
       "    <tr style=\"text-align: right;\">\n",
       "      <th></th>\n",
       "      <th>file</th>\n",
       "      <th>label</th>\n",
       "    </tr>\n",
       "  </thead>\n",
       "  <tbody>\n",
       "    <tr>\n",
       "      <th>0</th>\n",
       "      <td>PD_Dataset\\BarbellCurl\\BarbellCurl_barbell_cur...</td>\n",
       "      <td>0</td>\n",
       "    </tr>\n",
       "    <tr>\n",
       "      <th>1</th>\n",
       "      <td>PD_Dataset\\BarbellCurl\\BarbellCurl_barbell_cur...</td>\n",
       "      <td>0</td>\n",
       "    </tr>\n",
       "    <tr>\n",
       "      <th>2</th>\n",
       "      <td>PD_Dataset\\BarbellCurl\\BarbellCurl_barbell_cur...</td>\n",
       "      <td>0</td>\n",
       "    </tr>\n",
       "    <tr>\n",
       "      <th>3</th>\n",
       "      <td>PD_Dataset\\BarbellCurl\\BarbellCurl_barbell_cur...</td>\n",
       "      <td>0</td>\n",
       "    </tr>\n",
       "    <tr>\n",
       "      <th>4</th>\n",
       "      <td>PD_Dataset\\BarbellCurl\\BarbellCurl_barbell_cur...</td>\n",
       "      <td>0</td>\n",
       "    </tr>\n",
       "  </tbody>\n",
       "</table>\n",
       "</div>"
      ],
      "text/plain": [
       "                                                file  label\n",
       "0  PD_Dataset\\BarbellCurl\\BarbellCurl_barbell_cur...      0\n",
       "1  PD_Dataset\\BarbellCurl\\BarbellCurl_barbell_cur...      0\n",
       "2  PD_Dataset\\BarbellCurl\\BarbellCurl_barbell_cur...      0\n",
       "3  PD_Dataset\\BarbellCurl\\BarbellCurl_barbell_cur...      0\n",
       "4  PD_Dataset\\BarbellCurl\\BarbellCurl_barbell_cur...      0"
      ]
     },
     "execution_count": 7,
     "metadata": {},
     "output_type": "execute_result"
    }
   ],
   "source": [
    "df = pd.DataFrame(zip(combined, label), columns=[\"file\", \"label\"])\n",
    "df.head()"
   ]
  },
  {
   "cell_type": "code",
   "execution_count": 8,
   "metadata": {},
   "outputs": [
    {
     "data": {
      "text/plain": [
       "label\n",
       "3    157\n",
       "4    132\n",
       "2    125\n",
       "1    124\n",
       "0    123\n",
       "Name: count, dtype: int64"
      ]
     },
     "execution_count": 8,
     "metadata": {},
     "output_type": "execute_result"
    }
   ],
   "source": [
    "df[\"label\"].value_counts()"
   ]
  },
  {
   "cell_type": "markdown",
   "metadata": {},
   "source": [
    "data is not balanced so... Remove tayo randomly :)"
   ]
  },
  {
   "cell_type": "code",
   "execution_count": 9,
   "metadata": {},
   "outputs": [],
   "source": [
    "## Function to balance\n",
    "def balance_dataset(df):\n",
    "    # Find the minimum count among all classes\n",
    "    min_count = df[\"label\"].value_counts().min()\n",
    "    \n",
    "    # Downsample each class to match min_count\n",
    "    balanced_df = (\n",
    "        df.groupby(\"label\").apply(lambda x: x.sample(n=min_count, random_state=43)).reset_index(drop=True)\n",
    "    )\n",
    "    \n",
    "    return balanced_df"
   ]
  },
  {
   "cell_type": "code",
   "execution_count": 10,
   "metadata": {},
   "outputs": [
    {
     "name": "stderr",
     "output_type": "stream",
     "text": [
      "C:\\Users\\kuron\\AppData\\Local\\Temp\\ipykernel_13420\\830260054.py:8: DeprecationWarning: DataFrameGroupBy.apply operated on the grouping columns. This behavior is deprecated, and in a future version of pandas the grouping columns will be excluded from the operation. Either pass `include_groups=False` to exclude the groupings or explicitly select the grouping columns after groupby to silence this warning.\n",
      "  df.groupby(\"label\").apply(lambda x: x.sample(n=min_count, random_state=43)).reset_index(drop=True)\n"
     ]
    },
    {
     "data": {
      "text/plain": [
       "label\n",
       "0    123\n",
       "1    123\n",
       "2    123\n",
       "3    123\n",
       "4    123\n",
       "Name: count, dtype: int64"
      ]
     },
     "execution_count": 10,
     "metadata": {},
     "output_type": "execute_result"
    }
   ],
   "source": [
    "df = balance_dataset(df)\n",
    "df[\"label\"].value_counts() # Check for the number of data"
   ]
  },
  {
   "cell_type": "markdown",
   "metadata": {},
   "source": [
    "#### Split the dataset"
   ]
  },
  {
   "cell_type": "code",
   "execution_count": 11,
   "metadata": {},
   "outputs": [],
   "source": [
    "from sklearn.model_selection import train_test_split\n",
    "from sklearn.metrics import classification_report\n",
    "\n",
    "train_df, val_df = train_test_split(df, test_size=0.3, shuffle=True)\n",
    "val_df, test_df = train_test_split(val_df, test_size=0.1, shuffle=False)"
   ]
  },
  {
   "cell_type": "code",
   "execution_count": 12,
   "metadata": {},
   "outputs": [
    {
     "data": {
      "text/plain": [
       "(430, 166, 19)"
      ]
     },
     "execution_count": 12,
     "metadata": {},
     "output_type": "execute_result"
    }
   ],
   "source": [
    "len(train_df), len(val_df), len(test_df)"
   ]
  },
  {
   "cell_type": "code",
   "execution_count": 13,
   "metadata": {},
   "outputs": [],
   "source": [
    "train_df.to_csv(\"train_df.csv\", header=False , sep=\" \", index=False) \n",
    "val_df.to_csv(\"val_df.csv\", header=False, sep=\" \", index=False)\n",
    "test_df.to_csv(\"test_df.csv\", header=False, sep=\" \", index=False)"
   ]
  },
  {
   "cell_type": "markdown",
   "metadata": {},
   "source": [
    "#### Prepare and augment the dataset for better generalization of the mudel "
   ]
  },
  {
   "cell_type": "code",
   "execution_count": null,
   "metadata": {},
   "outputs": [],
   "source": [
    "from pytorchvideo.transforms import (\n",
    "    ApplyTransformToKey,\n",
    "    Normalize, RandomShortSideScale,\n",
    "    UniformTemporalSubsample, Permute\n",
    ")\n",
    "\n",
    "from torchvision.transforms import (\n",
    "    Compose, Lambda, RandomCrop,\n",
    "    RandomHorizontalFlip, Resize\n",
    ")\n",
    "\n",
    "from torchvision.transforms._transforms_video import (\n",
    "    CenterCropVideo, NormalizeVideo\n",
    ")"
   ]
  },
  {
   "cell_type": "code",
   "execution_count": null,
   "metadata": {},
   "outputs": [],
   "source": [
    "video_transform = Compose([\n",
    "    ApplyTransformToKey(key='video',\n",
    "    transform=Compose([\n",
    "        UniformTemporalSubsample(20),\n",
    "        Lambda(lambda x: x/255.0),\n",
    "        Normalize((0.45, 0.45, 0.45), (0.225, 0.225, 0.225)),\n",
    "        RandomShortSideScale(min_size=112, max_size=128),\n",
    "        CenterCropVideo(112),\n",
    "        RandomHorizontalFlip(p=0.5)\n",
    "    ])\n",
    "    )\n",
    "])"
   ]
  },
  {
   "cell_type": "code",
   "execution_count": null,
   "metadata": {},
   "outputs": [],
   "source": [
    "train_dataset = labeled_video_dataset(\"train_df.csv\",\n",
    "                                      clip_sampler=make_clip_sampler('random', 2),\n",
    "                                      transform=video_transform,\n",
    "                                      decode_audio=False\n",
    "                                      )\n",
    "loader = torch.utils.data.DataLoader(\n",
    "    train_dataset,\n",
    "    batch_size=\n",
    ")"
   ]
  }
 ],
 "metadata": {
  "kernelspec": {
   "display_name": "myenv",
   "language": "python",
   "name": "python3"
  },
  "language_info": {
   "codemirror_mode": {
    "name": "ipython",
    "version": 3
   },
   "file_extension": ".py",
   "mimetype": "text/x-python",
   "name": "python",
   "nbconvert_exporter": "python",
   "pygments_lexer": "ipython3",
   "version": "3.12.9"
  }
 },
 "nbformat": 4,
 "nbformat_minor": 2
}
